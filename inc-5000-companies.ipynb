{
 "cells": [
  {
   "cell_type": "markdown",
   "id": "d38df0d1",
   "metadata": {
    "papermill": {
     "duration": 0.015055,
     "end_time": "2023-09-07T14:59:08.849923",
     "exception": false,
     "start_time": "2023-09-07T14:59:08.834868",
     "status": "completed"
    },
    "tags": []
   },
   "source": [
    "# INC 5000 Companies\n",
    "\n",
    "## Indroduction\n",
    "\n",
    "The dataset is about Inc 5000 companies listed in 2019 year. we will try to explore the dataset and find the useful  \n",
    "insight, but one one doubt is there that what is excatly Inc 5000 companies?  \n",
    "-> The Inc. 5000 lists the 5,000 fastest-growing private companies in the US. The Inc. 5000 is ranked according to percentage revenue growth over a three-year period. To qualify, companies must have been founded and generating revenue by the first week of the starting calendar year, and therefore able to show three full calendar years of sales. Additionally, they have to be U.S.-based, privately held, and independent—not subsidiaries or divisions of other companies—as of December 31 of the last year measured. Revenue in the initial year must have been at least $100,000"
   ]
  },
  {
   "cell_type": "markdown",
   "id": "44eb3a16",
   "metadata": {
    "papermill": {
     "duration": 0.013795,
     "end_time": "2023-09-07T14:59:08.878232",
     "exception": false,
     "start_time": "2023-09-07T14:59:08.864437",
     "status": "completed"
    },
    "tags": []
   },
   "source": [
    "[![download.jpg](https://i.postimg.cc/TYFRKnj2/download.jpg)](https://postimg.cc/CzCytB69)"
   ]
  },
  {
   "cell_type": "markdown",
   "id": "64e8721a",
   "metadata": {
    "papermill": {
     "duration": 0.012981,
     "end_time": "2023-09-07T14:59:08.904684",
     "exception": false,
     "start_time": "2023-09-07T14:59:08.891703",
     "status": "completed"
    },
    "tags": []
   },
   "source": [
    "* [Data Understanding](#1)\n",
    "* [Data Preprocesiing](#2)\n",
    "* [ Data Visualization](#3)\n",
    "* [Conclusion](#4)"
   ]
  },
  {
   "cell_type": "markdown",
   "id": "d4f4f1eb",
   "metadata": {
    "papermill": {
     "duration": 0.012999,
     "end_time": "2023-09-07T14:59:08.930974",
     "exception": false,
     "start_time": "2023-09-07T14:59:08.917975",
     "status": "completed"
    },
    "tags": []
   },
   "source": [
    "## 1. Data Understanding <a id=\"1\"></a>"
   ]
  },
  {
   "cell_type": "markdown",
   "id": "f1ca3145",
   "metadata": {
    "papermill": {
     "duration": 0.013016,
     "end_time": "2023-09-07T14:59:08.957264",
     "exception": false,
     "start_time": "2023-09-07T14:59:08.944248",
     "status": "completed"
    },
    "tags": []
   },
   "source": [
    "**Import Libraries**  \n",
    "First we will import the required libraries which we needed to preprocess the data and for  Vizualization."
   ]
  },
  {
   "cell_type": "code",
   "execution_count": 1,
   "id": "6591a1cb",
   "metadata": {
    "execution": {
     "iopub.execute_input": "2023-09-07T14:59:08.986964Z",
     "iopub.status.busy": "2023-09-07T14:59:08.985822Z",
     "iopub.status.idle": "2023-09-07T14:59:11.626049Z",
     "shell.execute_reply": "2023-09-07T14:59:11.624861Z"
    },
    "papermill": {
     "duration": 2.658419,
     "end_time": "2023-09-07T14:59:11.628954",
     "exception": false,
     "start_time": "2023-09-07T14:59:08.970535",
     "status": "completed"
    },
    "tags": []
   },
   "outputs": [],
   "source": [
    "# for precprocessing\n",
    "import pandas as pd\n",
    "import numpy as np\n",
    "\n",
    "# for vizualization\n",
    "import matplotlib\n",
    "import matplotlib.pyplot as plt\n",
    "import seaborn as sns\n",
    "import plotly.express as px"
   ]
  },
  {
   "cell_type": "markdown",
   "id": "7753432c",
   "metadata": {
    "papermill": {
     "duration": 0.013051,
     "end_time": "2023-09-07T14:59:11.655743",
     "exception": false,
     "start_time": "2023-09-07T14:59:11.642692",
     "status": "completed"
    },
    "tags": []
   },
   "source": [
    "**Bird View of Dataset**  \n",
    "Deep dive in dataset and see the attributes of dataset"
   ]
  },
  {
   "cell_type": "code",
   "execution_count": 2,
   "id": "2d9bd824",
   "metadata": {
    "execution": {
     "iopub.execute_input": "2023-09-07T14:59:11.684804Z",
     "iopub.status.busy": "2023-09-07T14:59:11.683991Z",
     "iopub.status.idle": "2023-09-07T14:59:11.765572Z",
     "shell.execute_reply": "2023-09-07T14:59:11.764519Z"
    },
    "papermill": {
     "duration": 0.099941,
     "end_time": "2023-09-07T14:59:11.769136",
     "exception": false,
     "start_time": "2023-09-07T14:59:11.669195",
     "status": "completed"
    },
    "scrolled": true,
    "tags": []
   },
   "outputs": [
    {
     "data": {
      "text/html": [
       "<div>\n",
       "<style scoped>\n",
       "    .dataframe tbody tr th:only-of-type {\n",
       "        vertical-align: middle;\n",
       "    }\n",
       "\n",
       "    .dataframe tbody tr th {\n",
       "        vertical-align: top;\n",
       "    }\n",
       "\n",
       "    .dataframe thead th {\n",
       "        text-align: right;\n",
       "    }\n",
       "</style>\n",
       "<table border=\"1\" class=\"dataframe\">\n",
       "  <thead>\n",
       "    <tr style=\"text-align: right;\">\n",
       "      <th></th>\n",
       "      <th>rank</th>\n",
       "      <th>profile</th>\n",
       "      <th>name</th>\n",
       "      <th>url</th>\n",
       "      <th>state</th>\n",
       "      <th>revenue</th>\n",
       "      <th>growth_%</th>\n",
       "      <th>industry</th>\n",
       "      <th>workers</th>\n",
       "      <th>previous_workers</th>\n",
       "      <th>founded</th>\n",
       "      <th>yrs_on_list</th>\n",
       "      <th>metro</th>\n",
       "      <th>city</th>\n",
       "    </tr>\n",
       "  </thead>\n",
       "  <tbody>\n",
       "    <tr>\n",
       "      <th>0</th>\n",
       "      <td>1</td>\n",
       "      <td>https://www.inc.com/profile/freestar</td>\n",
       "      <td>Freestar</td>\n",
       "      <td>http://freestar.com</td>\n",
       "      <td>AZ</td>\n",
       "      <td>36.9 Million</td>\n",
       "      <td>36680.3882</td>\n",
       "      <td>Advertising &amp; Marketing</td>\n",
       "      <td>40.0</td>\n",
       "      <td>5</td>\n",
       "      <td>2015</td>\n",
       "      <td>1</td>\n",
       "      <td>Phoenix</td>\n",
       "      <td>Phoenix</td>\n",
       "    </tr>\n",
       "    <tr>\n",
       "      <th>1</th>\n",
       "      <td>2</td>\n",
       "      <td>https://www.inc.com/profile/freightwise</td>\n",
       "      <td>FreightWise</td>\n",
       "      <td>http://freightwisellc.com</td>\n",
       "      <td>TN</td>\n",
       "      <td>33.6 Million</td>\n",
       "      <td>30547.9317</td>\n",
       "      <td>Logistics &amp; Transportation</td>\n",
       "      <td>39.0</td>\n",
       "      <td>8</td>\n",
       "      <td>2015</td>\n",
       "      <td>1</td>\n",
       "      <td>Nashville</td>\n",
       "      <td>Brentwood</td>\n",
       "    </tr>\n",
       "    <tr>\n",
       "      <th>2</th>\n",
       "      <td>3</td>\n",
       "      <td>https://www.inc.com/profile/ceces-veggie</td>\n",
       "      <td>Cece's Veggie Co.</td>\n",
       "      <td>http://cecesveggieco.com</td>\n",
       "      <td>TX</td>\n",
       "      <td>24.9 Million</td>\n",
       "      <td>23880.4852</td>\n",
       "      <td>Food &amp; Beverage</td>\n",
       "      <td>190.0</td>\n",
       "      <td>10</td>\n",
       "      <td>2015</td>\n",
       "      <td>1</td>\n",
       "      <td>Austin</td>\n",
       "      <td>Austin</td>\n",
       "    </tr>\n",
       "    <tr>\n",
       "      <th>3</th>\n",
       "      <td>4</td>\n",
       "      <td>https://www.inc.com/profile/ladyboss</td>\n",
       "      <td>LadyBoss</td>\n",
       "      <td>http://ladyboss.com</td>\n",
       "      <td>NM</td>\n",
       "      <td>32.4 Million</td>\n",
       "      <td>21849.8925</td>\n",
       "      <td>Consumer Products &amp; Services</td>\n",
       "      <td>57.0</td>\n",
       "      <td>2</td>\n",
       "      <td>2014</td>\n",
       "      <td>1</td>\n",
       "      <td>NaN</td>\n",
       "      <td>Albuquerque</td>\n",
       "    </tr>\n",
       "    <tr>\n",
       "      <th>4</th>\n",
       "      <td>5</td>\n",
       "      <td>https://www.inc.com/profile/perpay</td>\n",
       "      <td>Perpay</td>\n",
       "      <td>http://perpay.com</td>\n",
       "      <td>PA</td>\n",
       "      <td>22.5 Million</td>\n",
       "      <td>18166.4070</td>\n",
       "      <td>Retail</td>\n",
       "      <td>25.0</td>\n",
       "      <td>6</td>\n",
       "      <td>2014</td>\n",
       "      <td>1</td>\n",
       "      <td>Philadelphia</td>\n",
       "      <td>Philadelphia</td>\n",
       "    </tr>\n",
       "  </tbody>\n",
       "</table>\n",
       "</div>"
      ],
      "text/plain": [
       "   rank                                   profile               name  \\\n",
       "0     1      https://www.inc.com/profile/freestar           Freestar   \n",
       "1     2   https://www.inc.com/profile/freightwise        FreightWise   \n",
       "2     3  https://www.inc.com/profile/ceces-veggie  Cece's Veggie Co.   \n",
       "3     4      https://www.inc.com/profile/ladyboss           LadyBoss   \n",
       "4     5        https://www.inc.com/profile/perpay             Perpay   \n",
       "\n",
       "                         url state       revenue    growth_%  \\\n",
       "0        http://freestar.com    AZ  36.9 Million  36680.3882   \n",
       "1  http://freightwisellc.com    TN  33.6 Million  30547.9317   \n",
       "2   http://cecesveggieco.com    TX  24.9 Million  23880.4852   \n",
       "3        http://ladyboss.com    NM  32.4 Million  21849.8925   \n",
       "4          http://perpay.com    PA  22.5 Million  18166.4070   \n",
       "\n",
       "                       industry  workers  previous_workers  founded  \\\n",
       "0       Advertising & Marketing     40.0                 5     2015   \n",
       "1    Logistics & Transportation     39.0                 8     2015   \n",
       "2               Food & Beverage    190.0                10     2015   \n",
       "3  Consumer Products & Services     57.0                 2     2014   \n",
       "4                        Retail     25.0                 6     2014   \n",
       "\n",
       "   yrs_on_list         metro          city  \n",
       "0            1       Phoenix       Phoenix  \n",
       "1            1     Nashville     Brentwood  \n",
       "2            1        Austin        Austin  \n",
       "3            1           NaN   Albuquerque  \n",
       "4            1  Philadelphia  Philadelphia  "
      ]
     },
     "execution_count": 2,
     "metadata": {},
     "output_type": "execute_result"
    }
   ],
   "source": [
    "# Load the dataset\n",
    "df = pd.read_csv('../input/inc-5000-companies/INC 5000 Companies 2019.csv')\n",
    "df.head()"
   ]
  },
  {
   "cell_type": "code",
   "execution_count": 3,
   "id": "ea109714",
   "metadata": {
    "execution": {
     "iopub.execute_input": "2023-09-07T14:59:11.798985Z",
     "iopub.status.busy": "2023-09-07T14:59:11.798189Z",
     "iopub.status.idle": "2023-09-07T14:59:11.804828Z",
     "shell.execute_reply": "2023-09-07T14:59:11.803694Z"
    },
    "papermill": {
     "duration": 0.024077,
     "end_time": "2023-09-07T14:59:11.807037",
     "exception": false,
     "start_time": "2023-09-07T14:59:11.782960",
     "status": "completed"
    },
    "tags": []
   },
   "outputs": [
    {
     "name": "stdout",
     "output_type": "stream",
     "text": [
      "Dataset have 5012 rows and 14 columns\n"
     ]
    }
   ],
   "source": [
    "# get the shape of dataset\n",
    "print('Dataset have {} rows and {} columns'.format(df.shape[0], df.shape[1]))"
   ]
  },
  {
   "cell_type": "code",
   "execution_count": 4,
   "id": "47572483",
   "metadata": {
    "execution": {
     "iopub.execute_input": "2023-09-07T14:59:11.837004Z",
     "iopub.status.busy": "2023-09-07T14:59:11.836003Z",
     "iopub.status.idle": "2023-09-07T14:59:11.866943Z",
     "shell.execute_reply": "2023-09-07T14:59:11.866184Z"
    },
    "papermill": {
     "duration": 0.048646,
     "end_time": "2023-09-07T14:59:11.869627",
     "exception": false,
     "start_time": "2023-09-07T14:59:11.820981",
     "status": "completed"
    },
    "tags": []
   },
   "outputs": [
    {
     "name": "stdout",
     "output_type": "stream",
     "text": [
      "<class 'pandas.core.frame.DataFrame'>\n",
      "RangeIndex: 5012 entries, 0 to 5011\n",
      "Data columns (total 14 columns):\n",
      " #   Column            Non-Null Count  Dtype  \n",
      "---  ------            --------------  -----  \n",
      " 0   rank              5012 non-null   int64  \n",
      " 1   profile           5012 non-null   object \n",
      " 2   name              5012 non-null   object \n",
      " 3   url               5012 non-null   object \n",
      " 4   state             5012 non-null   object \n",
      " 5   revenue           5012 non-null   object \n",
      " 6   growth_%          5012 non-null   float64\n",
      " 7   industry          5012 non-null   object \n",
      " 8   workers           5011 non-null   float64\n",
      " 9   previous_workers  5012 non-null   int64  \n",
      " 10  founded           5012 non-null   int64  \n",
      " 11  yrs_on_list       5012 non-null   int64  \n",
      " 12  metro             4199 non-null   object \n",
      " 13  city              5012 non-null   object \n",
      "dtypes: float64(2), int64(4), object(8)\n",
      "memory usage: 548.3+ KB\n"
     ]
    }
   ],
   "source": [
    "# Use this fucntion to find the data type of variable\n",
    "df.info()"
   ]
  },
  {
   "cell_type": "markdown",
   "id": "3f365026",
   "metadata": {
    "papermill": {
     "duration": 0.013773,
     "end_time": "2023-09-07T14:59:11.899136",
     "exception": false,
     "start_time": "2023-09-07T14:59:11.885363",
     "status": "completed"
    },
    "tags": []
   },
   "source": [
    "**Inference:** The data type of Revenue variable given as object but it needed to change to numeric variable "
   ]
  },
  {
   "cell_type": "code",
   "execution_count": 5,
   "id": "a19f5c97",
   "metadata": {
    "execution": {
     "iopub.execute_input": "2023-09-07T14:59:11.929124Z",
     "iopub.status.busy": "2023-09-07T14:59:11.928509Z",
     "iopub.status.idle": "2023-09-07T14:59:11.965549Z",
     "shell.execute_reply": "2023-09-07T14:59:11.964535Z"
    },
    "papermill": {
     "duration": 0.054971,
     "end_time": "2023-09-07T14:59:11.968208",
     "exception": false,
     "start_time": "2023-09-07T14:59:11.913237",
     "status": "completed"
    },
    "tags": []
   },
   "outputs": [
    {
     "data": {
      "text/html": [
       "<div>\n",
       "<style scoped>\n",
       "    .dataframe tbody tr th:only-of-type {\n",
       "        vertical-align: middle;\n",
       "    }\n",
       "\n",
       "    .dataframe tbody tr th {\n",
       "        vertical-align: top;\n",
       "    }\n",
       "\n",
       "    .dataframe thead th {\n",
       "        text-align: right;\n",
       "    }\n",
       "</style>\n",
       "<table border=\"1\" class=\"dataframe\">\n",
       "  <thead>\n",
       "    <tr style=\"text-align: right;\">\n",
       "      <th></th>\n",
       "      <th>rank</th>\n",
       "      <th>growth_%</th>\n",
       "      <th>workers</th>\n",
       "      <th>previous_workers</th>\n",
       "      <th>founded</th>\n",
       "      <th>yrs_on_list</th>\n",
       "    </tr>\n",
       "  </thead>\n",
       "  <tbody>\n",
       "    <tr>\n",
       "      <th>count</th>\n",
       "      <td>5012.000000</td>\n",
       "      <td>5012.000000</td>\n",
       "      <td>5011.000000</td>\n",
       "      <td>5012.000000</td>\n",
       "      <td>5012.000000</td>\n",
       "      <td>5012.000000</td>\n",
       "    </tr>\n",
       "    <tr>\n",
       "      <th>mean</th>\n",
       "      <td>2499.628292</td>\n",
       "      <td>454.680059</td>\n",
       "      <td>242.783077</td>\n",
       "      <td>111.687151</td>\n",
       "      <td>2005.445531</td>\n",
       "      <td>2.813647</td>\n",
       "    </tr>\n",
       "    <tr>\n",
       "      <th>std</th>\n",
       "      <td>1443.232009</td>\n",
       "      <td>1284.288709</td>\n",
       "      <td>2800.165478</td>\n",
       "      <td>1073.878175</td>\n",
       "      <td>30.310632</td>\n",
       "      <td>2.265986</td>\n",
       "    </tr>\n",
       "    <tr>\n",
       "      <th>min</th>\n",
       "      <td>1.000000</td>\n",
       "      <td>52.169100</td>\n",
       "      <td>0.000000</td>\n",
       "      <td>1.000000</td>\n",
       "      <td>0.000000</td>\n",
       "      <td>1.000000</td>\n",
       "    </tr>\n",
       "    <tr>\n",
       "      <th>25%</th>\n",
       "      <td>1249.750000</td>\n",
       "      <td>90.562500</td>\n",
       "      <td>22.000000</td>\n",
       "      <td>8.000000</td>\n",
       "      <td>2003.000000</td>\n",
       "      <td>1.000000</td>\n",
       "    </tr>\n",
       "    <tr>\n",
       "      <th>50%</th>\n",
       "      <td>2497.500000</td>\n",
       "      <td>157.530650</td>\n",
       "      <td>48.000000</td>\n",
       "      <td>20.000000</td>\n",
       "      <td>2009.000000</td>\n",
       "      <td>2.000000</td>\n",
       "    </tr>\n",
       "    <tr>\n",
       "      <th>75%</th>\n",
       "      <td>3749.250000</td>\n",
       "      <td>330.427250</td>\n",
       "      <td>116.000000</td>\n",
       "      <td>50.000000</td>\n",
       "      <td>2012.000000</td>\n",
       "      <td>4.000000</td>\n",
       "    </tr>\n",
       "    <tr>\n",
       "      <th>max</th>\n",
       "      <td>5000.000000</td>\n",
       "      <td>36680.388200</td>\n",
       "      <td>155000.000000</td>\n",
       "      <td>53000.000000</td>\n",
       "      <td>2016.000000</td>\n",
       "      <td>14.000000</td>\n",
       "    </tr>\n",
       "  </tbody>\n",
       "</table>\n",
       "</div>"
      ],
      "text/plain": [
       "              rank      growth_%        workers  previous_workers  \\\n",
       "count  5012.000000   5012.000000    5011.000000       5012.000000   \n",
       "mean   2499.628292    454.680059     242.783077        111.687151   \n",
       "std    1443.232009   1284.288709    2800.165478       1073.878175   \n",
       "min       1.000000     52.169100       0.000000          1.000000   \n",
       "25%    1249.750000     90.562500      22.000000          8.000000   \n",
       "50%    2497.500000    157.530650      48.000000         20.000000   \n",
       "75%    3749.250000    330.427250     116.000000         50.000000   \n",
       "max    5000.000000  36680.388200  155000.000000      53000.000000   \n",
       "\n",
       "           founded  yrs_on_list  \n",
       "count  5012.000000  5012.000000  \n",
       "mean   2005.445531     2.813647  \n",
       "std      30.310632     2.265986  \n",
       "min       0.000000     1.000000  \n",
       "25%    2003.000000     1.000000  \n",
       "50%    2009.000000     2.000000  \n",
       "75%    2012.000000     4.000000  \n",
       "max    2016.000000    14.000000  "
      ]
     },
     "execution_count": 5,
     "metadata": {},
     "output_type": "execute_result"
    }
   ],
   "source": [
    "# basic statistical properties of numeric variable\n",
    "df.describe()"
   ]
  },
  {
   "cell_type": "markdown",
   "id": "50b90e52",
   "metadata": {
    "papermill": {
     "duration": 0.01404,
     "end_time": "2023-09-07T14:59:11.996736",
     "exception": false,
     "start_time": "2023-09-07T14:59:11.982696",
     "status": "completed"
    },
    "tags": []
   },
   "source": [
    "Now we see the descriptive statistics such as count, mean, standard deviation, minimum,maximum, quantiles"
   ]
  },
  {
   "cell_type": "code",
   "execution_count": 6,
   "id": "15876b95",
   "metadata": {
    "execution": {
     "iopub.execute_input": "2023-09-07T14:59:12.027783Z",
     "iopub.status.busy": "2023-09-07T14:59:12.026799Z",
     "iopub.status.idle": "2023-09-07T14:59:12.043256Z",
     "shell.execute_reply": "2023-09-07T14:59:12.042492Z"
    },
    "papermill": {
     "duration": 0.034264,
     "end_time": "2023-09-07T14:59:12.045507",
     "exception": false,
     "start_time": "2023-09-07T14:59:12.011243",
     "status": "completed"
    },
    "tags": []
   },
   "outputs": [
    {
     "data": {
      "text/plain": [
       "metro               16.221069\n",
       "workers              0.019952\n",
       "rank                 0.000000\n",
       "profile              0.000000\n",
       "name                 0.000000\n",
       "url                  0.000000\n",
       "state                0.000000\n",
       "revenue              0.000000\n",
       "growth_%             0.000000\n",
       "industry             0.000000\n",
       "previous_workers     0.000000\n",
       "founded              0.000000\n",
       "yrs_on_list          0.000000\n",
       "city                 0.000000\n",
       "dtype: float64"
      ]
     },
     "execution_count": 6,
     "metadata": {},
     "output_type": "execute_result"
    }
   ],
   "source": [
    "# null value percentage \n",
    "percentage_of_null_values = ((df.isnull().sum())*100/len(df)).sort_values(ascending = False)\n",
    "percentage_of_null_values"
   ]
  },
  {
   "cell_type": "code",
   "execution_count": 7,
   "id": "d468a88e",
   "metadata": {
    "execution": {
     "iopub.execute_input": "2023-09-07T14:59:12.077284Z",
     "iopub.status.busy": "2023-09-07T14:59:12.076061Z",
     "iopub.status.idle": "2023-09-07T14:59:12.083883Z",
     "shell.execute_reply": "2023-09-07T14:59:12.083106Z"
    },
    "papermill": {
     "duration": 0.026018,
     "end_time": "2023-09-07T14:59:12.086160",
     "exception": false,
     "start_time": "2023-09-07T14:59:12.060142",
     "status": "completed"
    },
    "tags": []
   },
   "outputs": [
    {
     "data": {
      "text/plain": [
       "1"
      ]
     },
     "execution_count": 7,
     "metadata": {},
     "output_type": "execute_result"
    }
   ],
   "source": [
    "df['workers'].isna().sum()"
   ]
  },
  {
   "cell_type": "markdown",
   "id": "3fefa0c9",
   "metadata": {
    "papermill": {
     "duration": 0.014361,
     "end_time": "2023-09-07T14:59:12.115562",
     "exception": false,
     "start_time": "2023-09-07T14:59:12.101201",
     "status": "completed"
    },
    "tags": []
   },
   "source": [
    "**Inference:** In the dataset null value is only there in two column, metro and workers."
   ]
  },
  {
   "cell_type": "markdown",
   "id": "b39d03fa",
   "metadata": {
    "papermill": {
     "duration": 0.014391,
     "end_time": "2023-09-07T14:59:12.144751",
     "exception": false,
     "start_time": "2023-09-07T14:59:12.130360",
     "status": "completed"
    },
    "tags": []
   },
   "source": [
    "## 2. Data Preprocessing  <a id=\"2\"></a>\n",
    "In this part we will deal with the missing value, outlier, different data type of variable.  \n",
    "This section handles wrangling the data and solving any apparent exisiting issues.\n",
    "\n"
   ]
  },
  {
   "cell_type": "markdown",
   "id": "a149c6b0",
   "metadata": {
    "papermill": {
     "duration": 0.014694,
     "end_time": "2023-09-07T14:59:12.174185",
     "exception": false,
     "start_time": "2023-09-07T14:59:12.159491",
     "status": "completed"
    },
    "tags": []
   },
   "source": [
    "**Change the data type**  \n",
    "We will change the datatype of revenue from obect to numeric(float)"
   ]
  },
  {
   "cell_type": "code",
   "execution_count": 8,
   "id": "ad552f4e",
   "metadata": {
    "execution": {
     "iopub.execute_input": "2023-09-07T14:59:12.205416Z",
     "iopub.status.busy": "2023-09-07T14:59:12.204769Z",
     "iopub.status.idle": "2023-09-07T14:59:13.868769Z",
     "shell.execute_reply": "2023-09-07T14:59:13.867645Z"
    },
    "papermill": {
     "duration": 1.683287,
     "end_time": "2023-09-07T14:59:13.872115",
     "exception": false,
     "start_time": "2023-09-07T14:59:12.188828",
     "status": "completed"
    },
    "tags": []
   },
   "outputs": [
    {
     "name": "stdout",
     "output_type": "stream",
     "text": [
      "float64\n"
     ]
    }
   ],
   "source": [
    "df['revenue'] = df['revenue'].replace({'Million':'', 'Billion': '*1000'}, regex = True).map(pd.eval)\n",
    "print(df['revenue'].dtype)\n",
    "\n",
    "# change the column name\n",
    "df.rename(columns = {'revenue':'revenue_in_millions'}, inplace = True)  "
   ]
  },
  {
   "cell_type": "code",
   "execution_count": 9,
   "id": "2dd13969",
   "metadata": {
    "execution": {
     "iopub.execute_input": "2023-09-07T14:59:13.914506Z",
     "iopub.status.busy": "2023-09-07T14:59:13.913920Z",
     "iopub.status.idle": "2023-09-07T14:59:13.941807Z",
     "shell.execute_reply": "2023-09-07T14:59:13.940548Z"
    },
    "papermill": {
     "duration": 0.050753,
     "end_time": "2023-09-07T14:59:13.944407",
     "exception": false,
     "start_time": "2023-09-07T14:59:13.893654",
     "status": "completed"
    },
    "tags": []
   },
   "outputs": [
    {
     "data": {
      "text/html": [
       "<div>\n",
       "<style scoped>\n",
       "    .dataframe tbody tr th:only-of-type {\n",
       "        vertical-align: middle;\n",
       "    }\n",
       "\n",
       "    .dataframe tbody tr th {\n",
       "        vertical-align: top;\n",
       "    }\n",
       "\n",
       "    .dataframe thead th {\n",
       "        text-align: right;\n",
       "    }\n",
       "</style>\n",
       "<table border=\"1\" class=\"dataframe\">\n",
       "  <thead>\n",
       "    <tr style=\"text-align: right;\">\n",
       "      <th></th>\n",
       "      <th>rank</th>\n",
       "      <th>profile</th>\n",
       "      <th>name</th>\n",
       "      <th>url</th>\n",
       "      <th>state</th>\n",
       "      <th>revenue_in_millions</th>\n",
       "      <th>growth_%</th>\n",
       "      <th>industry</th>\n",
       "      <th>workers</th>\n",
       "      <th>previous_workers</th>\n",
       "      <th>founded</th>\n",
       "      <th>yrs_on_list</th>\n",
       "      <th>metro</th>\n",
       "      <th>city</th>\n",
       "    </tr>\n",
       "  </thead>\n",
       "  <tbody>\n",
       "    <tr>\n",
       "      <th>0</th>\n",
       "      <td>1</td>\n",
       "      <td>https://www.inc.com/profile/freestar</td>\n",
       "      <td>Freestar</td>\n",
       "      <td>http://freestar.com</td>\n",
       "      <td>AZ</td>\n",
       "      <td>36.9</td>\n",
       "      <td>36680.3882</td>\n",
       "      <td>Advertising &amp; Marketing</td>\n",
       "      <td>40.0</td>\n",
       "      <td>5</td>\n",
       "      <td>2015</td>\n",
       "      <td>1</td>\n",
       "      <td>Phoenix</td>\n",
       "      <td>Phoenix</td>\n",
       "    </tr>\n",
       "    <tr>\n",
       "      <th>1</th>\n",
       "      <td>2</td>\n",
       "      <td>https://www.inc.com/profile/freightwise</td>\n",
       "      <td>FreightWise</td>\n",
       "      <td>http://freightwisellc.com</td>\n",
       "      <td>TN</td>\n",
       "      <td>33.6</td>\n",
       "      <td>30547.9317</td>\n",
       "      <td>Logistics &amp; Transportation</td>\n",
       "      <td>39.0</td>\n",
       "      <td>8</td>\n",
       "      <td>2015</td>\n",
       "      <td>1</td>\n",
       "      <td>Nashville</td>\n",
       "      <td>Brentwood</td>\n",
       "    </tr>\n",
       "    <tr>\n",
       "      <th>2</th>\n",
       "      <td>3</td>\n",
       "      <td>https://www.inc.com/profile/ceces-veggie</td>\n",
       "      <td>Cece's Veggie Co.</td>\n",
       "      <td>http://cecesveggieco.com</td>\n",
       "      <td>TX</td>\n",
       "      <td>24.9</td>\n",
       "      <td>23880.4852</td>\n",
       "      <td>Food &amp; Beverage</td>\n",
       "      <td>190.0</td>\n",
       "      <td>10</td>\n",
       "      <td>2015</td>\n",
       "      <td>1</td>\n",
       "      <td>Austin</td>\n",
       "      <td>Austin</td>\n",
       "    </tr>\n",
       "    <tr>\n",
       "      <th>3</th>\n",
       "      <td>4</td>\n",
       "      <td>https://www.inc.com/profile/ladyboss</td>\n",
       "      <td>LadyBoss</td>\n",
       "      <td>http://ladyboss.com</td>\n",
       "      <td>NM</td>\n",
       "      <td>32.4</td>\n",
       "      <td>21849.8925</td>\n",
       "      <td>Consumer Products &amp; Services</td>\n",
       "      <td>57.0</td>\n",
       "      <td>2</td>\n",
       "      <td>2014</td>\n",
       "      <td>1</td>\n",
       "      <td>NaN</td>\n",
       "      <td>Albuquerque</td>\n",
       "    </tr>\n",
       "    <tr>\n",
       "      <th>4</th>\n",
       "      <td>5</td>\n",
       "      <td>https://www.inc.com/profile/perpay</td>\n",
       "      <td>Perpay</td>\n",
       "      <td>http://perpay.com</td>\n",
       "      <td>PA</td>\n",
       "      <td>22.5</td>\n",
       "      <td>18166.4070</td>\n",
       "      <td>Retail</td>\n",
       "      <td>25.0</td>\n",
       "      <td>6</td>\n",
       "      <td>2014</td>\n",
       "      <td>1</td>\n",
       "      <td>Philadelphia</td>\n",
       "      <td>Philadelphia</td>\n",
       "    </tr>\n",
       "  </tbody>\n",
       "</table>\n",
       "</div>"
      ],
      "text/plain": [
       "   rank                                   profile               name  \\\n",
       "0     1      https://www.inc.com/profile/freestar           Freestar   \n",
       "1     2   https://www.inc.com/profile/freightwise        FreightWise   \n",
       "2     3  https://www.inc.com/profile/ceces-veggie  Cece's Veggie Co.   \n",
       "3     4      https://www.inc.com/profile/ladyboss           LadyBoss   \n",
       "4     5        https://www.inc.com/profile/perpay             Perpay   \n",
       "\n",
       "                         url state  revenue_in_millions    growth_%  \\\n",
       "0        http://freestar.com    AZ                 36.9  36680.3882   \n",
       "1  http://freightwisellc.com    TN                 33.6  30547.9317   \n",
       "2   http://cecesveggieco.com    TX                 24.9  23880.4852   \n",
       "3        http://ladyboss.com    NM                 32.4  21849.8925   \n",
       "4          http://perpay.com    PA                 22.5  18166.4070   \n",
       "\n",
       "                       industry  workers  previous_workers  founded  \\\n",
       "0       Advertising & Marketing     40.0                 5     2015   \n",
       "1    Logistics & Transportation     39.0                 8     2015   \n",
       "2               Food & Beverage    190.0                10     2015   \n",
       "3  Consumer Products & Services     57.0                 2     2014   \n",
       "4                        Retail     25.0                 6     2014   \n",
       "\n",
       "   yrs_on_list         metro          city  \n",
       "0            1       Phoenix       Phoenix  \n",
       "1            1     Nashville     Brentwood  \n",
       "2            1        Austin        Austin  \n",
       "3            1           NaN   Albuquerque  \n",
       "4            1  Philadelphia  Philadelphia  "
      ]
     },
     "execution_count": 9,
     "metadata": {},
     "output_type": "execute_result"
    }
   ],
   "source": [
    "df.head()"
   ]
  },
  {
   "cell_type": "markdown",
   "id": "cf99afd7",
   "metadata": {
    "papermill": {
     "duration": 0.017585,
     "end_time": "2023-09-07T14:59:13.979286",
     "exception": false,
     "start_time": "2023-09-07T14:59:13.961701",
     "status": "completed"
    },
    "tags": []
   },
   "source": [
    "**Dealing with missing value**  \n",
    "Metro variable contain almost 16.30% missing value so we will substitute the null value with the mode value and  \n",
    "workers variable contian missing value less than 0.02% so simply remove the null value as missing is very less"
   ]
  },
  {
   "cell_type": "code",
   "execution_count": 10,
   "id": "d6474f22",
   "metadata": {
    "execution": {
     "iopub.execute_input": "2023-09-07T14:59:14.011899Z",
     "iopub.status.busy": "2023-09-07T14:59:14.010963Z",
     "iopub.status.idle": "2023-09-07T14:59:14.033432Z",
     "shell.execute_reply": "2023-09-07T14:59:14.032358Z"
    },
    "papermill": {
     "duration": 0.041273,
     "end_time": "2023-09-07T14:59:14.035878",
     "exception": false,
     "start_time": "2023-09-07T14:59:13.994605",
     "status": "completed"
    },
    "tags": []
   },
   "outputs": [
    {
     "name": "stdout",
     "output_type": "stream",
     "text": [
      "Null value in metro variable: 0\n",
      "Null value in metro variable: 0\n"
     ]
    }
   ],
   "source": [
    "mode_value = df['metro'].mode()  # calculate the mode of metro variable\n",
    "df['metro'].fillna(mode_value[0], inplace = True)    # replace the null value with mode value\n",
    "\n",
    "# now check the null value\n",
    "print('Null value in metro variable:',df['metro'].isna().sum())\n",
    "\n",
    "# remove the null value from workers column\n",
    "df.dropna(axis = 0, inplace = True)\n",
    "\n",
    "print('Null value in metro variable:',df['workers'].isna().sum())\n",
    "\n"
   ]
  },
  {
   "cell_type": "markdown",
   "id": "8343bf10",
   "metadata": {
    "papermill": {
     "duration": 0.015433,
     "end_time": "2023-09-07T14:59:14.067249",
     "exception": false,
     "start_time": "2023-09-07T14:59:14.051816",
     "status": "completed"
    },
    "tags": []
   },
   "source": [
    "**Inference:**  Now in dataset there is no null value as null value in metro is replace by mode and workers null value are removed"
   ]
  },
  {
   "cell_type": "markdown",
   "id": "3a587bc1",
   "metadata": {
    "papermill": {
     "duration": 0.014899,
     "end_time": "2023-09-07T14:59:14.097792",
     "exception": false,
     "start_time": "2023-09-07T14:59:14.082893",
     "status": "completed"
    },
    "tags": []
   },
   "source": [
    "**Remove the unwanted column**  \n",
    "As the profile and url column have no use, it will be better to drop that column frim the dataset"
   ]
  },
  {
   "cell_type": "code",
   "execution_count": 11,
   "id": "95053398",
   "metadata": {
    "execution": {
     "iopub.execute_input": "2023-09-07T14:59:14.130399Z",
     "iopub.status.busy": "2023-09-07T14:59:14.129435Z",
     "iopub.status.idle": "2023-09-07T14:59:14.151562Z",
     "shell.execute_reply": "2023-09-07T14:59:14.150466Z"
    },
    "papermill": {
     "duration": 0.040866,
     "end_time": "2023-09-07T14:59:14.153969",
     "exception": false,
     "start_time": "2023-09-07T14:59:14.113103",
     "status": "completed"
    },
    "tags": []
   },
   "outputs": [
    {
     "data": {
      "text/html": [
       "<div>\n",
       "<style scoped>\n",
       "    .dataframe tbody tr th:only-of-type {\n",
       "        vertical-align: middle;\n",
       "    }\n",
       "\n",
       "    .dataframe tbody tr th {\n",
       "        vertical-align: top;\n",
       "    }\n",
       "\n",
       "    .dataframe thead th {\n",
       "        text-align: right;\n",
       "    }\n",
       "</style>\n",
       "<table border=\"1\" class=\"dataframe\">\n",
       "  <thead>\n",
       "    <tr style=\"text-align: right;\">\n",
       "      <th></th>\n",
       "      <th>rank</th>\n",
       "      <th>name</th>\n",
       "      <th>state</th>\n",
       "      <th>revenue_in_millions</th>\n",
       "      <th>growth_%</th>\n",
       "      <th>industry</th>\n",
       "      <th>workers</th>\n",
       "      <th>previous_workers</th>\n",
       "      <th>founded</th>\n",
       "      <th>yrs_on_list</th>\n",
       "      <th>metro</th>\n",
       "      <th>city</th>\n",
       "    </tr>\n",
       "  </thead>\n",
       "  <tbody>\n",
       "    <tr>\n",
       "      <th>0</th>\n",
       "      <td>1</td>\n",
       "      <td>Freestar</td>\n",
       "      <td>AZ</td>\n",
       "      <td>36.9</td>\n",
       "      <td>36680.3882</td>\n",
       "      <td>Advertising &amp; Marketing</td>\n",
       "      <td>40.0</td>\n",
       "      <td>5</td>\n",
       "      <td>2015</td>\n",
       "      <td>1</td>\n",
       "      <td>Phoenix</td>\n",
       "      <td>Phoenix</td>\n",
       "    </tr>\n",
       "    <tr>\n",
       "      <th>1</th>\n",
       "      <td>2</td>\n",
       "      <td>FreightWise</td>\n",
       "      <td>TN</td>\n",
       "      <td>33.6</td>\n",
       "      <td>30547.9317</td>\n",
       "      <td>Logistics &amp; Transportation</td>\n",
       "      <td>39.0</td>\n",
       "      <td>8</td>\n",
       "      <td>2015</td>\n",
       "      <td>1</td>\n",
       "      <td>Nashville</td>\n",
       "      <td>Brentwood</td>\n",
       "    </tr>\n",
       "    <tr>\n",
       "      <th>2</th>\n",
       "      <td>3</td>\n",
       "      <td>Cece's Veggie Co.</td>\n",
       "      <td>TX</td>\n",
       "      <td>24.9</td>\n",
       "      <td>23880.4852</td>\n",
       "      <td>Food &amp; Beverage</td>\n",
       "      <td>190.0</td>\n",
       "      <td>10</td>\n",
       "      <td>2015</td>\n",
       "      <td>1</td>\n",
       "      <td>Austin</td>\n",
       "      <td>Austin</td>\n",
       "    </tr>\n",
       "    <tr>\n",
       "      <th>3</th>\n",
       "      <td>4</td>\n",
       "      <td>LadyBoss</td>\n",
       "      <td>NM</td>\n",
       "      <td>32.4</td>\n",
       "      <td>21849.8925</td>\n",
       "      <td>Consumer Products &amp; Services</td>\n",
       "      <td>57.0</td>\n",
       "      <td>2</td>\n",
       "      <td>2014</td>\n",
       "      <td>1</td>\n",
       "      <td>New York City</td>\n",
       "      <td>Albuquerque</td>\n",
       "    </tr>\n",
       "    <tr>\n",
       "      <th>4</th>\n",
       "      <td>5</td>\n",
       "      <td>Perpay</td>\n",
       "      <td>PA</td>\n",
       "      <td>22.5</td>\n",
       "      <td>18166.4070</td>\n",
       "      <td>Retail</td>\n",
       "      <td>25.0</td>\n",
       "      <td>6</td>\n",
       "      <td>2014</td>\n",
       "      <td>1</td>\n",
       "      <td>Philadelphia</td>\n",
       "      <td>Philadelphia</td>\n",
       "    </tr>\n",
       "  </tbody>\n",
       "</table>\n",
       "</div>"
      ],
      "text/plain": [
       "   rank               name state  revenue_in_millions    growth_%  \\\n",
       "0     1           Freestar    AZ                 36.9  36680.3882   \n",
       "1     2        FreightWise    TN                 33.6  30547.9317   \n",
       "2     3  Cece's Veggie Co.    TX                 24.9  23880.4852   \n",
       "3     4           LadyBoss    NM                 32.4  21849.8925   \n",
       "4     5             Perpay    PA                 22.5  18166.4070   \n",
       "\n",
       "                       industry  workers  previous_workers  founded  \\\n",
       "0       Advertising & Marketing     40.0                 5     2015   \n",
       "1    Logistics & Transportation     39.0                 8     2015   \n",
       "2               Food & Beverage    190.0                10     2015   \n",
       "3  Consumer Products & Services     57.0                 2     2014   \n",
       "4                        Retail     25.0                 6     2014   \n",
       "\n",
       "   yrs_on_list          metro          city  \n",
       "0            1        Phoenix       Phoenix  \n",
       "1            1      Nashville     Brentwood  \n",
       "2            1         Austin        Austin  \n",
       "3            1  New York City   Albuquerque  \n",
       "4            1   Philadelphia  Philadelphia  "
      ]
     },
     "execution_count": 11,
     "metadata": {},
     "output_type": "execute_result"
    }
   ],
   "source": [
    "df.drop(['profile','url'], axis = 1, inplace = True)\n",
    "df.head()"
   ]
  },
  {
   "cell_type": "markdown",
   "id": "21989969",
   "metadata": {
    "papermill": {
     "duration": 0.015292,
     "end_time": "2023-09-07T14:59:14.184882",
     "exception": false,
     "start_time": "2023-09-07T14:59:14.169590",
     "status": "completed"
    },
    "tags": []
   },
   "source": [
    "## 3. Data Visualization <a id=\"3\"></a>"
   ]
  },
  {
   "cell_type": "markdown",
   "id": "fafd3aca",
   "metadata": {
    "papermill": {
     "duration": 0.015849,
     "end_time": "2023-09-07T14:59:14.216609",
     "exception": false,
     "start_time": "2023-09-07T14:59:14.200760",
     "status": "completed"
    },
    "tags": []
   },
   "source": [
    "**1)Top 10 state from where maximum comapanies are established ?**"
   ]
  },
  {
   "cell_type": "code",
   "execution_count": 12,
   "id": "a9f34f21",
   "metadata": {
    "execution": {
     "iopub.execute_input": "2023-09-07T14:59:14.251118Z",
     "iopub.status.busy": "2023-09-07T14:59:14.250048Z",
     "iopub.status.idle": "2023-09-07T14:59:15.497089Z",
     "shell.execute_reply": "2023-09-07T14:59:15.496050Z"
    },
    "papermill": {
     "duration": 1.266673,
     "end_time": "2023-09-07T14:59:15.499933",
     "exception": false,
     "start_time": "2023-09-07T14:59:14.233260",
     "status": "completed"
    },
    "tags": []
   },
   "outputs": [
    {
     "data": {
      "text/html": [
       "        <script type=\"text/javascript\">\n",
       "        window.PlotlyConfig = {MathJaxConfig: 'local'};\n",
       "        if (window.MathJax && window.MathJax.Hub && window.MathJax.Hub.Config) {window.MathJax.Hub.Config({SVG: {font: \"STIX-Web\"}});}\n",
       "        if (typeof require !== 'undefined') {\n",
       "        require.undef(\"plotly\");\n",
       "        requirejs.config({\n",
       "            paths: {\n",
       "                'plotly': ['https://cdn.plot.ly/plotly-2.12.1.min']\n",
       "            }\n",
       "        });\n",
       "        require(['plotly'], function(Plotly) {\n",
       "            window._Plotly = Plotly;\n",
       "        });\n",
       "        }\n",
       "        </script>\n",
       "        "
      ]
     },
     "metadata": {},
     "output_type": "display_data"
    },
    {
     "data": {
      "text/html": [
       "<div>                            <div id=\"08ced0be-c127-4335-b9eb-7b0671b1d009\" class=\"plotly-graph-div\" style=\"height:525px; width:100%;\"></div>            <script type=\"text/javascript\">                require([\"plotly\"], function(Plotly) {                    window.PLOTLYENV=window.PLOTLYENV || {};                                    if (document.getElementById(\"08ced0be-c127-4335-b9eb-7b0671b1d009\")) {                    Plotly.newPlot(                        \"08ced0be-c127-4335-b9eb-7b0671b1d009\",                        [{\"alignmentgroup\":\"True\",\"hovertemplate\":\"count=%{x}<br>state=%{y}<extra></extra>\",\"legendgroup\":\"\",\"marker\":{\"color\":\"#440154\",\"pattern\":{\"shape\":\"\"}},\"name\":\"\",\"offsetgroup\":\"\",\"orientation\":\"h\",\"showlegend\":false,\"textposition\":\"auto\",\"x\":[712,467,384,300,288,241,219,172,160,156],\"xaxis\":\"x\",\"y\":[\"CA\",\"TX\",\"FL\",\"NY\",\"VA\",\"IL\",\"GA\",\"PA\",\"OH\",\"CO\"],\"yaxis\":\"y\",\"type\":\"bar\"}],                        {\"template\":{\"data\":{\"histogram2dcontour\":[{\"type\":\"histogram2dcontour\",\"colorbar\":{\"outlinewidth\":0,\"ticks\":\"\"},\"colorscale\":[[0.0,\"#0d0887\"],[0.1111111111111111,\"#46039f\"],[0.2222222222222222,\"#7201a8\"],[0.3333333333333333,\"#9c179e\"],[0.4444444444444444,\"#bd3786\"],[0.5555555555555556,\"#d8576b\"],[0.6666666666666666,\"#ed7953\"],[0.7777777777777778,\"#fb9f3a\"],[0.8888888888888888,\"#fdca26\"],[1.0,\"#f0f921\"]]}],\"choropleth\":[{\"type\":\"choropleth\",\"colorbar\":{\"outlinewidth\":0,\"ticks\":\"\"}}],\"histogram2d\":[{\"type\":\"histogram2d\",\"colorbar\":{\"outlinewidth\":0,\"ticks\":\"\"},\"colorscale\":[[0.0,\"#0d0887\"],[0.1111111111111111,\"#46039f\"],[0.2222222222222222,\"#7201a8\"],[0.3333333333333333,\"#9c179e\"],[0.4444444444444444,\"#bd3786\"],[0.5555555555555556,\"#d8576b\"],[0.6666666666666666,\"#ed7953\"],[0.7777777777777778,\"#fb9f3a\"],[0.8888888888888888,\"#fdca26\"],[1.0,\"#f0f921\"]]}],\"heatmap\":[{\"type\":\"heatmap\",\"colorbar\":{\"outlinewidth\":0,\"ticks\":\"\"},\"colorscale\":[[0.0,\"#0d0887\"],[0.1111111111111111,\"#46039f\"],[0.2222222222222222,\"#7201a8\"],[0.3333333333333333,\"#9c179e\"],[0.4444444444444444,\"#bd3786\"],[0.5555555555555556,\"#d8576b\"],[0.6666666666666666,\"#ed7953\"],[0.7777777777777778,\"#fb9f3a\"],[0.8888888888888888,\"#fdca26\"],[1.0,\"#f0f921\"]]}],\"heatmapgl\":[{\"type\":\"heatmapgl\",\"colorbar\":{\"outlinewidth\":0,\"ticks\":\"\"},\"colorscale\":[[0.0,\"#0d0887\"],[0.1111111111111111,\"#46039f\"],[0.2222222222222222,\"#7201a8\"],[0.3333333333333333,\"#9c179e\"],[0.4444444444444444,\"#bd3786\"],[0.5555555555555556,\"#d8576b\"],[0.6666666666666666,\"#ed7953\"],[0.7777777777777778,\"#fb9f3a\"],[0.8888888888888888,\"#fdca26\"],[1.0,\"#f0f921\"]]}],\"contourcarpet\":[{\"type\":\"contourcarpet\",\"colorbar\":{\"outlinewidth\":0,\"ticks\":\"\"}}],\"contour\":[{\"type\":\"contour\",\"colorbar\":{\"outlinewidth\":0,\"ticks\":\"\"},\"colorscale\":[[0.0,\"#0d0887\"],[0.1111111111111111,\"#46039f\"],[0.2222222222222222,\"#7201a8\"],[0.3333333333333333,\"#9c179e\"],[0.4444444444444444,\"#bd3786\"],[0.5555555555555556,\"#d8576b\"],[0.6666666666666666,\"#ed7953\"],[0.7777777777777778,\"#fb9f3a\"],[0.8888888888888888,\"#fdca26\"],[1.0,\"#f0f921\"]]}],\"surface\":[{\"type\":\"surface\",\"colorbar\":{\"outlinewidth\":0,\"ticks\":\"\"},\"colorscale\":[[0.0,\"#0d0887\"],[0.1111111111111111,\"#46039f\"],[0.2222222222222222,\"#7201a8\"],[0.3333333333333333,\"#9c179e\"],[0.4444444444444444,\"#bd3786\"],[0.5555555555555556,\"#d8576b\"],[0.6666666666666666,\"#ed7953\"],[0.7777777777777778,\"#fb9f3a\"],[0.8888888888888888,\"#fdca26\"],[1.0,\"#f0f921\"]]}],\"mesh3d\":[{\"type\":\"mesh3d\",\"colorbar\":{\"outlinewidth\":0,\"ticks\":\"\"}}],\"scatter\":[{\"fillpattern\":{\"fillmode\":\"overlay\",\"size\":10,\"solidity\":0.2},\"type\":\"scatter\"}],\"parcoords\":[{\"type\":\"parcoords\",\"line\":{\"colorbar\":{\"outlinewidth\":0,\"ticks\":\"\"}}}],\"scatterpolargl\":[{\"type\":\"scatterpolargl\",\"marker\":{\"colorbar\":{\"outlinewidth\":0,\"ticks\":\"\"}}}],\"bar\":[{\"error_x\":{\"color\":\"#2a3f5f\"},\"error_y\":{\"color\":\"#2a3f5f\"},\"marker\":{\"line\":{\"color\":\"#E5ECF6\",\"width\":0.5},\"pattern\":{\"fillmode\":\"overlay\",\"size\":10,\"solidity\":0.2}},\"type\":\"bar\"}],\"scattergeo\":[{\"type\":\"scattergeo\",\"marker\":{\"colorbar\":{\"outlinewidth\":0,\"ticks\":\"\"}}}],\"scatterpolar\":[{\"type\":\"scatterpolar\",\"marker\":{\"colorbar\":{\"outlinewidth\":0,\"ticks\":\"\"}}}],\"histogram\":[{\"marker\":{\"pattern\":{\"fillmode\":\"overlay\",\"size\":10,\"solidity\":0.2}},\"type\":\"histogram\"}],\"scattergl\":[{\"type\":\"scattergl\",\"marker\":{\"colorbar\":{\"outlinewidth\":0,\"ticks\":\"\"}}}],\"scatter3d\":[{\"type\":\"scatter3d\",\"line\":{\"colorbar\":{\"outlinewidth\":0,\"ticks\":\"\"}},\"marker\":{\"colorbar\":{\"outlinewidth\":0,\"ticks\":\"\"}}}],\"scattermapbox\":[{\"type\":\"scattermapbox\",\"marker\":{\"colorbar\":{\"outlinewidth\":0,\"ticks\":\"\"}}}],\"scatterternary\":[{\"type\":\"scatterternary\",\"marker\":{\"colorbar\":{\"outlinewidth\":0,\"ticks\":\"\"}}}],\"scattercarpet\":[{\"type\":\"scattercarpet\",\"marker\":{\"colorbar\":{\"outlinewidth\":0,\"ticks\":\"\"}}}],\"carpet\":[{\"aaxis\":{\"endlinecolor\":\"#2a3f5f\",\"gridcolor\":\"white\",\"linecolor\":\"white\",\"minorgridcolor\":\"white\",\"startlinecolor\":\"#2a3f5f\"},\"baxis\":{\"endlinecolor\":\"#2a3f5f\",\"gridcolor\":\"white\",\"linecolor\":\"white\",\"minorgridcolor\":\"white\",\"startlinecolor\":\"#2a3f5f\"},\"type\":\"carpet\"}],\"table\":[{\"cells\":{\"fill\":{\"color\":\"#EBF0F8\"},\"line\":{\"color\":\"white\"}},\"header\":{\"fill\":{\"color\":\"#C8D4E3\"},\"line\":{\"color\":\"white\"}},\"type\":\"table\"}],\"barpolar\":[{\"marker\":{\"line\":{\"color\":\"#E5ECF6\",\"width\":0.5},\"pattern\":{\"fillmode\":\"overlay\",\"size\":10,\"solidity\":0.2}},\"type\":\"barpolar\"}],\"pie\":[{\"automargin\":true,\"type\":\"pie\"}]},\"layout\":{\"autotypenumbers\":\"strict\",\"colorway\":[\"#636efa\",\"#EF553B\",\"#00cc96\",\"#ab63fa\",\"#FFA15A\",\"#19d3f3\",\"#FF6692\",\"#B6E880\",\"#FF97FF\",\"#FECB52\"],\"font\":{\"color\":\"#2a3f5f\"},\"hovermode\":\"closest\",\"hoverlabel\":{\"align\":\"left\"},\"paper_bgcolor\":\"white\",\"plot_bgcolor\":\"#E5ECF6\",\"polar\":{\"bgcolor\":\"#E5ECF6\",\"angularaxis\":{\"gridcolor\":\"white\",\"linecolor\":\"white\",\"ticks\":\"\"},\"radialaxis\":{\"gridcolor\":\"white\",\"linecolor\":\"white\",\"ticks\":\"\"}},\"ternary\":{\"bgcolor\":\"#E5ECF6\",\"aaxis\":{\"gridcolor\":\"white\",\"linecolor\":\"white\",\"ticks\":\"\"},\"baxis\":{\"gridcolor\":\"white\",\"linecolor\":\"white\",\"ticks\":\"\"},\"caxis\":{\"gridcolor\":\"white\",\"linecolor\":\"white\",\"ticks\":\"\"}},\"coloraxis\":{\"colorbar\":{\"outlinewidth\":0,\"ticks\":\"\"}},\"colorscale\":{\"sequential\":[[0.0,\"#0d0887\"],[0.1111111111111111,\"#46039f\"],[0.2222222222222222,\"#7201a8\"],[0.3333333333333333,\"#9c179e\"],[0.4444444444444444,\"#bd3786\"],[0.5555555555555556,\"#d8576b\"],[0.6666666666666666,\"#ed7953\"],[0.7777777777777778,\"#fb9f3a\"],[0.8888888888888888,\"#fdca26\"],[1.0,\"#f0f921\"]],\"sequentialminus\":[[0.0,\"#0d0887\"],[0.1111111111111111,\"#46039f\"],[0.2222222222222222,\"#7201a8\"],[0.3333333333333333,\"#9c179e\"],[0.4444444444444444,\"#bd3786\"],[0.5555555555555556,\"#d8576b\"],[0.6666666666666666,\"#ed7953\"],[0.7777777777777778,\"#fb9f3a\"],[0.8888888888888888,\"#fdca26\"],[1.0,\"#f0f921\"]],\"diverging\":[[0,\"#8e0152\"],[0.1,\"#c51b7d\"],[0.2,\"#de77ae\"],[0.3,\"#f1b6da\"],[0.4,\"#fde0ef\"],[0.5,\"#f7f7f7\"],[0.6,\"#e6f5d0\"],[0.7,\"#b8e186\"],[0.8,\"#7fbc41\"],[0.9,\"#4d9221\"],[1,\"#276419\"]]},\"xaxis\":{\"gridcolor\":\"white\",\"linecolor\":\"white\",\"ticks\":\"\",\"title\":{\"standoff\":15},\"zerolinecolor\":\"white\",\"automargin\":true,\"zerolinewidth\":2},\"yaxis\":{\"gridcolor\":\"white\",\"linecolor\":\"white\",\"ticks\":\"\",\"title\":{\"standoff\":15},\"zerolinecolor\":\"white\",\"automargin\":true,\"zerolinewidth\":2},\"scene\":{\"xaxis\":{\"backgroundcolor\":\"#E5ECF6\",\"gridcolor\":\"white\",\"linecolor\":\"white\",\"showbackground\":true,\"ticks\":\"\",\"zerolinecolor\":\"white\",\"gridwidth\":2},\"yaxis\":{\"backgroundcolor\":\"#E5ECF6\",\"gridcolor\":\"white\",\"linecolor\":\"white\",\"showbackground\":true,\"ticks\":\"\",\"zerolinecolor\":\"white\",\"gridwidth\":2},\"zaxis\":{\"backgroundcolor\":\"#E5ECF6\",\"gridcolor\":\"white\",\"linecolor\":\"white\",\"showbackground\":true,\"ticks\":\"\",\"zerolinecolor\":\"white\",\"gridwidth\":2}},\"shapedefaults\":{\"line\":{\"color\":\"#2a3f5f\"}},\"annotationdefaults\":{\"arrowcolor\":\"#2a3f5f\",\"arrowhead\":0,\"arrowwidth\":1},\"geo\":{\"bgcolor\":\"white\",\"landcolor\":\"#E5ECF6\",\"subunitcolor\":\"white\",\"showland\":true,\"showlakes\":true,\"lakecolor\":\"white\"},\"title\":{\"x\":0.05},\"mapbox\":{\"style\":\"light\"}}},\"xaxis\":{\"anchor\":\"y\",\"domain\":[0.0,1.0],\"title\":{\"text\":\"count\"}},\"yaxis\":{\"anchor\":\"x\",\"domain\":[0.0,1.0],\"title\":{\"text\":\"state\"}},\"legend\":{\"tracegroupgap\":0},\"title\":{\"text\":\"Top 10 state from where maximum comapanies are established\"},\"barmode\":\"relative\"},                        {\"responsive\": true}                    ).then(function(){\n",
       "                            \n",
       "var gd = document.getElementById('08ced0be-c127-4335-b9eb-7b0671b1d009');\n",
       "var x = new MutationObserver(function (mutations, observer) {{\n",
       "        var display = window.getComputedStyle(gd).display;\n",
       "        if (!display || display === 'none') {{\n",
       "            console.log([gd, 'removed!']);\n",
       "            Plotly.purge(gd);\n",
       "            observer.disconnect();\n",
       "        }}\n",
       "}});\n",
       "\n",
       "// Listen for the removal of the full notebook cells\n",
       "var notebookContainer = gd.closest('#notebook-container');\n",
       "if (notebookContainer) {{\n",
       "    x.observe(notebookContainer, {childList: true});\n",
       "}}\n",
       "\n",
       "// Listen for the clearing of the current output cell\n",
       "var outputEl = gd.closest('.output');\n",
       "if (outputEl) {{\n",
       "    x.observe(outputEl, {childList: true});\n",
       "}}\n",
       "\n",
       "                        })                };                });            </script>        </div>"
      ]
     },
     "metadata": {},
     "output_type": "display_data"
    }
   ],
   "source": [
    "df1 = df['state'].value_counts().head(10).reset_index()\n",
    "df1.columns = ['state', 'count']\n",
    "\n",
    "px.bar(df1,x = 'count', \n",
    "       y = 'state',\n",
    "       color_discrete_sequence =  px.colors.sequential.Viridis,\n",
    "      title = 'Top 10 state from where maximum comapanies are established')"
   ]
  },
  {
   "cell_type": "markdown",
   "id": "427438ff",
   "metadata": {
    "papermill": {
     "duration": 0.015675,
     "end_time": "2023-09-07T14:59:15.532151",
     "exception": false,
     "start_time": "2023-09-07T14:59:15.516476",
     "status": "completed"
    },
    "tags": []
   },
   "source": [
    "**Inference:** maximum number of comapny are established in california which is 712 followed by texas and florida."
   ]
  },
  {
   "cell_type": "markdown",
   "id": "53fc64fc",
   "metadata": {
    "papermill": {
     "duration": 0.016496,
     "end_time": "2023-09-07T14:59:15.564674",
     "exception": false,
     "start_time": "2023-09-07T14:59:15.548178",
     "status": "completed"
    },
    "tags": []
   },
   "source": [
    " **2) Top company who have the hightest revenue in Inc 5000**"
   ]
  },
  {
   "cell_type": "code",
   "execution_count": 13,
   "id": "d3f9ca7e",
   "metadata": {
    "execution": {
     "iopub.execute_input": "2023-09-07T14:59:15.598837Z",
     "iopub.status.busy": "2023-09-07T14:59:15.598091Z",
     "iopub.status.idle": "2023-09-07T14:59:15.959834Z",
     "shell.execute_reply": "2023-09-07T14:59:15.958756Z"
    },
    "papermill": {
     "duration": 0.381457,
     "end_time": "2023-09-07T14:59:15.962173",
     "exception": false,
     "start_time": "2023-09-07T14:59:15.580716",
     "status": "completed"
    },
    "tags": []
   },
   "outputs": [
    {
     "data": {
      "image/png": "[encoded data removed]",
      "text/plain": [
       "<Figure size 1152x504 with 1 Axes>"
      ]
     },
     "metadata": {},
     "output_type": "display_data"
    }
   ],
   "source": [
    "df2 = df.nlargest(10,['revenue_in_millions'])\n",
    "df2 = df2[['name', 'revenue_in_millions']]\n",
    "\n",
    "sns.set_style('darkgrid')\n",
    "plt.figure(figsize = (16,7))\n",
    "sns.color_palette(\"crest\", as_cmap=True)\n",
    "\n",
    "sns.barplot(x = 'revenue_in_millions', y = 'name', data = df2, palette = 'rocket')\n",
    "plt.title('Top 10 company in Inc 5000 by revenue');"
   ]
  },
  {
   "cell_type": "markdown",
   "id": "b0357d19",
   "metadata": {
    "papermill": {
     "duration": 0.017019,
     "end_time": "2023-09-07T14:59:15.997860",
     "exception": false,
     "start_time": "2023-09-07T14:59:15.980841",
     "status": "completed"
    },
    "tags": []
   },
   "source": [
    "**Infernce:** The Prime Therapeutics company make highest revenue of 21400 million then by  \n",
    "Uber techologies and Allied Univeral"
   ]
  },
  {
   "cell_type": "markdown",
   "id": "c5206a66",
   "metadata": {
    "papermill": {
     "duration": 0.016162,
     "end_time": "2023-09-07T14:59:16.030934",
     "exception": false,
     "start_time": "2023-09-07T14:59:16.014772",
     "status": "completed"
    },
    "tags": []
   },
   "source": [
    "**3) Which are the most prominent industry in  Inc 5000 ?**"
   ]
  },
  {
   "cell_type": "code",
   "execution_count": 14,
   "id": "d5406e11",
   "metadata": {
    "execution": {
     "iopub.execute_input": "2023-09-07T14:59:16.066070Z",
     "iopub.status.busy": "2023-09-07T14:59:16.065575Z",
     "iopub.status.idle": "2023-09-07T14:59:16.177551Z",
     "shell.execute_reply": "2023-09-07T14:59:16.176529Z"
    },
    "papermill": {
     "duration": 0.132464,
     "end_time": "2023-09-07T14:59:16.180013",
     "exception": false,
     "start_time": "2023-09-07T14:59:16.047549",
     "status": "completed"
    },
    "tags": []
   },
   "outputs": [
    {
     "data": {
      "text/html": [
       "<div>                            <div id=\"814849f4-d2ee-42b9-a9a0-e3aef108bf3a\" class=\"plotly-graph-div\" style=\"height:525px; width:100%;\"></div>            <script type=\"text/javascript\">                require([\"plotly\"], function(Plotly) {                    window.PLOTLYENV=window.PLOTLYENV || {};                                    if (document.getElementById(\"814849f4-d2ee-42b9-a9a0-e3aef108bf3a\")) {                    Plotly.newPlot(                        \"814849f4-d2ee-42b9-a9a0-e3aef108bf3a\",                        [{\"branchvalues\":\"total\",\"domain\":{\"x\":[0.0,1.0],\"y\":[0.0,1.0]},\"hovertemplate\":\"labels=%{label}<br>count=%{value}<br>parent=%{parent}<br>id=%{id}<extra></extra>\",\"ids\":[\"Advertising & Marketing\",\"Business Products & Services\",\"Construction\",\"Consumer Products & Services\",\"Financial Services\",\"Government Services\",\"Health\",\"IT Management\",\"Real Estate\",\"Software\"],\"labels\":[\"Advertising & Marketing\",\"Business Products & Services\",\"Construction\",\"Consumer Products & Services\",\"Financial Services\",\"Government Services\",\"Health\",\"IT Management\",\"Real Estate\",\"Software\"],\"name\":\"\",\"parents\":[\"\",\"\",\"\",\"\",\"\",\"\",\"\",\"\",\"\",\"\"],\"values\":[489,492,350,314,239,236,356,276,198,461],\"type\":\"treemap\"}],                        {\"template\":{\"data\":{\"histogram2dcontour\":[{\"type\":\"histogram2dcontour\",\"colorbar\":{\"outlinewidth\":0,\"ticks\":\"\"},\"colorscale\":[[0.0,\"#0d0887\"],[0.1111111111111111,\"#46039f\"],[0.2222222222222222,\"#7201a8\"],[0.3333333333333333,\"#9c179e\"],[0.4444444444444444,\"#bd3786\"],[0.5555555555555556,\"#d8576b\"],[0.6666666666666666,\"#ed7953\"],[0.7777777777777778,\"#fb9f3a\"],[0.8888888888888888,\"#fdca26\"],[1.0,\"#f0f921\"]]}],\"choropleth\":[{\"type\":\"choropleth\",\"colorbar\":{\"outlinewidth\":0,\"ticks\":\"\"}}],\"histogram2d\":[{\"type\":\"histogram2d\",\"colorbar\":{\"outlinewidth\":0,\"ticks\":\"\"},\"colorscale\":[[0.0,\"#0d0887\"],[0.1111111111111111,\"#46039f\"],[0.2222222222222222,\"#7201a8\"],[0.3333333333333333,\"#9c179e\"],[0.4444444444444444,\"#bd3786\"],[0.5555555555555556,\"#d8576b\"],[0.6666666666666666,\"#ed7953\"],[0.7777777777777778,\"#fb9f3a\"],[0.8888888888888888,\"#fdca26\"],[1.0,\"#f0f921\"]]}],\"heatmap\":[{\"type\":\"heatmap\",\"colorbar\":{\"outlinewidth\":0,\"ticks\":\"\"},\"colorscale\":[[0.0,\"#0d0887\"],[0.1111111111111111,\"#46039f\"],[0.2222222222222222,\"#7201a8\"],[0.3333333333333333,\"#9c179e\"],[0.4444444444444444,\"#bd3786\"],[0.5555555555555556,\"#d8576b\"],[0.6666666666666666,\"#ed7953\"],[0.7777777777777778,\"#fb9f3a\"],[0.8888888888888888,\"#fdca26\"],[1.0,\"#f0f921\"]]}],\"heatmapgl\":[{\"type\":\"heatmapgl\",\"colorbar\":{\"outlinewidth\":0,\"ticks\":\"\"},\"colorscale\":[[0.0,\"#0d0887\"],[0.1111111111111111,\"#46039f\"],[0.2222222222222222,\"#7201a8\"],[0.3333333333333333,\"#9c179e\"],[0.4444444444444444,\"#bd3786\"],[0.5555555555555556,\"#d8576b\"],[0.6666666666666666,\"#ed7953\"],[0.7777777777777778,\"#fb9f3a\"],[0.8888888888888888,\"#fdca26\"],[1.0,\"#f0f921\"]]}],\"contourcarpet\":[{\"type\":\"contourcarpet\",\"colorbar\":{\"outlinewidth\":0,\"ticks\":\"\"}}],\"contour\":[{\"type\":\"contour\",\"colorbar\":{\"outlinewidth\":0,\"ticks\":\"\"},\"colorscale\":[[0.0,\"#0d0887\"],[0.1111111111111111,\"#46039f\"],[0.2222222222222222,\"#7201a8\"],[0.3333333333333333,\"#9c179e\"],[0.4444444444444444,\"#bd3786\"],[0.5555555555555556,\"#d8576b\"],[0.6666666666666666,\"#ed7953\"],[0.7777777777777778,\"#fb9f3a\"],[0.8888888888888888,\"#fdca26\"],[1.0,\"#f0f921\"]]}],\"surface\":[{\"type\":\"surface\",\"colorbar\":{\"outlinewidth\":0,\"ticks\":\"\"},\"colorscale\":[[0.0,\"#0d0887\"],[0.1111111111111111,\"#46039f\"],[0.2222222222222222,\"#7201a8\"],[0.3333333333333333,\"#9c179e\"],[0.4444444444444444,\"#bd3786\"],[0.5555555555555556,\"#d8576b\"],[0.6666666666666666,\"#ed7953\"],[0.7777777777777778,\"#fb9f3a\"],[0.8888888888888888,\"#fdca26\"],[1.0,\"#f0f921\"]]}],\"mesh3d\":[{\"type\":\"mesh3d\",\"colorbar\":{\"outlinewidth\":0,\"ticks\":\"\"}}],\"scatter\":[{\"fillpattern\":{\"fillmode\":\"overlay\",\"size\":10,\"solidity\":0.2},\"type\":\"scatter\"}],\"parcoords\":[{\"type\":\"parcoords\",\"line\":{\"colorbar\":{\"outlinewidth\":0,\"ticks\":\"\"}}}],\"scatterpolargl\":[{\"type\":\"scatterpolargl\",\"marker\":{\"colorbar\":{\"outlinewidth\":0,\"ticks\":\"\"}}}],\"bar\":[{\"error_x\":{\"color\":\"#2a3f5f\"},\"error_y\":{\"color\":\"#2a3f5f\"},\"marker\":{\"line\":{\"color\":\"#E5ECF6\",\"width\":0.5},\"pattern\":{\"fillmode\":\"overlay\",\"size\":10,\"solidity\":0.2}},\"type\":\"bar\"}],\"scattergeo\":[{\"type\":\"scattergeo\",\"marker\":{\"colorbar\":{\"outlinewidth\":0,\"ticks\":\"\"}}}],\"scatterpolar\":[{\"type\":\"scatterpolar\",\"marker\":{\"colorbar\":{\"outlinewidth\":0,\"ticks\":\"\"}}}],\"histogram\":[{\"marker\":{\"pattern\":{\"fillmode\":\"overlay\",\"size\":10,\"solidity\":0.2}},\"type\":\"histogram\"}],\"scattergl\":[{\"type\":\"scattergl\",\"marker\":{\"colorbar\":{\"outlinewidth\":0,\"ticks\":\"\"}}}],\"scatter3d\":[{\"type\":\"scatter3d\",\"line\":{\"colorbar\":{\"outlinewidth\":0,\"ticks\":\"\"}},\"marker\":{\"colorbar\":{\"outlinewidth\":0,\"ticks\":\"\"}}}],\"scattermapbox\":[{\"type\":\"scattermapbox\",\"marker\":{\"colorbar\":{\"outlinewidth\":0,\"ticks\":\"\"}}}],\"scatterternary\":[{\"type\":\"scatterternary\",\"marker\":{\"colorbar\":{\"outlinewidth\":0,\"ticks\":\"\"}}}],\"scattercarpet\":[{\"type\":\"scattercarpet\",\"marker\":{\"colorbar\":{\"outlinewidth\":0,\"ticks\":\"\"}}}],\"carpet\":[{\"aaxis\":{\"endlinecolor\":\"#2a3f5f\",\"gridcolor\":\"white\",\"linecolor\":\"white\",\"minorgridcolor\":\"white\",\"startlinecolor\":\"#2a3f5f\"},\"baxis\":{\"endlinecolor\":\"#2a3f5f\",\"gridcolor\":\"white\",\"linecolor\":\"white\",\"minorgridcolor\":\"white\",\"startlinecolor\":\"#2a3f5f\"},\"type\":\"carpet\"}],\"table\":[{\"cells\":{\"fill\":{\"color\":\"#EBF0F8\"},\"line\":{\"color\":\"white\"}},\"header\":{\"fill\":{\"color\":\"#C8D4E3\"},\"line\":{\"color\":\"white\"}},\"type\":\"table\"}],\"barpolar\":[{\"marker\":{\"line\":{\"color\":\"#E5ECF6\",\"width\":0.5},\"pattern\":{\"fillmode\":\"overlay\",\"size\":10,\"solidity\":0.2}},\"type\":\"barpolar\"}],\"pie\":[{\"automargin\":true,\"type\":\"pie\"}]},\"layout\":{\"autotypenumbers\":\"strict\",\"colorway\":[\"#636efa\",\"#EF553B\",\"#00cc96\",\"#ab63fa\",\"#FFA15A\",\"#19d3f3\",\"#FF6692\",\"#B6E880\",\"#FF97FF\",\"#FECB52\"],\"font\":{\"color\":\"#2a3f5f\"},\"hovermode\":\"closest\",\"hoverlabel\":{\"align\":\"left\"},\"paper_bgcolor\":\"white\",\"plot_bgcolor\":\"#E5ECF6\",\"polar\":{\"bgcolor\":\"#E5ECF6\",\"angularaxis\":{\"gridcolor\":\"white\",\"linecolor\":\"white\",\"ticks\":\"\"},\"radialaxis\":{\"gridcolor\":\"white\",\"linecolor\":\"white\",\"ticks\":\"\"}},\"ternary\":{\"bgcolor\":\"#E5ECF6\",\"aaxis\":{\"gridcolor\":\"white\",\"linecolor\":\"white\",\"ticks\":\"\"},\"baxis\":{\"gridcolor\":\"white\",\"linecolor\":\"white\",\"ticks\":\"\"},\"caxis\":{\"gridcolor\":\"white\",\"linecolor\":\"white\",\"ticks\":\"\"}},\"coloraxis\":{\"colorbar\":{\"outlinewidth\":0,\"ticks\":\"\"}},\"colorscale\":{\"sequential\":[[0.0,\"#0d0887\"],[0.1111111111111111,\"#46039f\"],[0.2222222222222222,\"#7201a8\"],[0.3333333333333333,\"#9c179e\"],[0.4444444444444444,\"#bd3786\"],[0.5555555555555556,\"#d8576b\"],[0.6666666666666666,\"#ed7953\"],[0.7777777777777778,\"#fb9f3a\"],[0.8888888888888888,\"#fdca26\"],[1.0,\"#f0f921\"]],\"sequentialminus\":[[0.0,\"#0d0887\"],[0.1111111111111111,\"#46039f\"],[0.2222222222222222,\"#7201a8\"],[0.3333333333333333,\"#9c179e\"],[0.4444444444444444,\"#bd3786\"],[0.5555555555555556,\"#d8576b\"],[0.6666666666666666,\"#ed7953\"],[0.7777777777777778,\"#fb9f3a\"],[0.8888888888888888,\"#fdca26\"],[1.0,\"#f0f921\"]],\"diverging\":[[0,\"#8e0152\"],[0.1,\"#c51b7d\"],[0.2,\"#de77ae\"],[0.3,\"#f1b6da\"],[0.4,\"#fde0ef\"],[0.5,\"#f7f7f7\"],[0.6,\"#e6f5d0\"],[0.7,\"#b8e186\"],[0.8,\"#7fbc41\"],[0.9,\"#4d9221\"],[1,\"#276419\"]]},\"xaxis\":{\"gridcolor\":\"white\",\"linecolor\":\"white\",\"ticks\":\"\",\"title\":{\"standoff\":15},\"zerolinecolor\":\"white\",\"automargin\":true,\"zerolinewidth\":2},\"yaxis\":{\"gridcolor\":\"white\",\"linecolor\":\"white\",\"ticks\":\"\",\"title\":{\"standoff\":15},\"zerolinecolor\":\"white\",\"automargin\":true,\"zerolinewidth\":2},\"scene\":{\"xaxis\":{\"backgroundcolor\":\"#E5ECF6\",\"gridcolor\":\"white\",\"linecolor\":\"white\",\"showbackground\":true,\"ticks\":\"\",\"zerolinecolor\":\"white\",\"gridwidth\":2},\"yaxis\":{\"backgroundcolor\":\"#E5ECF6\",\"gridcolor\":\"white\",\"linecolor\":\"white\",\"showbackground\":true,\"ticks\":\"\",\"zerolinecolor\":\"white\",\"gridwidth\":2},\"zaxis\":{\"backgroundcolor\":\"#E5ECF6\",\"gridcolor\":\"white\",\"linecolor\":\"white\",\"showbackground\":true,\"ticks\":\"\",\"zerolinecolor\":\"white\",\"gridwidth\":2}},\"shapedefaults\":{\"line\":{\"color\":\"#2a3f5f\"}},\"annotationdefaults\":{\"arrowcolor\":\"#2a3f5f\",\"arrowhead\":0,\"arrowwidth\":1},\"geo\":{\"bgcolor\":\"white\",\"landcolor\":\"#E5ECF6\",\"subunitcolor\":\"white\",\"showland\":true,\"showlakes\":true,\"lakecolor\":\"white\"},\"title\":{\"x\":0.05},\"mapbox\":{\"style\":\"light\"}}},\"legend\":{\"tracegroupgap\":0},\"margin\":{\"t\":60},\"treemapcolorway\":[\"rgb(133, 92, 117)\",\"rgb(217, 175, 107)\",\"rgb(175, 100, 88)\",\"rgb(115, 111, 76)\",\"rgb(82, 106, 131)\",\"rgb(98, 83, 119)\",\"rgb(104, 133, 92)\",\"rgb(156, 156, 94)\",\"rgb(160, 97, 119)\",\"rgb(140, 120, 93)\",\"rgb(124, 124, 124)\"]},                        {\"responsive\": true}                    ).then(function(){\n",
       "                            \n",
       "var gd = document.getElementById('814849f4-d2ee-42b9-a9a0-e3aef108bf3a');\n",
       "var x = new MutationObserver(function (mutations, observer) {{\n",
       "        var display = window.getComputedStyle(gd).display;\n",
       "        if (!display || display === 'none') {{\n",
       "            console.log([gd, 'removed!']);\n",
       "            Plotly.purge(gd);\n",
       "            observer.disconnect();\n",
       "        }}\n",
       "}});\n",
       "\n",
       "// Listen for the removal of the full notebook cells\n",
       "var notebookContainer = gd.closest('#notebook-container');\n",
       "if (notebookContainer) {{\n",
       "    x.observe(notebookContainer, {childList: true});\n",
       "}}\n",
       "\n",
       "// Listen for the clearing of the current output cell\n",
       "var outputEl = gd.closest('.output');\n",
       "if (outputEl) {{\n",
       "    x.observe(outputEl, {childList: true});\n",
       "}}\n",
       "\n",
       "                        })                };                });            </script>        </div>"
      ]
     },
     "metadata": {},
     "output_type": "display_data"
    }
   ],
   "source": [
    "df3 = df['industry'].value_counts().head(10).reset_index()\n",
    "df3.columns = ['industry', 'count']\n",
    "df3\n",
    "\n",
    "fig = px.treemap(df3, path = ['industry'],\n",
    "                 values = 'count', \n",
    "                 color_discrete_sequence=px.colors.qualitative.Antique)\n",
    "fig.show()"
   ]
  },
  {
   "cell_type": "markdown",
   "id": "5b7bfcc5",
   "metadata": {
    "papermill": {
     "duration": 0.016846,
     "end_time": "2023-09-07T14:59:16.213608",
     "exception": false,
     "start_time": "2023-09-07T14:59:16.196762",
     "status": "completed"
    },
    "tags": []
   },
   "source": [
    "**Infernce:** The most prominent industry are Business Products & Services, Advertising & Marketing, Software and Health"
   ]
  },
  {
   "cell_type": "markdown",
   "id": "8319ef06",
   "metadata": {
    "papermill": {
     "duration": 0.016803,
     "end_time": "2023-09-07T14:59:16.247586",
     "exception": false,
     "start_time": "2023-09-07T14:59:16.230783",
     "status": "completed"
    },
    "tags": []
   },
   "source": [
    "**4) Distribution of Revenue of a companies?**"
   ]
  },
  {
   "cell_type": "code",
   "execution_count": 15,
   "id": "2042a2ec",
   "metadata": {
    "execution": {
     "iopub.execute_input": "2023-09-07T14:59:16.283771Z",
     "iopub.status.busy": "2023-09-07T14:59:16.283271Z",
     "iopub.status.idle": "2023-09-07T14:59:16.491848Z",
     "shell.execute_reply": "2023-09-07T14:59:16.490748Z"
    },
    "papermill": {
     "duration": 0.230191,
     "end_time": "2023-09-07T14:59:16.494837",
     "exception": false,
     "start_time": "2023-09-07T14:59:16.264646",
     "status": "completed"
    },
    "tags": []
   },
   "outputs": [
    {
     "data": {
      "text/html": [
       "<div>                            <div id=\"14acf892-cc09-4c4a-8be9-03278ef4ae5e\" class=\"plotly-graph-div\" style=\"height:525px; width:100%;\"></div>            <script type=\"text/javascript\">                require([\"plotly\"], function(Plotly) {                    window.PLOTLYENV=window.PLOTLYENV || {};                                    if (document.getElementById(\"14acf892-cc09-4c4a-8be9-03278ef4ae5e\")) {                    Plotly.newPlot(                        \"14acf892-cc09-4c4a-8be9-03278ef4ae5e\",                        [{\"alignmentgroup\":\"True\",\"bingroup\":\"x\",\"hovertemplate\":\"revenue_in_millions=%{x}<br>count=%{y}<extra></extra>\",\"legendgroup\":\"\",\"marker\":{\"color\":\"#1F77B4\",\"pattern\":{\"shape\":\"\"},\"line\":{\"color\":\"white\",\"width\":1}},\"name\":\"\",\"nbinsx\":75,\"offsetgroup\":\"\",\"orientation\":\"v\",\"showlegend\":false,\"x\":[36.9,33.6,24.9,32.4,22.5,125.80000000000001,20.5,23.3,125.80000000000001,21.4,13.9,30.3,19.1,19.1,17.3,10.7,105.8,19.0,24.4,9.6,10.2,11.9,13.8,10.5,8.9,125.80000000000001,15.8,7.8,11.8,125.80000000000001,20.4,10.2,7.2,20.8,125.80000000000001,48.9,24.0,17.5,45.2,15.2,8.3,6.4,7.0,8.8,6.2,16.9,6.3,9.8,7.1,48.5,25.0,42.5,23.9,58.8,5.1,8.0,7.8,25.9,107.6,42.4,21.5,21.0,44.6,5.8,89.7,10.7,12.8,9.0,125.80000000000001,14.3,6.2,4.7,20.9,4.6,6.7,10.0,8.2,4.3,7.2,4.7,16.3,54.4,5.1,25.8,9.0,9.0,4.5,104.1,3.9,10.4,14.4,6.4,4.9,6.6,7.3,7.4,15.3,13.7,4.8,34.2,102.9,13.9,9.0,33.0,14.4,11.1,3.5,3.9,7.6,59.3,4.7,7.8,3.8,5.1,6.4,19.0,3.3,3.1,3.7,23.6,25.8,12.3,6.6,79.0,3.5,38.8,4.7,3.2,3.2,30.0,3.1,6.7,84.8,12.4,38.8,4.0,5.4,6.5,9.8,20.4,3.1,7.1,101.1,25.1,4.7,3.5,5.4,9.2,18.5,2.8,5.5,4.4,21.8,4.4,28.4,4.0,13.6,3.0,20.6,3.0,4.9,72.3,13.3,2.5,15.9,100.8,3.0,15.5,53.1,3.1,6.4,3.0,5.7,17.4,2.6,14.2,12.0,3.3,7.0,9.9,10.3,3.1,4.6,12.8,2.7,85.8,5.4,8.2,6.9,7.2,12.7,4.1,24.7,4.5,32.9,2.4,3.6,20.8,3.6,14.3,4.0,125.80000000000001,40.5,2.4,2.4,37.5,5.1,113.5,3.9,22.3,3.6,4.4,61.1,2.7,4.1,125.80000000000001,31.5,4.5,3.5,18.7,6.1,10.0,2.7,7.7,4.5,8.2,6.6,10.7,7.2,2.6,2.9,46.2,120.5,4.7,12.0,2.4,4.3,11.1,3.6,7.3,6.3,3.3,2.4,5.3,26.3,4.6,13.4,125.80000000000001,8.3,2.4,4.4,46.2,7.4,3.7,3.1,10.5,10.1,8.8,58.8,7.2,3.7,4.2,8.5,4.7,4.5,2.6,2.4,71.6,125.80000000000001,2.7,125.80000000000001,7.7,8.6,14.0,3.0,18.4,4.1,8.4,5.5,5.2,3.4,2.4,40.9,13.7,93.9,4.9,113.5,2.7,9.1,97.4,2.6,6.1,9.8,20.8,3.6,2.4,6.3,9.1,11.8,3.2,14.1,6.6,2.7,47.1,65.2,4.4,76.9,16.1,6.8,2.9,3.4,5.8,3.2,5.3,2.4,35.7,9.9,2.4,5.8,2.8,25.1,125.80000000000001,5.0,8.2,2.6,2.4,3.8,6.8,27.3,9.7,2.9,16.2,2.4,3.4,4.0,2.8,2.4,3.7,5.7,6.0,2.4,2.4,12.4,4.3,33.8,7.2,64.3,2.7,29.1,10.4,2.4,35.3,24.2,5.7,19.7,2.9,2.4,8.0,8.1,5.9,2.4,5.9,8.8,16.0,12.0,15.3,28.0,2.6,2.6,3.1,4.7,2.7,6.4,21.7,3.4,4.0,125.80000000000001,3.8,31.4,2.4,21.6,7.0,30.8,125.80000000000001,6.2,12.8,5.1,19.5,2.5,4.8,2.9,4.6,2.8,4.7,2.4,2.9,10.1,6.9,3.0,2.8,5.4,15.4,9.5,4.1,125.80000000000001,24.0,32.7,3.6,21.5,5.6,11.6,8.8,7.1,125.80000000000001,5.5,2.8,14.0,8.8,15.8,35.9,7.0,2.8,2.4,6.9,9.8,6.5,5.4,125.80000000000001,5.9,5.2,4.3,4.9,8.6,20.4,13.2,38.5,21.3,67.8,10.1,20.8,94.6,2.4,15.9,12.7,8.9,4.1,3.0,22.3,31.4,74.3,3.9,5.9,45.1,2.7,18.6,125.80000000000001,4.4,29.8,3.6,11.3,7.8,2.8,3.2,18.8,7.5,14.2,17.4,5.8,4.5,52.3,40.0,42.9,11.6,2.4,7.1,2.4,30.1,3.0,7.7,22.1,2.5,2.4,2.5,31.3,3.5,7.2,59.4,78.6,11.4,5.4,45.4,52.4,5.4,5.3,18.4,2.4,2.9,21.3,5.1,4.9,8.0,12.3,4.7,3.5,8.5,18.1,9.0,10.7,84.3,10.3,2.4,16.2,27.2,2.4,2.4,8.7,6.1,16.3,3.8,12.6,9.7,21.3,6.6,2.5,17.5,125.80000000000001,6.0,4.5,9.5,4.8,3.0,2.4,4.5,15.3,2.9,7.9,53.5,13.6,19.0,4.7,2.4,8.1,2.4,125.80000000000001,31.6,8.2,7.3,6.2,10.7,5.5,37.6,7.5,11.0,5.3,6.0,10.7,9.2,2.4,12.6,27.4,2.4,17.2,125.80000000000001,6.9,77.4,16.7,8.9,2.8,70.7,46.4,5.0,3.7,17.5,41.9,79.6,16.4,12.5,37.3,4.6,7.0,10.0,6.1,17.1,45.5,21.8,3.6,2.5,18.8,3.7,4.1,3.4,13.0,16.9,6.0,5.0,5.3,2.4,14.9,4.0,44.0,6.0,3.4,2.4,10.9,14.8,125.80000000000001,6.0,3.5,2.9,6.3,2.9,9.2,5.8,2.4,15.6,27.6,36.5,2.9,5.9,29.7,29.6,22.9,73.3,10.3,7.2,5.5,5.7,7.3,75.3,3.1,2.7,49.1,9.0,6.4,6.4,2.4,9.5,78.5,2.4,2.4,22.8,39.4,13.6,13.4,8.0,2.6,5.5,2.4,4.1,5.5,4.0,2.9,22.3,70.0,93.2,27.2,125.80000000000001,31.5,2.4,62.0,2.5,12.1,33.6,37.1,5.0,17.6,88.3,2.4,2.7,6.6,13.2,2.6,14.1,5.2,2.4,2.4,5.2,6.3,2.5,14.9,8.9,4.2,17.3,49.4,5.6,14.2,8.3,3.0,13.7,12.4,4.9,4.2,6.6,9.2,7.7,4.8,2.4,9.9,13.9,125.80000000000001,2.9,18.5,12.1,16.7,2.4,23.6,125.80000000000001,9.6,11.3,9.0,5.5,18.6,6.0,101.3,30.8,2.4,3.6,4.6,4.1,8.8,5.5,18.3,8.6,3.8,12.4,9.8,33.1,2.9,3.5,66.6,92.7,23.7,2.4,14.4,32.6,73.2,2.4,2.4,30.2,12.9,3.9,2.5,6.9,11.1,4.5,48.7,6.1,4.2,2.4,17.8,2.8,4.1,125.80000000000001,5.7,15.2,2.4,11.4,28.6,125.80000000000001,9.3,75.5,23.7,5.0,5.7,3.4,2.4,40.9,4.8,19.4,13.8,39.3,10.9,3.5,8.1,4.6,2.6,14.6,7.2,5.1,5.6,5.0,25.4,4.0,125.80000000000001,14.3,22.5,14.8,114.5,2.4,16.2,6.3,5.7,44.2,2.4,11.0,7.3,11.3,8.4,2.4,6.3,3.5,3.2,18.4,3.0,35.6,5.7,5.8,6.5,4.3,6.4,23.6,2.7,125.80000000000001,7.2,84.7,7.0,75.0,18.1,3.1,9.2,2.4,2.7,8.2,19.5,4.5,3.7,4.0,3.4,8.8,24.3,4.2,4.5,21.7,5.1,4.8,5.1,12.2,9.3,102.2,9.5,3.1,5.5,5.8,2.9,11.1,3.0,11.6,72.8,4.9,69.7,7.0,3.5,4.1,5.4,14.6,14.4,44.8,20.0,14.5,6.5,2.9,59.9,5.6,21.4,27.0,7.5,13.0,14.0,17.2,32.6,105.6,3.2,11.2,13.1,5.2,5.4,2.7,2.7,7.6,39.8,12.1,46.3,56.4,10.2,24.2,4.1,2.7,16.0,21.3,4.7,26.6,2.4,2.5,14.0,31.1,4.2,3.7,3.5,15.7,99.6,4.7,5.1,2.4,16.4,2.8,2.8,8.6,29.6,4.6,7.1,3.0,80.9,9.0,2.6,125.80000000000001,2.4,33.6,4.4,2.7,46.6,125.80000000000001,2.4,2.4,14.2,5.2,125.80000000000001,2.4,31.6,70.1,2.6,10.3,4.0,2.4,2.8,125.5,5.1,2.4,3.0,4.2,2.7,8.5,15.8,3.6,3.7,2.9,66.5,5.0,32.2,5.2,84.1,2.9,5.1,8.0,15.8,2.4,5.2,36.1,5.0,3.8,5.4,4.1,3.8,23.0,13.8,16.7,20.7,20.9,7.1,63.2,26.4,2.5,3.1,18.7,4.8,7.3,10.0,6.8,4.0,19.6,6.6,6.8,39.6,4.6,6.8,4.6,3.5,17.4,53.5,10.0,7.1,125.80000000000001,8.0,4.6,6.3,8.8,2.4,11.0,23.4,26.4,5.6,5.1,16.5,4.1,67.3,6.7,8.9,21.9,2.6,3.2,18.8,21.5,69.9,2.4,2.9,28.9,3.1,4.4,50.4,125.80000000000001,12.3,5.6,2.4,58.9,10.1,50.1,3.8,3.6,3.7,28.4,44.3,5.9,15.6,66.5,4.2,32.5,11.7,49.5,4.2,7.1,5.8,6.5,4.3,4.2,38.0,11.6,8.1,15.0,28.2,4.6,6.6,15.3,3.9,3.2,4.1,6.7,4.7,9.2,7.8,33.5,12.1,7.4,7.9,13.6,3.7,3.6,5.4,7.5,15.7,125.80000000000001,117.6,5.0,21.5,2.5,15.4,12.2,14.5,125.80000000000001,5.6,9.0,50.7,2.4,3.9,30.4,3.4,63.6,2.4,43.7,4.7,4.3,4.5,9.9,2.5,4.5,3.2,5.4,43.8,2.7,31.4,10.3,3.3,14.4,6.3,24.0,17.7,6.9,10.3,9.4,37.3,31.2,60.2,2.8,3.3,4.2,21.9,7.3,5.9,3.0,16.6,125.80000000000001,14.6,81.6,4.0,46.7,8.5,12.2,2.4,4.1,7.6,17.3,3.2,14.2,2.4,2.4,25.6,2.7,12.8,3.8,5.2,116.6,5.0,2.4,3.7,19.9,61.3,50.6,2.4,6.0,11.1,101.2,4.2,10.4,4.7,33.7,4.5,9.8,8.6,5.4,10.1,10.2,23.5,47.3,2.4,3.7,17.3,17.3,11.6,18.1,17.1,35.3,7.0,39.8,15.6,125.80000000000001,31.0,2.9,60.7,20.1,13.1,7.3,2.9,2.4,29.2,6.4,75.6,2.4,6.8,3.9,5.8,5.6,4.3,3.0,14.2,14.2,22.3,2.9,12.1,26.6,12.3,125.80000000000001,13.3,93.9,12.4,2.6,6.3,2.7,2.4,13.7,4.1,4.2,31.8,16.7,68.0,24.6,10.7,5.1,20.4,59.8,7.0,2.7,2.4,69.4,19.9,13.5,5.1,11.8,56.0,36.2,9.5,6.3,3.4,3.0,2.4,41.3,5.3,25.2,2.7,4.3,3.9,5.3,2.5,3.3,10.2,2.4,50.3,23.6,24.2,24.8,18.3,7.5,12.4,7.7,2.4,6.8,8.5,10.4,8.2,10.5,9.3,5.8,9.7,101.6,3.5,5.3,12.3,2.4,6.0,20.2,7.6,2.4,125.80000000000001,19.4,3.1,40.5,52.2,21.3,2.4,8.5,20.3,8.8,4.8,16.0,14.2,5.7,2.4,3.2,8.7,4.5,6.7,5.9,5.0,6.7,2.4,26.6,8.9,125.80000000000001,4.3,2.4,7.6,7.0,4.0,5.0,6.3,7.5,8.5,6.9,45.6,9.4,37.8,13.9,125.80000000000001,35.9,3.1,90.1,2.4,5.9,3.4,6.7,125.80000000000001,12.7,3.0,5.0,2.5,5.6,3.1,3.1,2.9,3.3,58.3,38.9,28.8,22.3,13.1,24.2,13.0,2.5,2.5,125.80000000000001,15.6,5.2,99.7,8.4,31.5,35.6,4.1,2.7,16.8,8.2,24.0,10.6,8.8,3.8,4.7,9.7,4.4,2.4,69.8,2.8,3.2,21.3,23.6,3.8,10.3,9.9,20.0,3.5,8.1,35.9,125.80000000000001,94.4,18.1,3.1,7.5,36.2,2.4,30.1,125.80000000000001,44.4,3.0,2.4,6.1,5.7,14.8,17.0,3.6,13.9,3.3,24.5,11.2,125.80000000000001,6.8,7.8,125.80000000000001,17.0,2.4,2.4,3.4,9.0,24.7,4.2,44.0,24.7,14.6,13.1,125.80000000000001,3.8,6.9,5.0,5.5,38.4,9.1,46.4,60.3,5.2,34.2,125.80000000000001,41.3,125.80000000000001,13.9,7.8,7.4,25.1,104.0,14.4,5.9,14.3,27.5,2.4,30.1,54.0,2.5,5.0,2.4,10.0,10.5,72.2,6.7,44.2,4.8,20.8,21.2,16.2,125.80000000000001,28.9,5.3,2.4,22.0,82.2,17.8,89.0,55.6,35.6,19.8,3.9,13.4,125.80000000000001,3.0,2.8,27.0,4.7,3.4,80.0,29.2,16.2,125.80000000000001,48.4,14.9,4.0,4.6,12.2,12.2,8.3,36.2,8.6,13.5,2.9,5.9,5.7,8.5,125.80000000000001,3.2,13.9,29.8,4.0,3.6,6.2,12.4,6.4,4.4,10.3,88.0,5.1,5.6,6.3,4.9,34.2,12.3,62.4,25.8,39.0,52.6,4.0,120.4,6.9,14.6,2.6,14.1,125.80000000000001,5.9,21.6,3.2,16.7,22.2,2.7,7.9,11.1,8.4,3.6,3.3,10.9,89.8,9.0,3.1,9.2,27.7,2.4,120.2,3.9,31.1,6.9,39.3,8.9,9.6,6.3,5.5,37.8,3.3,10.1,125.80000000000001,29.6,32.8,18.4,2.8,7.6,125.80000000000001,18.4,46.7,22.0,5.2,8.7,15.6,28.4,7.5,7.6,2.4,6.0,125.80000000000001,10.7,2.7,40.1,4.4,3.3,16.0,13.5,11.8,3.3,16.1,7.3,25.1,2.8,5.0,12.7,114.4,11.6,18.4,5.4,2.9,18.9,17.9,6.1,48.5,125.80000000000001,117.6,7.0,4.3,5.3,2.5,6.0,3.4,3.2,7.6,4.9,48.9,6.4,7.4,7.0,16.9,33.5,6.6,3.6,2.4,80.5,8.9,48.8,3.5,21.2,5.6,3.7,3.4,2.4,11.5,4.0,12.1,9.7,25.1,2.4,14.8,7.0,5.6,3.2,4.2,2.6,125.80000000000001,10.0,8.3,50.6,9.5,6.3,2.8,32.8,3.1,3.8,3.1,53.3,89.5,58.2,28.3,2.8,9.1,7.3,6.9,3.6,2.4,12.6,25.1,8.4,26.1,11.6,2.4,14.3,13.1,2.4,2.7,2.7,7.8,12.5,5.0,11.1,4.1,125.80000000000001,3.2,17.4,35.9,59.2,5.0,8.5,12.0,69.4,59.1,30.1,125.80000000000001,27.9,33.7,6.3,7.0,29.6,12.0,7.6,3.9,16.0,5.1,45.6,2.7,66.2,37.7,38.0,31.2,2.5,2.4,3.2,89.4,29.3,6.0,7.0,2.7,9.1,11.7,4.8,4.0,3.1,24.4,125.80000000000001,2.6,14.3,2.9,6.0,3.4,11.2,15.0,7.5,40.7,49.0,21.4,5.7,3.9,77.0,36.3,33.3,8.3,19.7,50.9,125.80000000000001,6.6,35.5,52.4,3.6,9.7,7.5,24.7,19.1,34.7,3.6,3.3,22.9,18.4,10.1,28.1,2.4,36.4,3.1,3.7,2.4,17.2,3.7,79.1,12.7,14.4,92.1,22.7,6.5,9.3,20.0,7.1,8.9,125.80000000000001,8.9,7.2,125.80000000000001,2.5,44.6,6.5,12.6,6.8,21.5,11.1,5.1,6.8,125.80000000000001,27.2,2.4,8.5,5.8,30.1,24.8,78.6,11.9,75.8,125.80000000000001,71.4,52.5,13.4,14.1,23.3,22.3,14.2,21.4,2.4,2.6,7.1,15.9,7.3,5.0,125.80000000000001,9.4,8.4,36.6,5.0,3.3,14.5,2.5,5.7,27.0,12.5,12.6,3.8,25.0,16.9,7.7,35.5,3.7,9.1,79.8,21.0,4.5,6.9,5.7,30.0,7.9,15.2,8.3,2.8,44.7,2.6,3.4,2.7,8.2,21.6,2.4,2.4,47.0,6.2,36.6,14.1,26.5,84.1,125.80000000000001,9.8,125.80000000000001,44.3,5.6,125.80000000000001,8.9,2.9,2.6,10.6,3.0,92.1,125.80000000000001,8.1,2.4,50.8,5.0,11.0,51.8,6.8,4.6,125.80000000000001,2.8,4.2,2.4,8.7,13.6,4.1,3.8,125.80000000000001,6.4,10.1,32.7,57.2,83.0,3.8,5.3,5.1,22.7,3.9,7.6,16.9,43.6,13.8,125.80000000000001,60.6,21.7,34.6,10.6,2.9,3.0,11.6,4.5,119.1,25.0,12.6,57.7,14.7,17.7,3.7,35.2,3.9,2.7,17.2,2.4,27.8,6.3,7.0,15.1,56.6,20.7,5.8,3.0,7.9,9.5,2.6,125.80000000000001,13.3,26.9,15.1,2.4,5.0,10.6,6.3,2.6,125.80000000000001,59.6,2.5,26.1,125.80000000000001,4.2,5.0,11.6,6.9,3.8,67.4,2.4,5.2,8.5,7.0,125.80000000000001,8.1,8.0,7.9,55.7,2.4,2.4,2.4,7.7,27.5,99.4,71.1,38.1,19.3,4.2,125.80000000000001,3.0,14.4,11.7,36.1,19.5,9.2,2.6,38.9,10.9,23.6,16.2,10.1,18.4,5.3,3.6,45.7,6.2,73.5,66.5,19.5,21.5,57.0,2.7,3.0,19.0,3.9,7.7,125.80000000000001,26.7,14.2,2.4,2.4,5.1,84.9,62.4,7.1,6.6,7.4,3.9,5.5,10.3,125.80000000000001,46.8,23.5,82.5,5.8,4.0,74.0,25.2,3.4,2.4,10.4,27.6,30.2,4.1,5.8,12.4,3.0,18.5,125.80000000000001,79.6,2.4,3.1,37.4,31.9,19.7,23.1,2.4,4.0,11.3,31.0,3.4,10.5,6.5,125.80000000000001,2.4,13.0,10.5,19.1,4.0,23.0,11.4,5.0,7.3,15.2,7.1,20.1,125.80000000000001,125.80000000000001,8.7,10.8,5.5,2.4,76.0,125.80000000000001,2.9,2.4,11.3,13.9,28.2,3.1,62.2,22.1,7.7,26.8,15.1,9.5,2.4,5.9,56.7,2.4,4.6,21.6,63.2,11.3,2.4,2.4,15.1,4.1,2.7,2.9,5.0,2.7,6.6,5.0,36.1,19.6,11.7,125.80000000000001,7.7,14.8,25.7,5.8,29.1,12.1,25.8,5.1,23.2,52.1,90.6,9.7,7.3,7.2,22.4,3.4,11.1,10.5,111.4,3.0,8.9,19.8,4.4,3.7,36.5,2.7,2.4,5.5,7.9,5.9,113.0,17.6,4.6,6.4,2.6,36.4,6.1,57.2,42.4,29.8,17.8,18.2,9.5,16.6,8.3,35.3,17.3,10.1,7.4,7.5,76.8,27.7,125.80000000000001,71.6,7.5,24.3,11.0,31.8,4.1,17.0,125.80000000000001,57.1,15.9,27.6,9.0,11.9,7.2,16.9,3.3,6.6,36.8,7.3,4.4,69.3,60.0,3.6,8.4,4.6,2.4,7.2,27.4,49.8,54.5,48.6,2.7,12.4,13.5,10.0,45.7,3.1,7.5,125.80000000000001,5.7,65.8,42.1,91.1,9.9,11.4,2.4,3.2,5.8,34.5,6.8,21.2,3.0,19.8,125.80000000000001,33.8,35.2,19.6,7.3,61.7,3.4,3.1,66.3,11.0,10.3,15.2,24.9,12.4,5.0,2.6,125.80000000000001,20.6,3.3,11.1,6.3,18.8,22.2,57.2,39.7,27.5,39.1,3.9,8.3,13.9,20.9,15.7,2.4,13.9,25.3,125.80000000000001,3.3,9.7,42.3,3.6,11.3,6.1,2.4,61.9,5.0,17.6,125.80000000000001,92.0,2.4,7.1,3.9,9.0,9.2,5.6,13.8,25.0,14.6,84.9,3.3,48.5,2.4,22.3,4.8,124.9,4.3,10.0,9.5,6.5,13.1,8.0,9.6,2.5,6.8,5.5,12.4,2.4,94.9,63.9,15.8,41.1,15.2,8.0,4.5,2.8,8.1,13.8,6.7,22.2,5.7,29.8,125.80000000000001,2.5,2.4,4.6,13.2,45.3,76.9,3.9,11.0,4.2,5.2,4.4,13.2,7.3,12.8,5.1,4.0,56.1,4.6,14.1,28.8,14.8,13.5,40.3,13.7,3.0,29.7,12.7,7.0,6.2,21.7,112.6,13.7,35.2,32.9,3.9,6.3,3.9,11.2,125.80000000000001,4.0,14.9,3.4,10.1,13.5,5.9,14.2,3.9,31.2,31.6,125.80000000000001,2.7,57.0,7.4,6.7,35.6,125.80000000000001,13.8,5.3,4.9,42.4,5.7,27.4,125.80000000000001,12.0,20.5,3.4,5.4,3.3,15.4,16.0,9.2,20.3,16.1,13.9,2.4,24.8,17.5,45.7,2.4,8.9,13.0,10.4,4.2,2.4,9.5,5.3,11.0,2.4,4.0,3.4,9.3,125.80000000000001,17.6,62.1,119.8,8.9,34.8,2.4,9.9,125.80000000000001,9.7,5.9,12.7,6.2,17.8,17.2,5.5,7.2,11.9,5.7,5.2,23.3,34.1,34.2,7.8,7.8,84.3,19.2,8.0,63.1,2.4,18.0,17.0,63.7,15.5,2.4,29.6,2.4,9.3,2.4,7.5,4.5,9.5,29.4,2.9,6.3,5.9,6.4,5.6,61.3,5.7,6.7,26.7,56.1,3.7,44.3,3.0,7.6,6.9,67.8,9.8,6.1,2.4,15.4,72.8,3.5,18.1,5.6,5.8,46.4,7.7,10.5,14.6,10.6,9.6,23.1,43.5,3.2,3.6,10.3,3.5,13.8,125.80000000000001,2.8,14.5,13.1,125.80000000000001,2.7,11.1,47.5,125.80000000000001,5.8,39.7,40.5,42.1,6.4,2.4,2.4,9.5,3.0,7.0,47.5,19.6,75.5,6.1,3.8,15.0,5.1,30.7,9.5,9.2,12.3,28.8,8.5,3.8,10.8,3.9,15.2,7.1,5.0,12.7,10.2,10.3,19.2,9.6,7.1,6.3,14.9,6.0,5.2,5.3,2.5,23.4,14.4,16.7,15.7,5.4,10.6,4.3,4.1,14.3,2.7,11.1,5.7,2.4,10.3,2.9,70.8,80.5,3.1,3.9,3.7,18.2,13.7,40.4,15.4,20.4,6.2,28.0,4.1,32.0,74.1,2.8,6.3,18.2,57.6,12.6,2.4,8.6,43.8,4.8,15.6,125.80000000000001,14.2,3.8,9.1,82.6,15.6,3.8,24.9,26.7,44.4,3.8,125.80000000000001,8.9,125.80000000000001,2.4,52.3,9.8,3.5,106.9,26.0,113.0,2.5,53.4,4.2,15.1,2.4,4.4,82.0,5.0,4.7,8.3,45.7,6.6,16.3,7.1,6.1,2.4,70.1,25.4,125.80000000000001,10.6,68.3,17.8,73.3,34.8,107.8,97.0,16.0,5.6,18.1,7.3,5.1,4.3,4.4,4.0,12.6,24.7,2.5,3.1,7.8,17.4,2.4,2.4,7.0,125.80000000000001,14.6,50.9,14.1,86.7,2.4,5.6,19.4,17.7,19.8,9.4,42.2,9.1,22.2,2.5,15.0,4.9,17.7,18.1,5.7,2.5,125.80000000000001,28.0,125.80000000000001,37.7,4.5,15.7,4.0,8.9,39.6,4.4,23.3,2.4,5.9,12.2,125.80000000000001,7.2,24.4,68.4,21.4,5.0,2.4,20.1,6.0,4.3,14.5,8.4,5.9,3.3,80.7,6.9,4.7,13.7,4.9,6.9,2.4,30.5,16.0,17.4,44.9,10.9,5.9,125.80000000000001,5.3,52.8,10.2,22.0,25.8,56.4,43.3,68.2,2.4,22.3,13.5,27.7,3.4,95.7,34.9,23.2,3.7,62.0,13.7,3.8,33.0,9.8,73.9,23.3,10.9,7.5,7.8,4.2,13.4,9.5,28.3,106.2,30.2,3.5,10.9,15.7,17.8,3.6,7.1,2.4,10.7,4.8,22.9,7.5,2.9,4.1,2.7,15.8,9.2,2.7,125.80000000000001,2.5,8.8,3.2,35.3,125.80000000000001,2.4,14.4,3.0,6.0,27.7,29.4,3.0,6.5,35.9,125.80000000000001,83.9,16.8,2.4,8.6,2.9,6.3,17.9,40.4,43.3,3.4,9.6,125.80000000000001,8.1,12.2,12.3,11.3,5.5,16.2,14.3,9.3,14.6,7.8,3.8,44.8,100.5,9.0,12.4,4.7,44.3,63.8,90.1,3.6,24.5,9.3,97.1,63.9,5.3,24.8,7.5,24.7,14.0,42.3,4.7,4.2,2.9,2.6,19.4,5.5,7.0,8.0,12.1,27.1,2.6,14.6,13.7,125.80000000000001,107.9,4.8,3.5,12.0,4.2,3.1,125.80000000000001,5.1,2.4,12.4,58.7,14.4,19.8,45.8,12.2,14.1,5.1,37.0,4.9,2.4,3.5,9.8,3.0,3.0,47.0,4.8,12.2,6.5,2.6,78.3,9.1,26.6,3.0,33.9,85.4,2.9,6.3,16.5,20.2,69.8,3.4,29.8,6.0,12.0,37.1,47.6,13.0,4.1,12.8,35.4,30.5,6.6,23.7,6.0,4.1,13.7,25.6,2.5,2.4,67.8,68.3,9.6,10.7,8.8,7.9,25.0,14.5,39.6,8.9,4.0,92.8,28.4,3.1,4.9,8.3,15.9,4.9,12.8,125.80000000000001,8.8,9.7,60.5,21.8,26.5,26.7,66.8,46.2,125.80000000000001,3.3,20.3,5.7,4.4,33.1,3.4,35.0,16.5,8.1,3.6,31.7,115.0,4.3,4.0,3.7,3.2,2.9,3.4,12.0,9.7,10.2,7.2,53.0,7.8,12.6,24.1,7.0,71.3,11.0,18.1,65.1,2.4,29.5,26.3,15.3,8.0,6.3,29.9,6.3,3.5,32.7,71.2,8.1,8.7,43.8,9.9,2.6,3.6,20.9,5.1,7.4,7.4,125.80000000000001,20.0,14.3,19.8,47.9,2.7,9.6,68.6,48.5,9.7,2.9,2.4,25.4,5.6,16.1,2.4,8.7,125.80000000000001,5.8,31.2,2.4,28.3,10.6,23.4,29.6,54.8,5.8,6.2,18.7,113.4,10.6,7.4,3.7,12.4,125.80000000000001,5.4,58.6,2.4,35.6,2.6,16.1,90.7,2.9,13.8,125.80000000000001,3.4,15.5,2.9,12.6,21.9,7.1,125.80000000000001,2.4,2.4,45.8,50.5,28.9,111.5,45.3,4.2,16.5,2.6,6.6,8.9,30.6,3.9,11.0,14.2,125.80000000000001,22.1,2.4,12.2,6.3,8.9,10.6,5.3,20.1,92.0,8.7,2.4,26.4,4.5,6.3,16.0,2.4,52.0,69.9,7.8,12.0,15.0,11.2,8.9,5.0,4.6,3.0,48.7,48.4,47.3,46.4,7.1,7.8,4.7,16.8,31.0,44.7,2.7,22.9,6.5,2.5,47.2,14.5,12.2,19.0,75.1,49.4,68.7,36.3,85.1,17.8,125.80000000000001,3.6,2.5,2.4,23.4,3.5,19.8,3.3,21.4,4.7,4.6,60.7,125.80000000000001,49.4,35.7,2.9,3.1,4.1,9.2,8.1,48.3,6.5,125.80000000000001,2.9,17.0,2.5,4.3,125.80000000000001,10.9,3.9,66.9,4.5,2.8,21.0,4.8,20.0,6.5,2.6,67.1,2.6,24.7,9.5,3.0,21.1,17.2,7.7,14.8,3.4,24.9,5.0,8.5,125.80000000000001,14.1,29.2,9.2,14.4,2.4,17.8,21.8,7.4,3.0,10.8,3.6,11.1,14.9,20.6,5.9,86.2,88.3,68.2,10.3,76.1,5.8,5.4,10.1,34.2,125.80000000000001,2.9,42.0,3.3,29.3,5.4,6.3,3.3,5.3,16.2,7.1,8.9,4.6,4.0,23.7,62.8,43.5,3.7,8.1,8.3,31.2,70.7,33.1,8.3,4.3,26.8,6.4,2.4,74.1,6.1,8.5,26.1,3.9,5.5,3.2,28.9,5.6,2.4,45.1,4.5,11.8,125.80000000000001,5.1,3.5,6.8,23.5,7.2,74.3,10.2,40.7,125.80000000000001,9.1,2.4,8.1,15.8,5.8,12.6,7.7,28.7,32.8,107.0,11.8,2.9,10.9,2.4,4.7,2.4,22.7,2.6,46.1,3.2,19.6,18.4,32.1,18.2,8.5,45.1,2.9,66.9,6.7,125.80000000000001,12.1,98.0,125.80000000000001,2.4,125.80000000000001,80.6,125.80000000000001,33.7,2.4,92.4,11.4,3.8,24.4,5.7,102.6,5.3,33.2,4.3,7.2,125.80000000000001,9.1,6.5,9.3,15.0,18.8,2.4,3.6,48.6,24.0,2.5,29.5,29.0,41.4,26.7,125.80000000000001,23.9,9.6,125.80000000000001,17.8,9.2,29.9,6.8,27.6,9.0,65.9,25.6,9.2,31.6,9.4,6.6,2.7,14.4,87.0,10.6,3.8,12.6,3.1,65.5,11.4,125.80000000000001,66.1,3.8,20.1,7.0,6.4,125.80000000000001,3.4,30.6,5.2,14.4,125.80000000000001,125.80000000000001,2.4,6.8,6.4,125.80000000000001,125.80000000000001,44.8,50.3,15.6,11.7,12.3,6.4,15.6,17.7,8.8,16.7,43.1,7.8,69.5,3.0,6.9,21.1,43.2,2.4,18.3,7.8,32.1,4.3,2.4,29.8,3.1,29.3,31.1,7.4,80.5,5.4,2.4,12.2,14.6,7.1,7.5,37.9,70.3,6.3,7.3,16.3,12.5,23.0,11.7,53.6,15.0,20.3,81.2,54.6,9.6,13.5,8.6,12.0,2.4,2.7,58.4,49.3,7.2,22.4,26.9,125.80000000000001,98.9,3.0,17.1,5.9,29.3,18.8,72.8,5.0,44.8,12.9,54.3,30.2,6.6,92.5,2.8,6.5,57.5,5.2,14.2,51.1,6.1,125.80000000000001,28.3,6.9,11.9,15.2,2.8,6.5,3.7,14.9,12.9,9.9,18.2,7.2,10.1,2.4,5.2,17.8,2.9,6.9,19.5,40.1,10.8,106.0,3.4,6.0,73.5,4.9,3.4,4.2,11.3,5.4,16.5,10.4,11.5,121.3,6.2,4.3,43.9,80.1,6.0,125.80000000000001,20.1,125.80000000000001,68.6,3.8,7.1,2.4,9.7,125.80000000000001,10.5,9.8,13.2,22.5,5.1,75.4,4.6,14.6,9.5,49.6,10.9,5.3,12.6,114.6,2.4,49.3,70.8,22.7,34.8,4.3,5.6,14.9,9.5,72.1,14.8,52.3,125.80000000000001,7.7,10.0,7.1,8.4,2.4,9.6,2.4,2.4,61.7,10.6,6.4,10.6,13.6,7.7,3.6,15.2,93.6,17.4,13.7,18.2,15.5,3.0,95.4,72.6,25.9,5.4,3.3,6.1,7.5,6.5,3.3,4.6,4.0,11.6,16.1,2.7,17.6,28.0,3.3,16.7,17.2,3.5,4.6,18.9,3.4,8.2,2.4,18.9,56.4,125.80000000000001,6.0,96.6,5.0,22.9,5.5,51.7,117.9,14.5,17.4,37.1,8.1,34.5,11.2,6.2,36.5,26.8,4.4,4.9,125.80000000000001,3.9,7.7,125.80000000000001,7.1,125.80000000000001,4.5,4.1,5.5,11.6,12.9,18.3,14.4,6.2,3.8,4.0,58.3,20.5,3.6,7.7,6.2,2.4,2.4,30.3,8.7,10.4,3.0,4.6,19.6,125.80000000000001,12.2,21.7,19.7,4.7,4.3,3.0,5.2,9.6,84.1,42.3,87.2,3.9,2.5,5.5,3.4,3.0,11.4,10.5,17.3,7.3,7.3,7.8,20.5,9.8,2.4,15.9,20.0,6.1,8.3,11.2,6.5,75.0,125.80000000000001,6.1,30.0,5.8,9.7,4.6,10.6,30.1,7.8,54.8,108.4,5.1,84.7,2.4,11.5,15.9,125.80000000000001,5.1,24.9,5.1,32.7,3.2,7.3,30.3,66.3,92.7,21.1,68.5,4.5,10.9,12.7,5.5,3.0,2.4,2.4,3.1,21.7,31.2,125.80000000000001,5.9,13.0,2.5,19.3,12.5,15.9,2.4,4.0,10.0,14.2,16.2,4.2,33.2,3.9,2.5,3.3,9.4,9.5,15.2,3.0,31.3,91.8,4.3,7.1,40.0,4.4,88.4,23.7,6.4,9.0,2.4,37.9,125.80000000000001,23.7,16.5,22.7,2.4,54.9,73.2,32.3,26.6,4.3,50.7,5.7,3.8,11.1,3.0,117.6,17.4,3.9,10.8,11.9,2.4,29.5,125.80000000000001,49.9,17.4,125.80000000000001,15.3,14.7,4.0,8.3,2.4,13.8,32.3,6.3,65.1,21.2,8.8,7.5,19.8,14.1,4.2,25.7,15.7,8.3,32.2,7.8,10.5,3.0,125.80000000000001,7.4,12.2,5.7,125.80000000000001,3.4,45.3,22.2,30.3,33.0,5.2,69.3,3.2,11.0,2.5,36.9,2.4,78.5,69.9,26.9,8.2,8.5,4.1,54.5,7.3,64.5,31.8,9.2,5.5,30.3,4.8,97.8,63.7,83.1,28.7,11.1,4.3,125.80000000000001,34.0,12.0,55.7,5.7,11.6,12.6,4.2,47.0,35.5,6.5,3.6,4.6,125.80000000000001,6.0,2.9,10.8,25.7,15.4,43.7,9.2,113.4,6.8,5.4,8.4,4.0,10.4,4.4,125.80000000000001,2.4,10.4,5.2,11.6,23.1,7.5,70.5,2.4,125.80000000000001,6.7,8.8,3.8,10.1,2.4,4.0,10.2,4.9,7.9,4.5,26.4,78.7,6.8,24.1,97.2,17.3,5.8,4.0,18.3,125.80000000000001,3.3,21.7,8.8,30.0,94.2,2.5,8.6,4.3,23.9,3.6,16.8,17.5,12.5,3.1,12.8,7.6,2.4,3.5,26.3,16.8,44.3,125.80000000000001,19.9,30.3,2.6,22.9,11.2,5.8,12.8,38.8,14.0,3.8,42.9,42.4,2.4,35.5,93.2,9.7,10.0,9.0,28.5,11.8,20.6,125.80000000000001,60.5,2.4,46.4,125.80000000000001,3.1,3.5,3.0,8.6,2.5,9.3,70.5,6.0,3.3,2.8,64.2,3.5,125.80000000000001,6.0,7.3,7.3,18.1,64.8,21.9,3.8,6.4,13.0,14.1,11.5,6.0,2.8,125.80000000000001,5.4,2.6,12.4,22.1,18.8,9.1,12.0,36.4,104.1,125.80000000000001,125.80000000000001,3.6,15.4,3.7,3.3,6.2,17.4,2.4,10.9,23.7,30.2,8.2,2.9,5.8,16.2,25.0,3.5,15.5,3.7,2.9,105.3,24.0,8.3,125.80000000000001,17.6,5.8,7.4,21.9,75.6,2.4,21.1,3.6,5.8,3.5,11.1,4.2,7.6,4.8,2.4,11.4,30.2,29.4,20.0,107.5,2.6,7.0,7.0,36.5,11.0,7.1,109.7,4.6,71.0,15.9,10.0,9.3,43.1,125.80000000000001,4.2,2.9,4.8,33.0,111.4,28.2,4.2,9.7,46.1,4.5,3.2,8.4,46.1,4.3,4.2,5.8,53.0,13.9,16.8,13.6,18.5,54.5,8.8,11.2,5.7,38.0,4.3,9.8,2.6,2.7,9.8,12.1,4.4,3.6,21.9,125.80000000000001,17.8,9.3,5.3,23.5,125.80000000000001,4.0,62.1,2.4,6.8,15.3,2.7,12.4,16.4,10.9,5.2,14.9,6.2,125.80000000000001,15.1,2.7,58.8,57.1,125.80000000000001,3.4,41.3,27.0,23.7,2.9,66.7,2.6,2.4,38.1,35.1,5.2,30.6,11.5,109.6,2.5,2.4,4.1,82.8,2.8,4.3,76.1,11.7,11.1,2.4,2.5,125.80000000000001,125.80000000000001,32.3,8.5,23.4,4.0,2.6,3.3,9.0,37.7,67.0,57.7,3.7,24.2,7.2,21.6,7.5,108.4,106.0,3.3,7.8,51.5,6.2,2.6,2.9,27.7,12.8,11.6,34.0,40.7,7.5,6.5,119.4,3.3,10.9,38.8,33.8,14.7,5.5,4.4,10.3,10.3,85.3,27.0,110.9,4.1,52.6,6.1,8.6,4.6,97.7,10.9,50.2,60.9,6.0,3.5,59.4,10.4,2.7,26.7,50.7,10.0,77.9,2.4,26.0,21.3,28.5,3.0,2.4,9.9,110.6,13.4,8.6,7.0,125.80000000000001,7.9,22.3,5.3,7.8,85.5,6.1,15.8,72.9,42.3,2.6,56.2,37.2,3.6,14.6,7.0,6.3,125.80000000000001,17.3,23.3,43.1,37.3,3.8,7.8,10.6,81.5,16.8,125.80000000000001,2.7,15.2,2.9,10.2,4.1,4.4,41.3,2.4,11.7,9.3,31.8,9.0,40.4,2.7,5.7,2.4,11.3,11.2,7.4,125.80000000000001,55.7,14.0,33.0,11.9,125.80000000000001,125.80000000000001,3.7,33.6,10.7,5.9,125.80000000000001,6.2,7.9,65.8,7.5,15.9,8.4,66.5,3.4,8.9,102.9,4.1,114.6,21.3,17.2,21.9,3.5,38.0,125.80000000000001,10.5,18.5,11.4,6.4,3.2,61.2,4.1,10.7,7.3,5.8,10.7,2.8,4.4,15.4,125.80000000000001,23.7,3.8,4.9,2.4,27.8,57.3,8.4,116.3,2.4,6.3,4.6,3.6,4.0,9.4,67.4,6.6,4.8,15.4,125.80000000000001,6.5,23.3,16.9,105.8,36.3,4.7,7.6,61.8,3.8,20.0,4.2,5.7,2.4,31.4,47.2,11.3,125.80000000000001,5.4,15.3,13.8,60.3,7.2,2.9,46.9,7.4,6.1,4.2,2.4,3.4,5.2,5.2,5.2,125.80000000000001,23.6,9.0,14.5,2.8,13.5,16.3,24.4,5.0,12.3,99.0,29.4,125.80000000000001,65.6,11.6,2.6,59.5,2.4,11.5,2.5,69.9,50.3,22.5,26.1,3.5,7.2,7.5,2.7,2.6,17.3,12.2,3.2,10.1,10.6,4.6,2.4,91.4,28.8,31.1,36.0,10.4,4.2,2.4,3.3,19.3,2.4,22.5,10.2,29.2,2.7,87.5,3.0,7.8,10.0,8.5,5.1,76.3,10.6,10.1,125.80000000000001,5.2,6.0,11.9,5.6,9.1,7.9,5.0,110.2,67.1,6.8,20.3,13.8,85.6,4.1,9.6,4.4,11.7,14.5,7.8,2.4,11.9,6.0,10.8,14.9,8.0,44.8,23.4,4.4,15.1,2.6,4.1,23.0,21.9,15.0,124.8,8.6,3.4,10.4,10.8,125.80000000000001,73.5,4.6,51.2,11.3,2.7,13.1,20.8,18.7,12.9,2.4,27.3,46.5,11.6,2.7,6.6,11.7,2.8,3.7,3.0,60.3,3.5,4.9,125.80000000000001,10.6,2.7,36.0,5.1,23.0,8.6,2.8,125.80000000000001,15.0,64.5,56.7,2.5,6.1,2.4,15.0,69.0,2.7,12.2,109.5,7.6,20.5,6.6,2.5,52.5,29.3,2.4,2.9,20.0,125.80000000000001,123.9,114.2,52.2,19.3,27.8,3.7,8.5,17.2,14.9,5.1,8.5,2.9,4.7,11.4,19.2,2.4,7.6,94.8,19.7,5.1,19.3,79.7,125.80000000000001,10.3,8.1,5.5,10.7,19.4,83.5,39.3,5.0,39.3,5.7,16.1,63.0,35.3,4.0,27.7,120.1,20.7,7.6,7.0,7.9,125.80000000000001,11.9,19.2,28.3,13.8,2.4,16.4,7.3,48.8,9.9,66.0,4.3,97.6,125.80000000000001,3.6,3.0,2.4,4.2,125.80000000000001,4.9,2.8,4.1,7.5,25.3,84.8,4.5,68.6,4.9,10.9,25.7,12.7,42.3,103.8,43.1,16.3,26.1,5.8,2.4,2.4,2.4,70.7,18.1,10.5,8.7,12.7,125.7,7.4,2.4,29.3,53.1,7.3,123.6,125.80000000000001,11.1,16.6,7.7,13.9,3.6,106.5,3.6,5.4,13.6,6.0,22.5,4.5,2.4,27.9,6.2,11.7,12.0,24.0,32.7,4.9,89.3,9.0,3.2,23.7,23.0,5.0,7.3,11.7,8.0,7.0,125.80000000000001,13.3,12.3,43.4,125.80000000000001,2.4,28.3,3.8,20.3,8.4,7.1,9.2,45.1,11.2,8.6,69.3,5.5,22.3,15.5,23.4,125.80000000000001,3.7,19.5,99.3,6.0,41.5,22.8,23.0,3.1,4.9,14.5,36.6,10.3,62.5,6.7,18.9,125.80000000000001,9.8,10.2,2.4,18.8,4.7,4.1,52.6,12.3,21.6,53.7,15.3,73.7,6.5,10.7,17.7,2.4,9.9,8.2,4.0,14.9,17.8,8.3,28.5,8.1,22.1,17.2,44.7,2.4,26.7,17.6,74.1,22.1,55.6,3.6,16.7,54.6,5.4,3.2,9.4,19.0,42.6,3.5,15.2,2.4,34.3,12.8,7.6,8.5,5.4,16.6,25.4,5.7,10.3,10.3,16.2,96.4,41.6,3.9,4.2,2.8,2.4,2.7,8.8,22.2,8.6,2.4,113.4,20.2,52.0,11.5,17.9,4.0,34.7,18.4,14.1,12.1,18.1,11.5,30.6,125.80000000000001,21.7,98.9,20.9,3.1,6.5,3.8,49.5,50.7,8.4,18.7,25.3,10.8,10.9,4.8,25.2,8.2,10.7,28.4,125.80000000000001,125.80000000000001,10.8,27.1,2.4,7.8,21.2,2.4,41.7,6.8,9.2,3.9,125.80000000000001,125.80000000000001,16.3,10.9,15.7,29.0,4.5,11.2,5.0,2.4,3.7,4.4,84.3,37.7,22.7,19.2,29.5,7.7,125.80000000000001,8.8,11.3,45.8,5.6,7.9,5.6,3.9,22.9,10.4,24.8,3.4,7.0,18.0,125.80000000000001,15.1,53.0,11.3,125.80000000000001,64.9,22.8,82.6,8.1,24.4,3.9,4.6,5.3,2.5,10.6,8.6,9.4,28.0,5.8,11.7,48.9,4.1,28.4,50.1,5.9,3.8,68.3,19.3,31.4,4.3,4.5,2.5,49.3,22.1,33.1,4.4,2.6,125.80000000000001,7.2,3.7,12.5,125.80000000000001,11.0,2.6,2.8,37.6,12.5,8.2,2.6,29.2,125.80000000000001,4.2,2.4,3.3,4.2,49.0,13.5,5.6,7.9,17.0,12.8,17.6,4.6,20.0,113.3,91.8,2.9,125.80000000000001,11.8,37.8,125.80000000000001,82.9,12.5,13.3,61.4,113.5,24.2,2.7,2.4,2.6,3.8,37.3,4.5,62.2,10.7,2.6,9.7,125.80000000000001,15.2,15.9,6.8,29.5,41.4,8.0,2.8,2.5,2.6,101.1,24.3,125.80000000000001,4.0,13.1,3.7,2.4,5.3,5.9,21.1,3.0,10.9,20.4,28.8,4.9,4.5,2.8,10.3,49.0,35.2,7.1,27.7,125.80000000000001,11.4,125.80000000000001,15.8,76.6,10.2,17.1,3.4,17.9,42.3,125.80000000000001,4.6,10.3,25.4,125.80000000000001,21.5,4.9,8.0,32.3,5.0,125.80000000000001,14.5,17.0,3.2,7.0,6.8,2.8,2.4,2.5,9.9,26.5,10.5,19.7,4.1,8.4,13.1,2.4,2.5,125.80000000000001,4.8,20.7,21.7,4.3,21.2,50.6,125.80000000000001,4.2,11.6,3.1,8.3,4.4,125.80000000000001,81.2,33.1,8.5,14.2,2.9,5.0,11.1,30.4,10.0,12.2,3.2,34.7,51.4,15.0,6.0,15.7,3.1,19.9,8.6,101.4,125.80000000000001,7.7,4.0,16.9,35.6,21.1,125.80000000000001,2.9,4.7,7.9,6.5,7.4,11.1,19.2,18.3,2.4,5.2,7.7,22.0,2.5,9.4,42.5,60.4,2.4,7.8,6.0,86.4,3.7,7.8,27.1,12.6,10.2,2.4,7.2,3.2,101.6,23.1,4.0,36.6,15.2,20.3,4.1,7.4,2.4,3.1,15.2,3.1,7.5,3.3,3.1,33.2,28.1,2.4,19.3,19.9,5.3,30.2,13.2,14.5,16.6,5.2,13.6,6.6,17.6,125.80000000000001,125.80000000000001,5.1,101.4,21.6,7.4,74.5,120.5,73.0,24.4,17.8,7.3,2.7,27.1,9.7,15.7,4.5,62.1,46.8,6.5,22.5,54.9,125.80000000000001,38.1,27.4,2.4,9.4,4.2,119.1,4.2,35.7,125.80000000000001,7.7,15.0,3.3,22.7,125.80000000000001,100.9,3.9,125.80000000000001,4.4,125.80000000000001,4.1,60.7,23.4,5.4,13.9,125.80000000000001,18.0,34.9,48.3,6.5,21.3,16.5,8.0,57.7,7.4,104.0,2.4,33.8,4.8,2.4,3.6,20.5,6.1,9.3,2.4,93.0,125.80000000000001,15.8,11.6,29.7,8.8,4.5],\"xaxis\":\"x\",\"yaxis\":\"y\",\"type\":\"histogram\"},{\"alignmentgroup\":\"True\",\"hovertemplate\":\"revenue_in_millions=%{x}<extra></extra>\",\"legendgroup\":\"\",\"marker\":{\"color\":\"#1F77B4\",\"line\":{\"color\":\"white\",\"width\":1}},\"name\":\"\",\"notched\":true,\"offsetgroup\":\"\",\"showlegend\":false,\"x\":[36.9,33.6,24.9,32.4,22.5,125.80000000000001,20.5,23.3,125.80000000000001,21.4,13.9,30.3,19.1,19.1,17.3,10.7,105.8,19.0,24.4,9.6,10.2,11.9,13.8,10.5,8.9,125.80000000000001,15.8,7.8,11.8,125.80000000000001,20.4,10.2,7.2,20.8,125.80000000000001,48.9,24.0,17.5,45.2,15.2,8.3,6.4,7.0,8.8,6.2,16.9,6.3,9.8,7.1,48.5,25.0,42.5,23.9,58.8,5.1,8.0,7.8,25.9,107.6,42.4,21.5,21.0,44.6,5.8,89.7,10.7,12.8,9.0,125.80000000000001,14.3,6.2,4.7,20.9,4.6,6.7,10.0,8.2,4.3,7.2,4.7,16.3,54.4,5.1,25.8,9.0,9.0,4.5,104.1,3.9,10.4,14.4,6.4,4.9,6.6,7.3,7.4,15.3,13.7,4.8,34.2,102.9,13.9,9.0,33.0,14.4,11.1,3.5,3.9,7.6,59.3,4.7,7.8,3.8,5.1,6.4,19.0,3.3,3.1,3.7,23.6,25.8,12.3,6.6,79.0,3.5,38.8,4.7,3.2,3.2,30.0,3.1,6.7,84.8,12.4,38.8,4.0,5.4,6.5,9.8,20.4,3.1,7.1,101.1,25.1,4.7,3.5,5.4,9.2,18.5,2.8,5.5,4.4,21.8,4.4,28.4,4.0,13.6,3.0,20.6,3.0,4.9,72.3,13.3,2.5,15.9,100.8,3.0,15.5,53.1,3.1,6.4,3.0,5.7,17.4,2.6,14.2,12.0,3.3,7.0,9.9,10.3,3.1,4.6,12.8,2.7,85.8,5.4,8.2,6.9,7.2,12.7,4.1,24.7,4.5,32.9,2.4,3.6,20.8,3.6,14.3,4.0,125.80000000000001,40.5,2.4,2.4,37.5,5.1,113.5,3.9,22.3,3.6,4.4,61.1,2.7,4.1,125.80000000000001,31.5,4.5,3.5,18.7,6.1,10.0,2.7,7.7,4.5,8.2,6.6,10.7,7.2,2.6,2.9,46.2,120.5,4.7,12.0,2.4,4.3,11.1,3.6,7.3,6.3,3.3,2.4,5.3,26.3,4.6,13.4,125.80000000000001,8.3,2.4,4.4,46.2,7.4,3.7,3.1,10.5,10.1,8.8,58.8,7.2,3.7,4.2,8.5,4.7,4.5,2.6,2.4,71.6,125.80000000000001,2.7,125.80000000000001,7.7,8.6,14.0,3.0,18.4,4.1,8.4,5.5,5.2,3.4,2.4,40.9,13.7,93.9,4.9,113.5,2.7,9.1,97.4,2.6,6.1,9.8,20.8,3.6,2.4,6.3,9.1,11.8,3.2,14.1,6.6,2.7,47.1,65.2,4.4,76.9,16.1,6.8,2.9,3.4,5.8,3.2,5.3,2.4,35.7,9.9,2.4,5.8,2.8,25.1,125.80000000000001,5.0,8.2,2.6,2.4,3.8,6.8,27.3,9.7,2.9,16.2,2.4,3.4,4.0,2.8,2.4,3.7,5.7,6.0,2.4,2.4,12.4,4.3,33.8,7.2,64.3,2.7,29.1,10.4,2.4,35.3,24.2,5.7,19.7,2.9,2.4,8.0,8.1,5.9,2.4,5.9,8.8,16.0,12.0,15.3,28.0,2.6,2.6,3.1,4.7,2.7,6.4,21.7,3.4,4.0,125.80000000000001,3.8,31.4,2.4,21.6,7.0,30.8,125.80000000000001,6.2,12.8,5.1,19.5,2.5,4.8,2.9,4.6,2.8,4.7,2.4,2.9,10.1,6.9,3.0,2.8,5.4,15.4,9.5,4.1,125.80000000000001,24.0,32.7,3.6,21.5,5.6,11.6,8.8,7.1,125.80000000000001,5.5,2.8,14.0,8.8,15.8,35.9,7.0,2.8,2.4,6.9,9.8,6.5,5.4,125.80000000000001,5.9,5.2,4.3,4.9,8.6,20.4,13.2,38.5,21.3,67.8,10.1,20.8,94.6,2.4,15.9,12.7,8.9,4.1,3.0,22.3,31.4,74.3,3.9,5.9,45.1,2.7,18.6,125.80000000000001,4.4,29.8,3.6,11.3,7.8,2.8,3.2,18.8,7.5,14.2,17.4,5.8,4.5,52.3,40.0,42.9,11.6,2.4,7.1,2.4,30.1,3.0,7.7,22.1,2.5,2.4,2.5,31.3,3.5,7.2,59.4,78.6,11.4,5.4,45.4,52.4,5.4,5.3,18.4,2.4,2.9,21.3,5.1,4.9,8.0,12.3,4.7,3.5,8.5,18.1,9.0,10.7,84.3,10.3,2.4,16.2,27.2,2.4,2.4,8.7,6.1,16.3,3.8,12.6,9.7,21.3,6.6,2.5,17.5,125.80000000000001,6.0,4.5,9.5,4.8,3.0,2.4,4.5,15.3,2.9,7.9,53.5,13.6,19.0,4.7,2.4,8.1,2.4,125.80000000000001,31.6,8.2,7.3,6.2,10.7,5.5,37.6,7.5,11.0,5.3,6.0,10.7,9.2,2.4,12.6,27.4,2.4,17.2,125.80000000000001,6.9,77.4,16.7,8.9,2.8,70.7,46.4,5.0,3.7,17.5,41.9,79.6,16.4,12.5,37.3,4.6,7.0,10.0,6.1,17.1,45.5,21.8,3.6,2.5,18.8,3.7,4.1,3.4,13.0,16.9,6.0,5.0,5.3,2.4,14.9,4.0,44.0,6.0,3.4,2.4,10.9,14.8,125.80000000000001,6.0,3.5,2.9,6.3,2.9,9.2,5.8,2.4,15.6,27.6,36.5,2.9,5.9,29.7,29.6,22.9,73.3,10.3,7.2,5.5,5.7,7.3,75.3,3.1,2.7,49.1,9.0,6.4,6.4,2.4,9.5,78.5,2.4,2.4,22.8,39.4,13.6,13.4,8.0,2.6,5.5,2.4,4.1,5.5,4.0,2.9,22.3,70.0,93.2,27.2,125.80000000000001,31.5,2.4,62.0,2.5,12.1,33.6,37.1,5.0,17.6,88.3,2.4,2.7,6.6,13.2,2.6,14.1,5.2,2.4,2.4,5.2,6.3,2.5,14.9,8.9,4.2,17.3,49.4,5.6,14.2,8.3,3.0,13.7,12.4,4.9,4.2,6.6,9.2,7.7,4.8,2.4,9.9,13.9,125.80000000000001,2.9,18.5,12.1,16.7,2.4,23.6,125.80000000000001,9.6,11.3,9.0,5.5,18.6,6.0,101.3,30.8,2.4,3.6,4.6,4.1,8.8,5.5,18.3,8.6,3.8,12.4,9.8,33.1,2.9,3.5,66.6,92.7,23.7,2.4,14.4,32.6,73.2,2.4,2.4,30.2,12.9,3.9,2.5,6.9,11.1,4.5,48.7,6.1,4.2,2.4,17.8,2.8,4.1,125.80000000000001,5.7,15.2,2.4,11.4,28.6,125.80000000000001,9.3,75.5,23.7,5.0,5.7,3.4,2.4,40.9,4.8,19.4,13.8,39.3,10.9,3.5,8.1,4.6,2.6,14.6,7.2,5.1,5.6,5.0,25.4,4.0,125.80000000000001,14.3,22.5,14.8,114.5,2.4,16.2,6.3,5.7,44.2,2.4,11.0,7.3,11.3,8.4,2.4,6.3,3.5,3.2,18.4,3.0,35.6,5.7,5.8,6.5,4.3,6.4,23.6,2.7,125.80000000000001,7.2,84.7,7.0,75.0,18.1,3.1,9.2,2.4,2.7,8.2,19.5,4.5,3.7,4.0,3.4,8.8,24.3,4.2,4.5,21.7,5.1,4.8,5.1,12.2,9.3,102.2,9.5,3.1,5.5,5.8,2.9,11.1,3.0,11.6,72.8,4.9,69.7,7.0,3.5,4.1,5.4,14.6,14.4,44.8,20.0,14.5,6.5,2.9,59.9,5.6,21.4,27.0,7.5,13.0,14.0,17.2,32.6,105.6,3.2,11.2,13.1,5.2,5.4,2.7,2.7,7.6,39.8,12.1,46.3,56.4,10.2,24.2,4.1,2.7,16.0,21.3,4.7,26.6,2.4,2.5,14.0,31.1,4.2,3.7,3.5,15.7,99.6,4.7,5.1,2.4,16.4,2.8,2.8,8.6,29.6,4.6,7.1,3.0,80.9,9.0,2.6,125.80000000000001,2.4,33.6,4.4,2.7,46.6,125.80000000000001,2.4,2.4,14.2,5.2,125.80000000000001,2.4,31.6,70.1,2.6,10.3,4.0,2.4,2.8,125.5,5.1,2.4,3.0,4.2,2.7,8.5,15.8,3.6,3.7,2.9,66.5,5.0,32.2,5.2,84.1,2.9,5.1,8.0,15.8,2.4,5.2,36.1,5.0,3.8,5.4,4.1,3.8,23.0,13.8,16.7,20.7,20.9,7.1,63.2,26.4,2.5,3.1,18.7,4.8,7.3,10.0,6.8,4.0,19.6,6.6,6.8,39.6,4.6,6.8,4.6,3.5,17.4,53.5,10.0,7.1,125.80000000000001,8.0,4.6,6.3,8.8,2.4,11.0,23.4,26.4,5.6,5.1,16.5,4.1,67.3,6.7,8.9,21.9,2.6,3.2,18.8,21.5,69.9,2.4,2.9,28.9,3.1,4.4,50.4,125.80000000000001,12.3,5.6,2.4,58.9,10.1,50.1,3.8,3.6,3.7,28.4,44.3,5.9,15.6,66.5,4.2,32.5,11.7,49.5,4.2,7.1,5.8,6.5,4.3,4.2,38.0,11.6,8.1,15.0,28.2,4.6,6.6,15.3,3.9,3.2,4.1,6.7,4.7,9.2,7.8,33.5,12.1,7.4,7.9,13.6,3.7,3.6,5.4,7.5,15.7,125.80000000000001,117.6,5.0,21.5,2.5,15.4,12.2,14.5,125.80000000000001,5.6,9.0,50.7,2.4,3.9,30.4,3.4,63.6,2.4,43.7,4.7,4.3,4.5,9.9,2.5,4.5,3.2,5.4,43.8,2.7,31.4,10.3,3.3,14.4,6.3,24.0,17.7,6.9,10.3,9.4,37.3,31.2,60.2,2.8,3.3,4.2,21.9,7.3,5.9,3.0,16.6,125.80000000000001,14.6,81.6,4.0,46.7,8.5,12.2,2.4,4.1,7.6,17.3,3.2,14.2,2.4,2.4,25.6,2.7,12.8,3.8,5.2,116.6,5.0,2.4,3.7,19.9,61.3,50.6,2.4,6.0,11.1,101.2,4.2,10.4,4.7,33.7,4.5,9.8,8.6,5.4,10.1,10.2,23.5,47.3,2.4,3.7,17.3,17.3,11.6,18.1,17.1,35.3,7.0,39.8,15.6,125.80000000000001,31.0,2.9,60.7,20.1,13.1,7.3,2.9,2.4,29.2,6.4,75.6,2.4,6.8,3.9,5.8,5.6,4.3,3.0,14.2,14.2,22.3,2.9,12.1,26.6,12.3,125.80000000000001,13.3,93.9,12.4,2.6,6.3,2.7,2.4,13.7,4.1,4.2,31.8,16.7,68.0,24.6,10.7,5.1,20.4,59.8,7.0,2.7,2.4,69.4,19.9,13.5,5.1,11.8,56.0,36.2,9.5,6.3,3.4,3.0,2.4,41.3,5.3,25.2,2.7,4.3,3.9,5.3,2.5,3.3,10.2,2.4,50.3,23.6,24.2,24.8,18.3,7.5,12.4,7.7,2.4,6.8,8.5,10.4,8.2,10.5,9.3,5.8,9.7,101.6,3.5,5.3,12.3,2.4,6.0,20.2,7.6,2.4,125.80000000000001,19.4,3.1,40.5,52.2,21.3,2.4,8.5,20.3,8.8,4.8,16.0,14.2,5.7,2.4,3.2,8.7,4.5,6.7,5.9,5.0,6.7,2.4,26.6,8.9,125.80000000000001,4.3,2.4,7.6,7.0,4.0,5.0,6.3,7.5,8.5,6.9,45.6,9.4,37.8,13.9,125.80000000000001,35.9,3.1,90.1,2.4,5.9,3.4,6.7,125.80000000000001,12.7,3.0,5.0,2.5,5.6,3.1,3.1,2.9,3.3,58.3,38.9,28.8,22.3,13.1,24.2,13.0,2.5,2.5,125.80000000000001,15.6,5.2,99.7,8.4,31.5,35.6,4.1,2.7,16.8,8.2,24.0,10.6,8.8,3.8,4.7,9.7,4.4,2.4,69.8,2.8,3.2,21.3,23.6,3.8,10.3,9.9,20.0,3.5,8.1,35.9,125.80000000000001,94.4,18.1,3.1,7.5,36.2,2.4,30.1,125.80000000000001,44.4,3.0,2.4,6.1,5.7,14.8,17.0,3.6,13.9,3.3,24.5,11.2,125.80000000000001,6.8,7.8,125.80000000000001,17.0,2.4,2.4,3.4,9.0,24.7,4.2,44.0,24.7,14.6,13.1,125.80000000000001,3.8,6.9,5.0,5.5,38.4,9.1,46.4,60.3,5.2,34.2,125.80000000000001,41.3,125.80000000000001,13.9,7.8,7.4,25.1,104.0,14.4,5.9,14.3,27.5,2.4,30.1,54.0,2.5,5.0,2.4,10.0,10.5,72.2,6.7,44.2,4.8,20.8,21.2,16.2,125.80000000000001,28.9,5.3,2.4,22.0,82.2,17.8,89.0,55.6,35.6,19.8,3.9,13.4,125.80000000000001,3.0,2.8,27.0,4.7,3.4,80.0,29.2,16.2,125.80000000000001,48.4,14.9,4.0,4.6,12.2,12.2,8.3,36.2,8.6,13.5,2.9,5.9,5.7,8.5,125.80000000000001,3.2,13.9,29.8,4.0,3.6,6.2,12.4,6.4,4.4,10.3,88.0,5.1,5.6,6.3,4.9,34.2,12.3,62.4,25.8,39.0,52.6,4.0,120.4,6.9,14.6,2.6,14.1,125.80000000000001,5.9,21.6,3.2,16.7,22.2,2.7,7.9,11.1,8.4,3.6,3.3,10.9,89.8,9.0,3.1,9.2,27.7,2.4,120.2,3.9,31.1,6.9,39.3,8.9,9.6,6.3,5.5,37.8,3.3,10.1,125.80000000000001,29.6,32.8,18.4,2.8,7.6,125.80000000000001,18.4,46.7,22.0,5.2,8.7,15.6,28.4,7.5,7.6,2.4,6.0,125.80000000000001,10.7,2.7,40.1,4.4,3.3,16.0,13.5,11.8,3.3,16.1,7.3,25.1,2.8,5.0,12.7,114.4,11.6,18.4,5.4,2.9,18.9,17.9,6.1,48.5,125.80000000000001,117.6,7.0,4.3,5.3,2.5,6.0,3.4,3.2,7.6,4.9,48.9,6.4,7.4,7.0,16.9,33.5,6.6,3.6,2.4,80.5,8.9,48.8,3.5,21.2,5.6,3.7,3.4,2.4,11.5,4.0,12.1,9.7,25.1,2.4,14.8,7.0,5.6,3.2,4.2,2.6,125.80000000000001,10.0,8.3,50.6,9.5,6.3,2.8,32.8,3.1,3.8,3.1,53.3,89.5,58.2,28.3,2.8,9.1,7.3,6.9,3.6,2.4,12.6,25.1,8.4,26.1,11.6,2.4,14.3,13.1,2.4,2.7,2.7,7.8,12.5,5.0,11.1,4.1,125.80000000000001,3.2,17.4,35.9,59.2,5.0,8.5,12.0,69.4,59.1,30.1,125.80000000000001,27.9,33.7,6.3,7.0,29.6,12.0,7.6,3.9,16.0,5.1,45.6,2.7,66.2,37.7,38.0,31.2,2.5,2.4,3.2,89.4,29.3,6.0,7.0,2.7,9.1,11.7,4.8,4.0,3.1,24.4,125.80000000000001,2.6,14.3,2.9,6.0,3.4,11.2,15.0,7.5,40.7,49.0,21.4,5.7,3.9,77.0,36.3,33.3,8.3,19.7,50.9,125.80000000000001,6.6,35.5,52.4,3.6,9.7,7.5,24.7,19.1,34.7,3.6,3.3,22.9,18.4,10.1,28.1,2.4,36.4,3.1,3.7,2.4,17.2,3.7,79.1,12.7,14.4,92.1,22.7,6.5,9.3,20.0,7.1,8.9,125.80000000000001,8.9,7.2,125.80000000000001,2.5,44.6,6.5,12.6,6.8,21.5,11.1,5.1,6.8,125.80000000000001,27.2,2.4,8.5,5.8,30.1,24.8,78.6,11.9,75.8,125.80000000000001,71.4,52.5,13.4,14.1,23.3,22.3,14.2,21.4,2.4,2.6,7.1,15.9,7.3,5.0,125.80000000000001,9.4,8.4,36.6,5.0,3.3,14.5,2.5,5.7,27.0,12.5,12.6,3.8,25.0,16.9,7.7,35.5,3.7,9.1,79.8,21.0,4.5,6.9,5.7,30.0,7.9,15.2,8.3,2.8,44.7,2.6,3.4,2.7,8.2,21.6,2.4,2.4,47.0,6.2,36.6,14.1,26.5,84.1,125.80000000000001,9.8,125.80000000000001,44.3,5.6,125.80000000000001,8.9,2.9,2.6,10.6,3.0,92.1,125.80000000000001,8.1,2.4,50.8,5.0,11.0,51.8,6.8,4.6,125.80000000000001,2.8,4.2,2.4,8.7,13.6,4.1,3.8,125.80000000000001,6.4,10.1,32.7,57.2,83.0,3.8,5.3,5.1,22.7,3.9,7.6,16.9,43.6,13.8,125.80000000000001,60.6,21.7,34.6,10.6,2.9,3.0,11.6,4.5,119.1,25.0,12.6,57.7,14.7,17.7,3.7,35.2,3.9,2.7,17.2,2.4,27.8,6.3,7.0,15.1,56.6,20.7,5.8,3.0,7.9,9.5,2.6,125.80000000000001,13.3,26.9,15.1,2.4,5.0,10.6,6.3,2.6,125.80000000000001,59.6,2.5,26.1,125.80000000000001,4.2,5.0,11.6,6.9,3.8,67.4,2.4,5.2,8.5,7.0,125.80000000000001,8.1,8.0,7.9,55.7,2.4,2.4,2.4,7.7,27.5,99.4,71.1,38.1,19.3,4.2,125.80000000000001,3.0,14.4,11.7,36.1,19.5,9.2,2.6,38.9,10.9,23.6,16.2,10.1,18.4,5.3,3.6,45.7,6.2,73.5,66.5,19.5,21.5,57.0,2.7,3.0,19.0,3.9,7.7,125.80000000000001,26.7,14.2,2.4,2.4,5.1,84.9,62.4,7.1,6.6,7.4,3.9,5.5,10.3,125.80000000000001,46.8,23.5,82.5,5.8,4.0,74.0,25.2,3.4,2.4,10.4,27.6,30.2,4.1,5.8,12.4,3.0,18.5,125.80000000000001,79.6,2.4,3.1,37.4,31.9,19.7,23.1,2.4,4.0,11.3,31.0,3.4,10.5,6.5,125.80000000000001,2.4,13.0,10.5,19.1,4.0,23.0,11.4,5.0,7.3,15.2,7.1,20.1,125.80000000000001,125.80000000000001,8.7,10.8,5.5,2.4,76.0,125.80000000000001,2.9,2.4,11.3,13.9,28.2,3.1,62.2,22.1,7.7,26.8,15.1,9.5,2.4,5.9,56.7,2.4,4.6,21.6,63.2,11.3,2.4,2.4,15.1,4.1,2.7,2.9,5.0,2.7,6.6,5.0,36.1,19.6,11.7,125.80000000000001,7.7,14.8,25.7,5.8,29.1,12.1,25.8,5.1,23.2,52.1,90.6,9.7,7.3,7.2,22.4,3.4,11.1,10.5,111.4,3.0,8.9,19.8,4.4,3.7,36.5,2.7,2.4,5.5,7.9,5.9,113.0,17.6,4.6,6.4,2.6,36.4,6.1,57.2,42.4,29.8,17.8,18.2,9.5,16.6,8.3,35.3,17.3,10.1,7.4,7.5,76.8,27.7,125.80000000000001,71.6,7.5,24.3,11.0,31.8,4.1,17.0,125.80000000000001,57.1,15.9,27.6,9.0,11.9,7.2,16.9,3.3,6.6,36.8,7.3,4.4,69.3,60.0,3.6,8.4,4.6,2.4,7.2,27.4,49.8,54.5,48.6,2.7,12.4,13.5,10.0,45.7,3.1,7.5,125.80000000000001,5.7,65.8,42.1,91.1,9.9,11.4,2.4,3.2,5.8,34.5,6.8,21.2,3.0,19.8,125.80000000000001,33.8,35.2,19.6,7.3,61.7,3.4,3.1,66.3,11.0,10.3,15.2,24.9,12.4,5.0,2.6,125.80000000000001,20.6,3.3,11.1,6.3,18.8,22.2,57.2,39.7,27.5,39.1,3.9,8.3,13.9,20.9,15.7,2.4,13.9,25.3,125.80000000000001,3.3,9.7,42.3,3.6,11.3,6.1,2.4,61.9,5.0,17.6,125.80000000000001,92.0,2.4,7.1,3.9,9.0,9.2,5.6,13.8,25.0,14.6,84.9,3.3,48.5,2.4,22.3,4.8,124.9,4.3,10.0,9.5,6.5,13.1,8.0,9.6,2.5,6.8,5.5,12.4,2.4,94.9,63.9,15.8,41.1,15.2,8.0,4.5,2.8,8.1,13.8,6.7,22.2,5.7,29.8,125.80000000000001,2.5,2.4,4.6,13.2,45.3,76.9,3.9,11.0,4.2,5.2,4.4,13.2,7.3,12.8,5.1,4.0,56.1,4.6,14.1,28.8,14.8,13.5,40.3,13.7,3.0,29.7,12.7,7.0,6.2,21.7,112.6,13.7,35.2,32.9,3.9,6.3,3.9,11.2,125.80000000000001,4.0,14.9,3.4,10.1,13.5,5.9,14.2,3.9,31.2,31.6,125.80000000000001,2.7,57.0,7.4,6.7,35.6,125.80000000000001,13.8,5.3,4.9,42.4,5.7,27.4,125.80000000000001,12.0,20.5,3.4,5.4,3.3,15.4,16.0,9.2,20.3,16.1,13.9,2.4,24.8,17.5,45.7,2.4,8.9,13.0,10.4,4.2,2.4,9.5,5.3,11.0,2.4,4.0,3.4,9.3,125.80000000000001,17.6,62.1,119.8,8.9,34.8,2.4,9.9,125.80000000000001,9.7,5.9,12.7,6.2,17.8,17.2,5.5,7.2,11.9,5.7,5.2,23.3,34.1,34.2,7.8,7.8,84.3,19.2,8.0,63.1,2.4,18.0,17.0,63.7,15.5,2.4,29.6,2.4,9.3,2.4,7.5,4.5,9.5,29.4,2.9,6.3,5.9,6.4,5.6,61.3,5.7,6.7,26.7,56.1,3.7,44.3,3.0,7.6,6.9,67.8,9.8,6.1,2.4,15.4,72.8,3.5,18.1,5.6,5.8,46.4,7.7,10.5,14.6,10.6,9.6,23.1,43.5,3.2,3.6,10.3,3.5,13.8,125.80000000000001,2.8,14.5,13.1,125.80000000000001,2.7,11.1,47.5,125.80000000000001,5.8,39.7,40.5,42.1,6.4,2.4,2.4,9.5,3.0,7.0,47.5,19.6,75.5,6.1,3.8,15.0,5.1,30.7,9.5,9.2,12.3,28.8,8.5,3.8,10.8,3.9,15.2,7.1,5.0,12.7,10.2,10.3,19.2,9.6,7.1,6.3,14.9,6.0,5.2,5.3,2.5,23.4,14.4,16.7,15.7,5.4,10.6,4.3,4.1,14.3,2.7,11.1,5.7,2.4,10.3,2.9,70.8,80.5,3.1,3.9,3.7,18.2,13.7,40.4,15.4,20.4,6.2,28.0,4.1,32.0,74.1,2.8,6.3,18.2,57.6,12.6,2.4,8.6,43.8,4.8,15.6,125.80000000000001,14.2,3.8,9.1,82.6,15.6,3.8,24.9,26.7,44.4,3.8,125.80000000000001,8.9,125.80000000000001,2.4,52.3,9.8,3.5,106.9,26.0,113.0,2.5,53.4,4.2,15.1,2.4,4.4,82.0,5.0,4.7,8.3,45.7,6.6,16.3,7.1,6.1,2.4,70.1,25.4,125.80000000000001,10.6,68.3,17.8,73.3,34.8,107.8,97.0,16.0,5.6,18.1,7.3,5.1,4.3,4.4,4.0,12.6,24.7,2.5,3.1,7.8,17.4,2.4,2.4,7.0,125.80000000000001,14.6,50.9,14.1,86.7,2.4,5.6,19.4,17.7,19.8,9.4,42.2,9.1,22.2,2.5,15.0,4.9,17.7,18.1,5.7,2.5,125.80000000000001,28.0,125.80000000000001,37.7,4.5,15.7,4.0,8.9,39.6,4.4,23.3,2.4,5.9,12.2,125.80000000000001,7.2,24.4,68.4,21.4,5.0,2.4,20.1,6.0,4.3,14.5,8.4,5.9,3.3,80.7,6.9,4.7,13.7,4.9,6.9,2.4,30.5,16.0,17.4,44.9,10.9,5.9,125.80000000000001,5.3,52.8,10.2,22.0,25.8,56.4,43.3,68.2,2.4,22.3,13.5,27.7,3.4,95.7,34.9,23.2,3.7,62.0,13.7,3.8,33.0,9.8,73.9,23.3,10.9,7.5,7.8,4.2,13.4,9.5,28.3,106.2,30.2,3.5,10.9,15.7,17.8,3.6,7.1,2.4,10.7,4.8,22.9,7.5,2.9,4.1,2.7,15.8,9.2,2.7,125.80000000000001,2.5,8.8,3.2,35.3,125.80000000000001,2.4,14.4,3.0,6.0,27.7,29.4,3.0,6.5,35.9,125.80000000000001,83.9,16.8,2.4,8.6,2.9,6.3,17.9,40.4,43.3,3.4,9.6,125.80000000000001,8.1,12.2,12.3,11.3,5.5,16.2,14.3,9.3,14.6,7.8,3.8,44.8,100.5,9.0,12.4,4.7,44.3,63.8,90.1,3.6,24.5,9.3,97.1,63.9,5.3,24.8,7.5,24.7,14.0,42.3,4.7,4.2,2.9,2.6,19.4,5.5,7.0,8.0,12.1,27.1,2.6,14.6,13.7,125.80000000000001,107.9,4.8,3.5,12.0,4.2,3.1,125.80000000000001,5.1,2.4,12.4,58.7,14.4,19.8,45.8,12.2,14.1,5.1,37.0,4.9,2.4,3.5,9.8,3.0,3.0,47.0,4.8,12.2,6.5,2.6,78.3,9.1,26.6,3.0,33.9,85.4,2.9,6.3,16.5,20.2,69.8,3.4,29.8,6.0,12.0,37.1,47.6,13.0,4.1,12.8,35.4,30.5,6.6,23.7,6.0,4.1,13.7,25.6,2.5,2.4,67.8,68.3,9.6,10.7,8.8,7.9,25.0,14.5,39.6,8.9,4.0,92.8,28.4,3.1,4.9,8.3,15.9,4.9,12.8,125.80000000000001,8.8,9.7,60.5,21.8,26.5,26.7,66.8,46.2,125.80000000000001,3.3,20.3,5.7,4.4,33.1,3.4,35.0,16.5,8.1,3.6,31.7,115.0,4.3,4.0,3.7,3.2,2.9,3.4,12.0,9.7,10.2,7.2,53.0,7.8,12.6,24.1,7.0,71.3,11.0,18.1,65.1,2.4,29.5,26.3,15.3,8.0,6.3,29.9,6.3,3.5,32.7,71.2,8.1,8.7,43.8,9.9,2.6,3.6,20.9,5.1,7.4,7.4,125.80000000000001,20.0,14.3,19.8,47.9,2.7,9.6,68.6,48.5,9.7,2.9,2.4,25.4,5.6,16.1,2.4,8.7,125.80000000000001,5.8,31.2,2.4,28.3,10.6,23.4,29.6,54.8,5.8,6.2,18.7,113.4,10.6,7.4,3.7,12.4,125.80000000000001,5.4,58.6,2.4,35.6,2.6,16.1,90.7,2.9,13.8,125.80000000000001,3.4,15.5,2.9,12.6,21.9,7.1,125.80000000000001,2.4,2.4,45.8,50.5,28.9,111.5,45.3,4.2,16.5,2.6,6.6,8.9,30.6,3.9,11.0,14.2,125.80000000000001,22.1,2.4,12.2,6.3,8.9,10.6,5.3,20.1,92.0,8.7,2.4,26.4,4.5,6.3,16.0,2.4,52.0,69.9,7.8,12.0,15.0,11.2,8.9,5.0,4.6,3.0,48.7,48.4,47.3,46.4,7.1,7.8,4.7,16.8,31.0,44.7,2.7,22.9,6.5,2.5,47.2,14.5,12.2,19.0,75.1,49.4,68.7,36.3,85.1,17.8,125.80000000000001,3.6,2.5,2.4,23.4,3.5,19.8,3.3,21.4,4.7,4.6,60.7,125.80000000000001,49.4,35.7,2.9,3.1,4.1,9.2,8.1,48.3,6.5,125.80000000000001,2.9,17.0,2.5,4.3,125.80000000000001,10.9,3.9,66.9,4.5,2.8,21.0,4.8,20.0,6.5,2.6,67.1,2.6,24.7,9.5,3.0,21.1,17.2,7.7,14.8,3.4,24.9,5.0,8.5,125.80000000000001,14.1,29.2,9.2,14.4,2.4,17.8,21.8,7.4,3.0,10.8,3.6,11.1,14.9,20.6,5.9,86.2,88.3,68.2,10.3,76.1,5.8,5.4,10.1,34.2,125.80000000000001,2.9,42.0,3.3,29.3,5.4,6.3,3.3,5.3,16.2,7.1,8.9,4.6,4.0,23.7,62.8,43.5,3.7,8.1,8.3,31.2,70.7,33.1,8.3,4.3,26.8,6.4,2.4,74.1,6.1,8.5,26.1,3.9,5.5,3.2,28.9,5.6,2.4,45.1,4.5,11.8,125.80000000000001,5.1,3.5,6.8,23.5,7.2,74.3,10.2,40.7,125.80000000000001,9.1,2.4,8.1,15.8,5.8,12.6,7.7,28.7,32.8,107.0,11.8,2.9,10.9,2.4,4.7,2.4,22.7,2.6,46.1,3.2,19.6,18.4,32.1,18.2,8.5,45.1,2.9,66.9,6.7,125.80000000000001,12.1,98.0,125.80000000000001,2.4,125.80000000000001,80.6,125.80000000000001,33.7,2.4,92.4,11.4,3.8,24.4,5.7,102.6,5.3,33.2,4.3,7.2,125.80000000000001,9.1,6.5,9.3,15.0,18.8,2.4,3.6,48.6,24.0,2.5,29.5,29.0,41.4,26.7,125.80000000000001,23.9,9.6,125.80000000000001,17.8,9.2,29.9,6.8,27.6,9.0,65.9,25.6,9.2,31.6,9.4,6.6,2.7,14.4,87.0,10.6,3.8,12.6,3.1,65.5,11.4,125.80000000000001,66.1,3.8,20.1,7.0,6.4,125.80000000000001,3.4,30.6,5.2,14.4,125.80000000000001,125.80000000000001,2.4,6.8,6.4,125.80000000000001,125.80000000000001,44.8,50.3,15.6,11.7,12.3,6.4,15.6,17.7,8.8,16.7,43.1,7.8,69.5,3.0,6.9,21.1,43.2,2.4,18.3,7.8,32.1,4.3,2.4,29.8,3.1,29.3,31.1,7.4,80.5,5.4,2.4,12.2,14.6,7.1,7.5,37.9,70.3,6.3,7.3,16.3,12.5,23.0,11.7,53.6,15.0,20.3,81.2,54.6,9.6,13.5,8.6,12.0,2.4,2.7,58.4,49.3,7.2,22.4,26.9,125.80000000000001,98.9,3.0,17.1,5.9,29.3,18.8,72.8,5.0,44.8,12.9,54.3,30.2,6.6,92.5,2.8,6.5,57.5,5.2,14.2,51.1,6.1,125.80000000000001,28.3,6.9,11.9,15.2,2.8,6.5,3.7,14.9,12.9,9.9,18.2,7.2,10.1,2.4,5.2,17.8,2.9,6.9,19.5,40.1,10.8,106.0,3.4,6.0,73.5,4.9,3.4,4.2,11.3,5.4,16.5,10.4,11.5,121.3,6.2,4.3,43.9,80.1,6.0,125.80000000000001,20.1,125.80000000000001,68.6,3.8,7.1,2.4,9.7,125.80000000000001,10.5,9.8,13.2,22.5,5.1,75.4,4.6,14.6,9.5,49.6,10.9,5.3,12.6,114.6,2.4,49.3,70.8,22.7,34.8,4.3,5.6,14.9,9.5,72.1,14.8,52.3,125.80000000000001,7.7,10.0,7.1,8.4,2.4,9.6,2.4,2.4,61.7,10.6,6.4,10.6,13.6,7.7,3.6,15.2,93.6,17.4,13.7,18.2,15.5,3.0,95.4,72.6,25.9,5.4,3.3,6.1,7.5,6.5,3.3,4.6,4.0,11.6,16.1,2.7,17.6,28.0,3.3,16.7,17.2,3.5,4.6,18.9,3.4,8.2,2.4,18.9,56.4,125.80000000000001,6.0,96.6,5.0,22.9,5.5,51.7,117.9,14.5,17.4,37.1,8.1,34.5,11.2,6.2,36.5,26.8,4.4,4.9,125.80000000000001,3.9,7.7,125.80000000000001,7.1,125.80000000000001,4.5,4.1,5.5,11.6,12.9,18.3,14.4,6.2,3.8,4.0,58.3,20.5,3.6,7.7,6.2,2.4,2.4,30.3,8.7,10.4,3.0,4.6,19.6,125.80000000000001,12.2,21.7,19.7,4.7,4.3,3.0,5.2,9.6,84.1,42.3,87.2,3.9,2.5,5.5,3.4,3.0,11.4,10.5,17.3,7.3,7.3,7.8,20.5,9.8,2.4,15.9,20.0,6.1,8.3,11.2,6.5,75.0,125.80000000000001,6.1,30.0,5.8,9.7,4.6,10.6,30.1,7.8,54.8,108.4,5.1,84.7,2.4,11.5,15.9,125.80000000000001,5.1,24.9,5.1,32.7,3.2,7.3,30.3,66.3,92.7,21.1,68.5,4.5,10.9,12.7,5.5,3.0,2.4,2.4,3.1,21.7,31.2,125.80000000000001,5.9,13.0,2.5,19.3,12.5,15.9,2.4,4.0,10.0,14.2,16.2,4.2,33.2,3.9,2.5,3.3,9.4,9.5,15.2,3.0,31.3,91.8,4.3,7.1,40.0,4.4,88.4,23.7,6.4,9.0,2.4,37.9,125.80000000000001,23.7,16.5,22.7,2.4,54.9,73.2,32.3,26.6,4.3,50.7,5.7,3.8,11.1,3.0,117.6,17.4,3.9,10.8,11.9,2.4,29.5,125.80000000000001,49.9,17.4,125.80000000000001,15.3,14.7,4.0,8.3,2.4,13.8,32.3,6.3,65.1,21.2,8.8,7.5,19.8,14.1,4.2,25.7,15.7,8.3,32.2,7.8,10.5,3.0,125.80000000000001,7.4,12.2,5.7,125.80000000000001,3.4,45.3,22.2,30.3,33.0,5.2,69.3,3.2,11.0,2.5,36.9,2.4,78.5,69.9,26.9,8.2,8.5,4.1,54.5,7.3,64.5,31.8,9.2,5.5,30.3,4.8,97.8,63.7,83.1,28.7,11.1,4.3,125.80000000000001,34.0,12.0,55.7,5.7,11.6,12.6,4.2,47.0,35.5,6.5,3.6,4.6,125.80000000000001,6.0,2.9,10.8,25.7,15.4,43.7,9.2,113.4,6.8,5.4,8.4,4.0,10.4,4.4,125.80000000000001,2.4,10.4,5.2,11.6,23.1,7.5,70.5,2.4,125.80000000000001,6.7,8.8,3.8,10.1,2.4,4.0,10.2,4.9,7.9,4.5,26.4,78.7,6.8,24.1,97.2,17.3,5.8,4.0,18.3,125.80000000000001,3.3,21.7,8.8,30.0,94.2,2.5,8.6,4.3,23.9,3.6,16.8,17.5,12.5,3.1,12.8,7.6,2.4,3.5,26.3,16.8,44.3,125.80000000000001,19.9,30.3,2.6,22.9,11.2,5.8,12.8,38.8,14.0,3.8,42.9,42.4,2.4,35.5,93.2,9.7,10.0,9.0,28.5,11.8,20.6,125.80000000000001,60.5,2.4,46.4,125.80000000000001,3.1,3.5,3.0,8.6,2.5,9.3,70.5,6.0,3.3,2.8,64.2,3.5,125.80000000000001,6.0,7.3,7.3,18.1,64.8,21.9,3.8,6.4,13.0,14.1,11.5,6.0,2.8,125.80000000000001,5.4,2.6,12.4,22.1,18.8,9.1,12.0,36.4,104.1,125.80000000000001,125.80000000000001,3.6,15.4,3.7,3.3,6.2,17.4,2.4,10.9,23.7,30.2,8.2,2.9,5.8,16.2,25.0,3.5,15.5,3.7,2.9,105.3,24.0,8.3,125.80000000000001,17.6,5.8,7.4,21.9,75.6,2.4,21.1,3.6,5.8,3.5,11.1,4.2,7.6,4.8,2.4,11.4,30.2,29.4,20.0,107.5,2.6,7.0,7.0,36.5,11.0,7.1,109.7,4.6,71.0,15.9,10.0,9.3,43.1,125.80000000000001,4.2,2.9,4.8,33.0,111.4,28.2,4.2,9.7,46.1,4.5,3.2,8.4,46.1,4.3,4.2,5.8,53.0,13.9,16.8,13.6,18.5,54.5,8.8,11.2,5.7,38.0,4.3,9.8,2.6,2.7,9.8,12.1,4.4,3.6,21.9,125.80000000000001,17.8,9.3,5.3,23.5,125.80000000000001,4.0,62.1,2.4,6.8,15.3,2.7,12.4,16.4,10.9,5.2,14.9,6.2,125.80000000000001,15.1,2.7,58.8,57.1,125.80000000000001,3.4,41.3,27.0,23.7,2.9,66.7,2.6,2.4,38.1,35.1,5.2,30.6,11.5,109.6,2.5,2.4,4.1,82.8,2.8,4.3,76.1,11.7,11.1,2.4,2.5,125.80000000000001,125.80000000000001,32.3,8.5,23.4,4.0,2.6,3.3,9.0,37.7,67.0,57.7,3.7,24.2,7.2,21.6,7.5,108.4,106.0,3.3,7.8,51.5,6.2,2.6,2.9,27.7,12.8,11.6,34.0,40.7,7.5,6.5,119.4,3.3,10.9,38.8,33.8,14.7,5.5,4.4,10.3,10.3,85.3,27.0,110.9,4.1,52.6,6.1,8.6,4.6,97.7,10.9,50.2,60.9,6.0,3.5,59.4,10.4,2.7,26.7,50.7,10.0,77.9,2.4,26.0,21.3,28.5,3.0,2.4,9.9,110.6,13.4,8.6,7.0,125.80000000000001,7.9,22.3,5.3,7.8,85.5,6.1,15.8,72.9,42.3,2.6,56.2,37.2,3.6,14.6,7.0,6.3,125.80000000000001,17.3,23.3,43.1,37.3,3.8,7.8,10.6,81.5,16.8,125.80000000000001,2.7,15.2,2.9,10.2,4.1,4.4,41.3,2.4,11.7,9.3,31.8,9.0,40.4,2.7,5.7,2.4,11.3,11.2,7.4,125.80000000000001,55.7,14.0,33.0,11.9,125.80000000000001,125.80000000000001,3.7,33.6,10.7,5.9,125.80000000000001,6.2,7.9,65.8,7.5,15.9,8.4,66.5,3.4,8.9,102.9,4.1,114.6,21.3,17.2,21.9,3.5,38.0,125.80000000000001,10.5,18.5,11.4,6.4,3.2,61.2,4.1,10.7,7.3,5.8,10.7,2.8,4.4,15.4,125.80000000000001,23.7,3.8,4.9,2.4,27.8,57.3,8.4,116.3,2.4,6.3,4.6,3.6,4.0,9.4,67.4,6.6,4.8,15.4,125.80000000000001,6.5,23.3,16.9,105.8,36.3,4.7,7.6,61.8,3.8,20.0,4.2,5.7,2.4,31.4,47.2,11.3,125.80000000000001,5.4,15.3,13.8,60.3,7.2,2.9,46.9,7.4,6.1,4.2,2.4,3.4,5.2,5.2,5.2,125.80000000000001,23.6,9.0,14.5,2.8,13.5,16.3,24.4,5.0,12.3,99.0,29.4,125.80000000000001,65.6,11.6,2.6,59.5,2.4,11.5,2.5,69.9,50.3,22.5,26.1,3.5,7.2,7.5,2.7,2.6,17.3,12.2,3.2,10.1,10.6,4.6,2.4,91.4,28.8,31.1,36.0,10.4,4.2,2.4,3.3,19.3,2.4,22.5,10.2,29.2,2.7,87.5,3.0,7.8,10.0,8.5,5.1,76.3,10.6,10.1,125.80000000000001,5.2,6.0,11.9,5.6,9.1,7.9,5.0,110.2,67.1,6.8,20.3,13.8,85.6,4.1,9.6,4.4,11.7,14.5,7.8,2.4,11.9,6.0,10.8,14.9,8.0,44.8,23.4,4.4,15.1,2.6,4.1,23.0,21.9,15.0,124.8,8.6,3.4,10.4,10.8,125.80000000000001,73.5,4.6,51.2,11.3,2.7,13.1,20.8,18.7,12.9,2.4,27.3,46.5,11.6,2.7,6.6,11.7,2.8,3.7,3.0,60.3,3.5,4.9,125.80000000000001,10.6,2.7,36.0,5.1,23.0,8.6,2.8,125.80000000000001,15.0,64.5,56.7,2.5,6.1,2.4,15.0,69.0,2.7,12.2,109.5,7.6,20.5,6.6,2.5,52.5,29.3,2.4,2.9,20.0,125.80000000000001,123.9,114.2,52.2,19.3,27.8,3.7,8.5,17.2,14.9,5.1,8.5,2.9,4.7,11.4,19.2,2.4,7.6,94.8,19.7,5.1,19.3,79.7,125.80000000000001,10.3,8.1,5.5,10.7,19.4,83.5,39.3,5.0,39.3,5.7,16.1,63.0,35.3,4.0,27.7,120.1,20.7,7.6,7.0,7.9,125.80000000000001,11.9,19.2,28.3,13.8,2.4,16.4,7.3,48.8,9.9,66.0,4.3,97.6,125.80000000000001,3.6,3.0,2.4,4.2,125.80000000000001,4.9,2.8,4.1,7.5,25.3,84.8,4.5,68.6,4.9,10.9,25.7,12.7,42.3,103.8,43.1,16.3,26.1,5.8,2.4,2.4,2.4,70.7,18.1,10.5,8.7,12.7,125.7,7.4,2.4,29.3,53.1,7.3,123.6,125.80000000000001,11.1,16.6,7.7,13.9,3.6,106.5,3.6,5.4,13.6,6.0,22.5,4.5,2.4,27.9,6.2,11.7,12.0,24.0,32.7,4.9,89.3,9.0,3.2,23.7,23.0,5.0,7.3,11.7,8.0,7.0,125.80000000000001,13.3,12.3,43.4,125.80000000000001,2.4,28.3,3.8,20.3,8.4,7.1,9.2,45.1,11.2,8.6,69.3,5.5,22.3,15.5,23.4,125.80000000000001,3.7,19.5,99.3,6.0,41.5,22.8,23.0,3.1,4.9,14.5,36.6,10.3,62.5,6.7,18.9,125.80000000000001,9.8,10.2,2.4,18.8,4.7,4.1,52.6,12.3,21.6,53.7,15.3,73.7,6.5,10.7,17.7,2.4,9.9,8.2,4.0,14.9,17.8,8.3,28.5,8.1,22.1,17.2,44.7,2.4,26.7,17.6,74.1,22.1,55.6,3.6,16.7,54.6,5.4,3.2,9.4,19.0,42.6,3.5,15.2,2.4,34.3,12.8,7.6,8.5,5.4,16.6,25.4,5.7,10.3,10.3,16.2,96.4,41.6,3.9,4.2,2.8,2.4,2.7,8.8,22.2,8.6,2.4,113.4,20.2,52.0,11.5,17.9,4.0,34.7,18.4,14.1,12.1,18.1,11.5,30.6,125.80000000000001,21.7,98.9,20.9,3.1,6.5,3.8,49.5,50.7,8.4,18.7,25.3,10.8,10.9,4.8,25.2,8.2,10.7,28.4,125.80000000000001,125.80000000000001,10.8,27.1,2.4,7.8,21.2,2.4,41.7,6.8,9.2,3.9,125.80000000000001,125.80000000000001,16.3,10.9,15.7,29.0,4.5,11.2,5.0,2.4,3.7,4.4,84.3,37.7,22.7,19.2,29.5,7.7,125.80000000000001,8.8,11.3,45.8,5.6,7.9,5.6,3.9,22.9,10.4,24.8,3.4,7.0,18.0,125.80000000000001,15.1,53.0,11.3,125.80000000000001,64.9,22.8,82.6,8.1,24.4,3.9,4.6,5.3,2.5,10.6,8.6,9.4,28.0,5.8,11.7,48.9,4.1,28.4,50.1,5.9,3.8,68.3,19.3,31.4,4.3,4.5,2.5,49.3,22.1,33.1,4.4,2.6,125.80000000000001,7.2,3.7,12.5,125.80000000000001,11.0,2.6,2.8,37.6,12.5,8.2,2.6,29.2,125.80000000000001,4.2,2.4,3.3,4.2,49.0,13.5,5.6,7.9,17.0,12.8,17.6,4.6,20.0,113.3,91.8,2.9,125.80000000000001,11.8,37.8,125.80000000000001,82.9,12.5,13.3,61.4,113.5,24.2,2.7,2.4,2.6,3.8,37.3,4.5,62.2,10.7,2.6,9.7,125.80000000000001,15.2,15.9,6.8,29.5,41.4,8.0,2.8,2.5,2.6,101.1,24.3,125.80000000000001,4.0,13.1,3.7,2.4,5.3,5.9,21.1,3.0,10.9,20.4,28.8,4.9,4.5,2.8,10.3,49.0,35.2,7.1,27.7,125.80000000000001,11.4,125.80000000000001,15.8,76.6,10.2,17.1,3.4,17.9,42.3,125.80000000000001,4.6,10.3,25.4,125.80000000000001,21.5,4.9,8.0,32.3,5.0,125.80000000000001,14.5,17.0,3.2,7.0,6.8,2.8,2.4,2.5,9.9,26.5,10.5,19.7,4.1,8.4,13.1,2.4,2.5,125.80000000000001,4.8,20.7,21.7,4.3,21.2,50.6,125.80000000000001,4.2,11.6,3.1,8.3,4.4,125.80000000000001,81.2,33.1,8.5,14.2,2.9,5.0,11.1,30.4,10.0,12.2,3.2,34.7,51.4,15.0,6.0,15.7,3.1,19.9,8.6,101.4,125.80000000000001,7.7,4.0,16.9,35.6,21.1,125.80000000000001,2.9,4.7,7.9,6.5,7.4,11.1,19.2,18.3,2.4,5.2,7.7,22.0,2.5,9.4,42.5,60.4,2.4,7.8,6.0,86.4,3.7,7.8,27.1,12.6,10.2,2.4,7.2,3.2,101.6,23.1,4.0,36.6,15.2,20.3,4.1,7.4,2.4,3.1,15.2,3.1,7.5,3.3,3.1,33.2,28.1,2.4,19.3,19.9,5.3,30.2,13.2,14.5,16.6,5.2,13.6,6.6,17.6,125.80000000000001,125.80000000000001,5.1,101.4,21.6,7.4,74.5,120.5,73.0,24.4,17.8,7.3,2.7,27.1,9.7,15.7,4.5,62.1,46.8,6.5,22.5,54.9,125.80000000000001,38.1,27.4,2.4,9.4,4.2,119.1,4.2,35.7,125.80000000000001,7.7,15.0,3.3,22.7,125.80000000000001,100.9,3.9,125.80000000000001,4.4,125.80000000000001,4.1,60.7,23.4,5.4,13.9,125.80000000000001,18.0,34.9,48.3,6.5,21.3,16.5,8.0,57.7,7.4,104.0,2.4,33.8,4.8,2.4,3.6,20.5,6.1,9.3,2.4,93.0,125.80000000000001,15.8,11.6,29.7,8.8,4.5],\"xaxis\":\"x2\",\"yaxis\":\"y2\",\"type\":\"box\"}],                        {\"template\":{\"data\":{\"histogram2dcontour\":[{\"type\":\"histogram2dcontour\",\"colorbar\":{\"outlinewidth\":0,\"ticks\":\"\"},\"colorscale\":[[0.0,\"#0d0887\"],[0.1111111111111111,\"#46039f\"],[0.2222222222222222,\"#7201a8\"],[0.3333333333333333,\"#9c179e\"],[0.4444444444444444,\"#bd3786\"],[0.5555555555555556,\"#d8576b\"],[0.6666666666666666,\"#ed7953\"],[0.7777777777777778,\"#fb9f3a\"],[0.8888888888888888,\"#fdca26\"],[1.0,\"#f0f921\"]]}],\"choropleth\":[{\"type\":\"choropleth\",\"colorbar\":{\"outlinewidth\":0,\"ticks\":\"\"}}],\"histogram2d\":[{\"type\":\"histogram2d\",\"colorbar\":{\"outlinewidth\":0,\"ticks\":\"\"},\"colorscale\":[[0.0,\"#0d0887\"],[0.1111111111111111,\"#46039f\"],[0.2222222222222222,\"#7201a8\"],[0.3333333333333333,\"#9c179e\"],[0.4444444444444444,\"#bd3786\"],[0.5555555555555556,\"#d8576b\"],[0.6666666666666666,\"#ed7953\"],[0.7777777777777778,\"#fb9f3a\"],[0.8888888888888888,\"#fdca26\"],[1.0,\"#f0f921\"]]}],\"heatmap\":[{\"type\":\"heatmap\",\"colorbar\":{\"outlinewidth\":0,\"ticks\":\"\"},\"colorscale\":[[0.0,\"#0d0887\"],[0.1111111111111111,\"#46039f\"],[0.2222222222222222,\"#7201a8\"],[0.3333333333333333,\"#9c179e\"],[0.4444444444444444,\"#bd3786\"],[0.5555555555555556,\"#d8576b\"],[0.6666666666666666,\"#ed7953\"],[0.7777777777777778,\"#fb9f3a\"],[0.8888888888888888,\"#fdca26\"],[1.0,\"#f0f921\"]]}],\"heatmapgl\":[{\"type\":\"heatmapgl\",\"colorbar\":{\"outlinewidth\":0,\"ticks\":\"\"},\"colorscale\":[[0.0,\"#0d0887\"],[0.1111111111111111,\"#46039f\"],[0.2222222222222222,\"#7201a8\"],[0.3333333333333333,\"#9c179e\"],[0.4444444444444444,\"#bd3786\"],[0.5555555555555556,\"#d8576b\"],[0.6666666666666666,\"#ed7953\"],[0.7777777777777778,\"#fb9f3a\"],[0.8888888888888888,\"#fdca26\"],[1.0,\"#f0f921\"]]}],\"contourcarpet\":[{\"type\":\"contourcarpet\",\"colorbar\":{\"outlinewidth\":0,\"ticks\":\"\"}}],\"contour\":[{\"type\":\"contour\",\"colorbar\":{\"outlinewidth\":0,\"ticks\":\"\"},\"colorscale\":[[0.0,\"#0d0887\"],[0.1111111111111111,\"#46039f\"],[0.2222222222222222,\"#7201a8\"],[0.3333333333333333,\"#9c179e\"],[0.4444444444444444,\"#bd3786\"],[0.5555555555555556,\"#d8576b\"],[0.6666666666666666,\"#ed7953\"],[0.7777777777777778,\"#fb9f3a\"],[0.8888888888888888,\"#fdca26\"],[1.0,\"#f0f921\"]]}],\"surface\":[{\"type\":\"surface\",\"colorbar\":{\"outlinewidth\":0,\"ticks\":\"\"},\"colorscale\":[[0.0,\"#0d0887\"],[0.1111111111111111,\"#46039f\"],[0.2222222222222222,\"#7201a8\"],[0.3333333333333333,\"#9c179e\"],[0.4444444444444444,\"#bd3786\"],[0.5555555555555556,\"#d8576b\"],[0.6666666666666666,\"#ed7953\"],[0.7777777777777778,\"#fb9f3a\"],[0.8888888888888888,\"#fdca26\"],[1.0,\"#f0f921\"]]}],\"mesh3d\":[{\"type\":\"mesh3d\",\"colorbar\":{\"outlinewidth\":0,\"ticks\":\"\"}}],\"scatter\":[{\"fillpattern\":{\"fillmode\":\"overlay\",\"size\":10,\"solidity\":0.2},\"type\":\"scatter\"}],\"parcoords\":[{\"type\":\"parcoords\",\"line\":{\"colorbar\":{\"outlinewidth\":0,\"ticks\":\"\"}}}],\"scatterpolargl\":[{\"type\":\"scatterpolargl\",\"marker\":{\"colorbar\":{\"outlinewidth\":0,\"ticks\":\"\"}}}],\"bar\":[{\"error_x\":{\"color\":\"#2a3f5f\"},\"error_y\":{\"color\":\"#2a3f5f\"},\"marker\":{\"line\":{\"color\":\"#E5ECF6\",\"width\":0.5},\"pattern\":{\"fillmode\":\"overlay\",\"size\":10,\"solidity\":0.2}},\"type\":\"bar\"}],\"scattergeo\":[{\"type\":\"scattergeo\",\"marker\":{\"colorbar\":{\"outlinewidth\":0,\"ticks\":\"\"}}}],\"scatterpolar\":[{\"type\":\"scatterpolar\",\"marker\":{\"colorbar\":{\"outlinewidth\":0,\"ticks\":\"\"}}}],\"histogram\":[{\"marker\":{\"pattern\":{\"fillmode\":\"overlay\",\"size\":10,\"solidity\":0.2}},\"type\":\"histogram\"}],\"scattergl\":[{\"type\":\"scattergl\",\"marker\":{\"colorbar\":{\"outlinewidth\":0,\"ticks\":\"\"}}}],\"scatter3d\":[{\"type\":\"scatter3d\",\"line\":{\"colorbar\":{\"outlinewidth\":0,\"ticks\":\"\"}},\"marker\":{\"colorbar\":{\"outlinewidth\":0,\"ticks\":\"\"}}}],\"scattermapbox\":[{\"type\":\"scattermapbox\",\"marker\":{\"colorbar\":{\"outlinewidth\":0,\"ticks\":\"\"}}}],\"scatterternary\":[{\"type\":\"scatterternary\",\"marker\":{\"colorbar\":{\"outlinewidth\":0,\"ticks\":\"\"}}}],\"scattercarpet\":[{\"type\":\"scattercarpet\",\"marker\":{\"colorbar\":{\"outlinewidth\":0,\"ticks\":\"\"}}}],\"carpet\":[{\"aaxis\":{\"endlinecolor\":\"#2a3f5f\",\"gridcolor\":\"white\",\"linecolor\":\"white\",\"minorgridcolor\":\"white\",\"startlinecolor\":\"#2a3f5f\"},\"baxis\":{\"endlinecolor\":\"#2a3f5f\",\"gridcolor\":\"white\",\"linecolor\":\"white\",\"minorgridcolor\":\"white\",\"startlinecolor\":\"#2a3f5f\"},\"type\":\"carpet\"}],\"table\":[{\"cells\":{\"fill\":{\"color\":\"#EBF0F8\"},\"line\":{\"color\":\"white\"}},\"header\":{\"fill\":{\"color\":\"#C8D4E3\"},\"line\":{\"color\":\"white\"}},\"type\":\"table\"}],\"barpolar\":[{\"marker\":{\"line\":{\"color\":\"#E5ECF6\",\"width\":0.5},\"pattern\":{\"fillmode\":\"overlay\",\"size\":10,\"solidity\":0.2}},\"type\":\"barpolar\"}],\"pie\":[{\"automargin\":true,\"type\":\"pie\"}]},\"layout\":{\"autotypenumbers\":\"strict\",\"colorway\":[\"#636efa\",\"#EF553B\",\"#00cc96\",\"#ab63fa\",\"#FFA15A\",\"#19d3f3\",\"#FF6692\",\"#B6E880\",\"#FF97FF\",\"#FECB52\"],\"font\":{\"color\":\"#2a3f5f\"},\"hovermode\":\"closest\",\"hoverlabel\":{\"align\":\"left\"},\"paper_bgcolor\":\"white\",\"plot_bgcolor\":\"#E5ECF6\",\"polar\":{\"bgcolor\":\"#E5ECF6\",\"angularaxis\":{\"gridcolor\":\"white\",\"linecolor\":\"white\",\"ticks\":\"\"},\"radialaxis\":{\"gridcolor\":\"white\",\"linecolor\":\"white\",\"ticks\":\"\"}},\"ternary\":{\"bgcolor\":\"#E5ECF6\",\"aaxis\":{\"gridcolor\":\"white\",\"linecolor\":\"white\",\"ticks\":\"\"},\"baxis\":{\"gridcolor\":\"white\",\"linecolor\":\"white\",\"ticks\":\"\"},\"caxis\":{\"gridcolor\":\"white\",\"linecolor\":\"white\",\"ticks\":\"\"}},\"coloraxis\":{\"colorbar\":{\"outlinewidth\":0,\"ticks\":\"\"}},\"colorscale\":{\"sequential\":[[0.0,\"#0d0887\"],[0.1111111111111111,\"#46039f\"],[0.2222222222222222,\"#7201a8\"],[0.3333333333333333,\"#9c179e\"],[0.4444444444444444,\"#bd3786\"],[0.5555555555555556,\"#d8576b\"],[0.6666666666666666,\"#ed7953\"],[0.7777777777777778,\"#fb9f3a\"],[0.8888888888888888,\"#fdca26\"],[1.0,\"#f0f921\"]],\"sequentialminus\":[[0.0,\"#0d0887\"],[0.1111111111111111,\"#46039f\"],[0.2222222222222222,\"#7201a8\"],[0.3333333333333333,\"#9c179e\"],[0.4444444444444444,\"#bd3786\"],[0.5555555555555556,\"#d8576b\"],[0.6666666666666666,\"#ed7953\"],[0.7777777777777778,\"#fb9f3a\"],[0.8888888888888888,\"#fdca26\"],[1.0,\"#f0f921\"]],\"diverging\":[[0,\"#8e0152\"],[0.1,\"#c51b7d\"],[0.2,\"#de77ae\"],[0.3,\"#f1b6da\"],[0.4,\"#fde0ef\"],[0.5,\"#f7f7f7\"],[0.6,\"#e6f5d0\"],[0.7,\"#b8e186\"],[0.8,\"#7fbc41\"],[0.9,\"#4d9221\"],[1,\"#276419\"]]},\"xaxis\":{\"gridcolor\":\"white\",\"linecolor\":\"white\",\"ticks\":\"\",\"title\":{\"standoff\":15},\"zerolinecolor\":\"white\",\"automargin\":true,\"zerolinewidth\":2},\"yaxis\":{\"gridcolor\":\"white\",\"linecolor\":\"white\",\"ticks\":\"\",\"title\":{\"standoff\":15},\"zerolinecolor\":\"white\",\"automargin\":true,\"zerolinewidth\":2},\"scene\":{\"xaxis\":{\"backgroundcolor\":\"#E5ECF6\",\"gridcolor\":\"white\",\"linecolor\":\"white\",\"showbackground\":true,\"ticks\":\"\",\"zerolinecolor\":\"white\",\"gridwidth\":2},\"yaxis\":{\"backgroundcolor\":\"#E5ECF6\",\"gridcolor\":\"white\",\"linecolor\":\"white\",\"showbackground\":true,\"ticks\":\"\",\"zerolinecolor\":\"white\",\"gridwidth\":2},\"zaxis\":{\"backgroundcolor\":\"#E5ECF6\",\"gridcolor\":\"white\",\"linecolor\":\"white\",\"showbackground\":true,\"ticks\":\"\",\"zerolinecolor\":\"white\",\"gridwidth\":2}},\"shapedefaults\":{\"line\":{\"color\":\"#2a3f5f\"}},\"annotationdefaults\":{\"arrowcolor\":\"#2a3f5f\",\"arrowhead\":0,\"arrowwidth\":1},\"geo\":{\"bgcolor\":\"white\",\"landcolor\":\"#E5ECF6\",\"subunitcolor\":\"white\",\"showland\":true,\"showlakes\":true,\"lakecolor\":\"white\"},\"title\":{\"x\":0.05},\"mapbox\":{\"style\":\"light\"}}},\"xaxis\":{\"anchor\":\"y\",\"domain\":[0.0,1.0],\"title\":{\"text\":\"revenue_in_millions\"}},\"yaxis\":{\"anchor\":\"x\",\"domain\":[0.0,0.8316],\"title\":{\"text\":\"count\"}},\"xaxis2\":{\"anchor\":\"y2\",\"domain\":[0.0,1.0],\"matches\":\"x\",\"showticklabels\":false,\"showgrid\":true},\"yaxis2\":{\"anchor\":\"x2\",\"domain\":[0.8416,1.0],\"matches\":\"y2\",\"showticklabels\":false,\"showline\":false,\"ticks\":\"\",\"showgrid\":false},\"legend\":{\"tracegroupgap\":0},\"title\":{\"text\":\"Distribution of Revenue\"},\"barmode\":\"relative\"},                        {\"responsive\": true}                    ).then(function(){\n",
       "                            \n",
       "var gd = document.getElementById('14acf892-cc09-4c4a-8be9-03278ef4ae5e');\n",
       "var x = new MutationObserver(function (mutations, observer) {{\n",
       "        var display = window.getComputedStyle(gd).display;\n",
       "        if (!display || display === 'none') {{\n",
       "            console.log([gd, 'removed!']);\n",
       "            Plotly.purge(gd);\n",
       "            observer.disconnect();\n",
       "        }}\n",
       "}});\n",
       "\n",
       "// Listen for the removal of the full notebook cells\n",
       "var notebookContainer = gd.closest('#notebook-container');\n",
       "if (notebookContainer) {{\n",
       "    x.observe(notebookContainer, {childList: true});\n",
       "}}\n",
       "\n",
       "// Listen for the clearing of the current output cell\n",
       "var outputEl = gd.closest('.output');\n",
       "if (outputEl) {{\n",
       "    x.observe(outputEl, {childList: true});\n",
       "}}\n",
       "\n",
       "                        })                };                });            </script>        </div>"
      ]
     },
     "metadata": {},
     "output_type": "display_data"
    }
   ],
   "source": [
    "lower_limit = np.quantile(df['revenue_in_millions'],0.05 )\n",
    "upper_limit = np.quantile(df['revenue_in_millions'],0.95 )\n",
    "\n",
    "df['revenue_in_millions'].clip(lower_limit, upper_limit, inplace=True)\n",
    "fig2 = px.histogram(df, x = 'revenue_in_millions', marginal = 'box',\n",
    "                    title = 'Distribution of Revenue', \n",
    "                   color_discrete_sequence=px.colors.qualitative.D3,\n",
    "                   nbins = 75)\n",
    "fig2.update_traces(marker_line_width=1,marker_line_color=\"white\")\n",
    "\n",
    "fig2.show()"
   ]
  },
  {
   "cell_type": "markdown",
   "id": "dac3db62",
   "metadata": {
    "papermill": {
     "duration": 0.017393,
     "end_time": "2023-09-07T14:59:16.531218",
     "exception": false,
     "start_time": "2023-09-07T14:59:16.513825",
     "status": "completed"
    },
    "tags": []
   },
   "source": [
    "**Inference** Most companies revenue are lie under 60 million and few of them also cross the revenue of more than 120 million and one good insight is that almost 1500 companies from 5000 revenue is between 2-8 million."
   ]
  },
  {
   "cell_type": "markdown",
   "id": "e3621cca",
   "metadata": {
    "papermill": {
     "duration": 0.017428,
     "end_time": "2023-09-07T14:59:16.566328",
     "exception": false,
     "start_time": "2023-09-07T14:59:16.548900",
     "status": "completed"
    },
    "tags": []
   },
   "source": [
    "**5) Which state have the highest revenue companies?**"
   ]
  },
  {
   "cell_type": "code",
   "execution_count": 16,
   "id": "faf84759",
   "metadata": {
    "execution": {
     "iopub.execute_input": "2023-09-07T14:59:16.603658Z",
     "iopub.status.busy": "2023-09-07T14:59:16.603165Z",
     "iopub.status.idle": "2023-09-07T14:59:16.687289Z",
     "shell.execute_reply": "2023-09-07T14:59:16.686391Z"
    },
    "papermill": {
     "duration": 0.105793,
     "end_time": "2023-09-07T14:59:16.689966",
     "exception": false,
     "start_time": "2023-09-07T14:59:16.584173",
     "status": "completed"
    },
    "tags": []
   },
   "outputs": [
    {
     "data": {
      "text/html": [
       "<div>                            <div id=\"657d484c-5591-4dfa-9afd-b9ff6feddd3d\" class=\"plotly-graph-div\" style=\"height:525px; width:100%;\"></div>            <script type=\"text/javascript\">                require([\"plotly\"], function(Plotly) {                    window.PLOTLYENV=window.PLOTLYENV || {};                                    if (document.getElementById(\"657d484c-5591-4dfa-9afd-b9ff6feddd3d\")) {                    Plotly.newPlot(                        \"657d484c-5591-4dfa-9afd-b9ff6feddd3d\",                        [{\"alignmentgroup\":\"True\",\"hovertemplate\":\"revenue_in_millions=%{x}<br>state=%{y}<extra></extra>\",\"legendgroup\":\"\",\"marker\":{\"color\":\"#000004\",\"pattern\":{\"shape\":\"\"}},\"name\":\"\",\"offsetgroup\":\"\",\"orientation\":\"h\",\"showlegend\":false,\"textposition\":\"auto\",\"x\":[16923.8,11092.5,8813.4,6858.8,6685.3,6416.1,5497.3,5309.8,4773.0,4150.9],\"xaxis\":\"x\",\"y\":[\"CA\",\"TX\",\"FL\",\"NY\",\"VA\",\"IL\",\"GA\",\"OH\",\"PA\",\"MA\"],\"yaxis\":\"y\",\"type\":\"bar\"}],                        {\"template\":{\"data\":{\"histogram2dcontour\":[{\"type\":\"histogram2dcontour\",\"colorbar\":{\"outlinewidth\":0,\"ticks\":\"\"},\"colorscale\":[[0.0,\"#0d0887\"],[0.1111111111111111,\"#46039f\"],[0.2222222222222222,\"#7201a8\"],[0.3333333333333333,\"#9c179e\"],[0.4444444444444444,\"#bd3786\"],[0.5555555555555556,\"#d8576b\"],[0.6666666666666666,\"#ed7953\"],[0.7777777777777778,\"#fb9f3a\"],[0.8888888888888888,\"#fdca26\"],[1.0,\"#f0f921\"]]}],\"choropleth\":[{\"type\":\"choropleth\",\"colorbar\":{\"outlinewidth\":0,\"ticks\":\"\"}}],\"histogram2d\":[{\"type\":\"histogram2d\",\"colorbar\":{\"outlinewidth\":0,\"ticks\":\"\"},\"colorscale\":[[0.0,\"#0d0887\"],[0.1111111111111111,\"#46039f\"],[0.2222222222222222,\"#7201a8\"],[0.3333333333333333,\"#9c179e\"],[0.4444444444444444,\"#bd3786\"],[0.5555555555555556,\"#d8576b\"],[0.6666666666666666,\"#ed7953\"],[0.7777777777777778,\"#fb9f3a\"],[0.8888888888888888,\"#fdca26\"],[1.0,\"#f0f921\"]]}],\"heatmap\":[{\"type\":\"heatmap\",\"colorbar\":{\"outlinewidth\":0,\"ticks\":\"\"},\"colorscale\":[[0.0,\"#0d0887\"],[0.1111111111111111,\"#46039f\"],[0.2222222222222222,\"#7201a8\"],[0.3333333333333333,\"#9c179e\"],[0.4444444444444444,\"#bd3786\"],[0.5555555555555556,\"#d8576b\"],[0.6666666666666666,\"#ed7953\"],[0.7777777777777778,\"#fb9f3a\"],[0.8888888888888888,\"#fdca26\"],[1.0,\"#f0f921\"]]}],\"heatmapgl\":[{\"type\":\"heatmapgl\",\"colorbar\":{\"outlinewidth\":0,\"ticks\":\"\"},\"colorscale\":[[0.0,\"#0d0887\"],[0.1111111111111111,\"#46039f\"],[0.2222222222222222,\"#7201a8\"],[0.3333333333333333,\"#9c179e\"],[0.4444444444444444,\"#bd3786\"],[0.5555555555555556,\"#d8576b\"],[0.6666666666666666,\"#ed7953\"],[0.7777777777777778,\"#fb9f3a\"],[0.8888888888888888,\"#fdca26\"],[1.0,\"#f0f921\"]]}],\"contourcarpet\":[{\"type\":\"contourcarpet\",\"colorbar\":{\"outlinewidth\":0,\"ticks\":\"\"}}],\"contour\":[{\"type\":\"contour\",\"colorbar\":{\"outlinewidth\":0,\"ticks\":\"\"},\"colorscale\":[[0.0,\"#0d0887\"],[0.1111111111111111,\"#46039f\"],[0.2222222222222222,\"#7201a8\"],[0.3333333333333333,\"#9c179e\"],[0.4444444444444444,\"#bd3786\"],[0.5555555555555556,\"#d8576b\"],[0.6666666666666666,\"#ed7953\"],[0.7777777777777778,\"#fb9f3a\"],[0.8888888888888888,\"#fdca26\"],[1.0,\"#f0f921\"]]}],\"surface\":[{\"type\":\"surface\",\"colorbar\":{\"outlinewidth\":0,\"ticks\":\"\"},\"colorscale\":[[0.0,\"#0d0887\"],[0.1111111111111111,\"#46039f\"],[0.2222222222222222,\"#7201a8\"],[0.3333333333333333,\"#9c179e\"],[0.4444444444444444,\"#bd3786\"],[0.5555555555555556,\"#d8576b\"],[0.6666666666666666,\"#ed7953\"],[0.7777777777777778,\"#fb9f3a\"],[0.8888888888888888,\"#fdca26\"],[1.0,\"#f0f921\"]]}],\"mesh3d\":[{\"type\":\"mesh3d\",\"colorbar\":{\"outlinewidth\":0,\"ticks\":\"\"}}],\"scatter\":[{\"fillpattern\":{\"fillmode\":\"overlay\",\"size\":10,\"solidity\":0.2},\"type\":\"scatter\"}],\"parcoords\":[{\"type\":\"parcoords\",\"line\":{\"colorbar\":{\"outlinewidth\":0,\"ticks\":\"\"}}}],\"scatterpolargl\":[{\"type\":\"scatterpolargl\",\"marker\":{\"colorbar\":{\"outlinewidth\":0,\"ticks\":\"\"}}}],\"bar\":[{\"error_x\":{\"color\":\"#2a3f5f\"},\"error_y\":{\"color\":\"#2a3f5f\"},\"marker\":{\"line\":{\"color\":\"#E5ECF6\",\"width\":0.5},\"pattern\":{\"fillmode\":\"overlay\",\"size\":10,\"solidity\":0.2}},\"type\":\"bar\"}],\"scattergeo\":[{\"type\":\"scattergeo\",\"marker\":{\"colorbar\":{\"outlinewidth\":0,\"ticks\":\"\"}}}],\"scatterpolar\":[{\"type\":\"scatterpolar\",\"marker\":{\"colorbar\":{\"outlinewidth\":0,\"ticks\":\"\"}}}],\"histogram\":[{\"marker\":{\"pattern\":{\"fillmode\":\"overlay\",\"size\":10,\"solidity\":0.2}},\"type\":\"histogram\"}],\"scattergl\":[{\"type\":\"scattergl\",\"marker\":{\"colorbar\":{\"outlinewidth\":0,\"ticks\":\"\"}}}],\"scatter3d\":[{\"type\":\"scatter3d\",\"line\":{\"colorbar\":{\"outlinewidth\":0,\"ticks\":\"\"}},\"marker\":{\"colorbar\":{\"outlinewidth\":0,\"ticks\":\"\"}}}],\"scattermapbox\":[{\"type\":\"scattermapbox\",\"marker\":{\"colorbar\":{\"outlinewidth\":0,\"ticks\":\"\"}}}],\"scatterternary\":[{\"type\":\"scatterternary\",\"marker\":{\"colorbar\":{\"outlinewidth\":0,\"ticks\":\"\"}}}],\"scattercarpet\":[{\"type\":\"scattercarpet\",\"marker\":{\"colorbar\":{\"outlinewidth\":0,\"ticks\":\"\"}}}],\"carpet\":[{\"aaxis\":{\"endlinecolor\":\"#2a3f5f\",\"gridcolor\":\"white\",\"linecolor\":\"white\",\"minorgridcolor\":\"white\",\"startlinecolor\":\"#2a3f5f\"},\"baxis\":{\"endlinecolor\":\"#2a3f5f\",\"gridcolor\":\"white\",\"linecolor\":\"white\",\"minorgridcolor\":\"white\",\"startlinecolor\":\"#2a3f5f\"},\"type\":\"carpet\"}],\"table\":[{\"cells\":{\"fill\":{\"color\":\"#EBF0F8\"},\"line\":{\"color\":\"white\"}},\"header\":{\"fill\":{\"color\":\"#C8D4E3\"},\"line\":{\"color\":\"white\"}},\"type\":\"table\"}],\"barpolar\":[{\"marker\":{\"line\":{\"color\":\"#E5ECF6\",\"width\":0.5},\"pattern\":{\"fillmode\":\"overlay\",\"size\":10,\"solidity\":0.2}},\"type\":\"barpolar\"}],\"pie\":[{\"automargin\":true,\"type\":\"pie\"}]},\"layout\":{\"autotypenumbers\":\"strict\",\"colorway\":[\"#636efa\",\"#EF553B\",\"#00cc96\",\"#ab63fa\",\"#FFA15A\",\"#19d3f3\",\"#FF6692\",\"#B6E880\",\"#FF97FF\",\"#FECB52\"],\"font\":{\"color\":\"#2a3f5f\"},\"hovermode\":\"closest\",\"hoverlabel\":{\"align\":\"left\"},\"paper_bgcolor\":\"white\",\"plot_bgcolor\":\"#E5ECF6\",\"polar\":{\"bgcolor\":\"#E5ECF6\",\"angularaxis\":{\"gridcolor\":\"white\",\"linecolor\":\"white\",\"ticks\":\"\"},\"radialaxis\":{\"gridcolor\":\"white\",\"linecolor\":\"white\",\"ticks\":\"\"}},\"ternary\":{\"bgcolor\":\"#E5ECF6\",\"aaxis\":{\"gridcolor\":\"white\",\"linecolor\":\"white\",\"ticks\":\"\"},\"baxis\":{\"gridcolor\":\"white\",\"linecolor\":\"white\",\"ticks\":\"\"},\"caxis\":{\"gridcolor\":\"white\",\"linecolor\":\"white\",\"ticks\":\"\"}},\"coloraxis\":{\"colorbar\":{\"outlinewidth\":0,\"ticks\":\"\"}},\"colorscale\":{\"sequential\":[[0.0,\"#0d0887\"],[0.1111111111111111,\"#46039f\"],[0.2222222222222222,\"#7201a8\"],[0.3333333333333333,\"#9c179e\"],[0.4444444444444444,\"#bd3786\"],[0.5555555555555556,\"#d8576b\"],[0.6666666666666666,\"#ed7953\"],[0.7777777777777778,\"#fb9f3a\"],[0.8888888888888888,\"#fdca26\"],[1.0,\"#f0f921\"]],\"sequentialminus\":[[0.0,\"#0d0887\"],[0.1111111111111111,\"#46039f\"],[0.2222222222222222,\"#7201a8\"],[0.3333333333333333,\"#9c179e\"],[0.4444444444444444,\"#bd3786\"],[0.5555555555555556,\"#d8576b\"],[0.6666666666666666,\"#ed7953\"],[0.7777777777777778,\"#fb9f3a\"],[0.8888888888888888,\"#fdca26\"],[1.0,\"#f0f921\"]],\"diverging\":[[0,\"#8e0152\"],[0.1,\"#c51b7d\"],[0.2,\"#de77ae\"],[0.3,\"#f1b6da\"],[0.4,\"#fde0ef\"],[0.5,\"#f7f7f7\"],[0.6,\"#e6f5d0\"],[0.7,\"#b8e186\"],[0.8,\"#7fbc41\"],[0.9,\"#4d9221\"],[1,\"#276419\"]]},\"xaxis\":{\"gridcolor\":\"white\",\"linecolor\":\"white\",\"ticks\":\"\",\"title\":{\"standoff\":15},\"zerolinecolor\":\"white\",\"automargin\":true,\"zerolinewidth\":2},\"yaxis\":{\"gridcolor\":\"white\",\"linecolor\":\"white\",\"ticks\":\"\",\"title\":{\"standoff\":15},\"zerolinecolor\":\"white\",\"automargin\":true,\"zerolinewidth\":2},\"scene\":{\"xaxis\":{\"backgroundcolor\":\"#E5ECF6\",\"gridcolor\":\"white\",\"linecolor\":\"white\",\"showbackground\":true,\"ticks\":\"\",\"zerolinecolor\":\"white\",\"gridwidth\":2},\"yaxis\":{\"backgroundcolor\":\"#E5ECF6\",\"gridcolor\":\"white\",\"linecolor\":\"white\",\"showbackground\":true,\"ticks\":\"\",\"zerolinecolor\":\"white\",\"gridwidth\":2},\"zaxis\":{\"backgroundcolor\":\"#E5ECF6\",\"gridcolor\":\"white\",\"linecolor\":\"white\",\"showbackground\":true,\"ticks\":\"\",\"zerolinecolor\":\"white\",\"gridwidth\":2}},\"shapedefaults\":{\"line\":{\"color\":\"#2a3f5f\"}},\"annotationdefaults\":{\"arrowcolor\":\"#2a3f5f\",\"arrowhead\":0,\"arrowwidth\":1},\"geo\":{\"bgcolor\":\"white\",\"landcolor\":\"#E5ECF6\",\"subunitcolor\":\"white\",\"showland\":true,\"showlakes\":true,\"lakecolor\":\"white\"},\"title\":{\"x\":0.05},\"mapbox\":{\"style\":\"light\"}}},\"xaxis\":{\"anchor\":\"y\",\"domain\":[0.0,1.0],\"title\":{\"text\":\"revenue_in_millions\"}},\"yaxis\":{\"anchor\":\"x\",\"domain\":[0.0,1.0],\"title\":{\"text\":\"state\"}},\"legend\":{\"tracegroupgap\":0},\"margin\":{\"t\":60},\"barmode\":\"relative\"},                        {\"responsive\": true}                    ).then(function(){\n",
       "                            \n",
       "var gd = document.getElementById('657d484c-5591-4dfa-9afd-b9ff6feddd3d');\n",
       "var x = new MutationObserver(function (mutations, observer) {{\n",
       "        var display = window.getComputedStyle(gd).display;\n",
       "        if (!display || display === 'none') {{\n",
       "            console.log([gd, 'removed!']);\n",
       "            Plotly.purge(gd);\n",
       "            observer.disconnect();\n",
       "        }}\n",
       "}});\n",
       "\n",
       "// Listen for the removal of the full notebook cells\n",
       "var notebookContainer = gd.closest('#notebook-container');\n",
       "if (notebookContainer) {{\n",
       "    x.observe(notebookContainer, {childList: true});\n",
       "}}\n",
       "\n",
       "// Listen for the clearing of the current output cell\n",
       "var outputEl = gd.closest('.output');\n",
       "if (outputEl) {{\n",
       "    x.observe(outputEl, {childList: true});\n",
       "}}\n",
       "\n",
       "                        })                };                });            </script>        </div>"
      ]
     },
     "metadata": {},
     "output_type": "display_data"
    }
   ],
   "source": [
    "df5 = df.groupby(['state'])['revenue_in_millions'].sum().sort_values(ascending = False).head(10).reset_index()\n",
    "df5\n",
    "\n",
    "px.bar(df5, x = 'revenue_in_millions',y = 'state', color_discrete_sequence =  px.colors.sequential.Inferno)"
   ]
  },
  {
   "cell_type": "markdown",
   "id": "9130190a",
   "metadata": {
    "papermill": {
     "duration": 0.017882,
     "end_time": "2023-09-07T14:59:16.726077",
     "exception": false,
     "start_time": "2023-09-07T14:59:16.708195",
     "status": "completed"
    },
    "tags": []
   },
   "source": [
    "**Inference:** Here we see that the state California , texas, florida, new york companies make highest revenue."
   ]
  },
  {
   "cell_type": "markdown",
   "id": "c7165c8d",
   "metadata": {
    "papermill": {
     "duration": 0.018189,
     "end_time": "2023-09-07T14:59:16.762495",
     "exception": false,
     "start_time": "2023-09-07T14:59:16.744306",
     "status": "completed"
    },
    "tags": []
   },
   "source": [
    "**6)Which industries saw the largest average growth rate?**"
   ]
  },
  {
   "cell_type": "code",
   "execution_count": 17,
   "id": "f89d2969",
   "metadata": {
    "execution": {
     "iopub.execute_input": "2023-09-07T14:59:16.801153Z",
     "iopub.status.busy": "2023-09-07T14:59:16.800054Z",
     "iopub.status.idle": "2023-09-07T14:59:16.881674Z",
     "shell.execute_reply": "2023-09-07T14:59:16.880667Z"
    },
    "papermill": {
     "duration": 0.103373,
     "end_time": "2023-09-07T14:59:16.884049",
     "exception": false,
     "start_time": "2023-09-07T14:59:16.780676",
     "status": "completed"
    },
    "tags": []
   },
   "outputs": [
    {
     "data": {
      "text/html": [
       "<div>                            <div id=\"5b7d1da3-0f5a-46f6-a1d1-a68765cbe751\" class=\"plotly-graph-div\" style=\"height:525px; width:100%;\"></div>            <script type=\"text/javascript\">                require([\"plotly\"], function(Plotly) {                    window.PLOTLYENV=window.PLOTLYENV || {};                                    if (document.getElementById(\"5b7d1da3-0f5a-46f6-a1d1-a68765cbe751\")) {                    Plotly.newPlot(                        \"5b7d1da3-0f5a-46f6-a1d1-a68765cbe751\",                        [{\"alignmentgroup\":\"True\",\"hovertemplate\":\"growth_%=%{x}<br>industry=%{y}<extra></extra>\",\"legendgroup\":\"\",\"marker\":{\"color\":\"darkred\",\"pattern\":{\"shape\":\"\"}},\"name\":\"\",\"offsetgroup\":\"\",\"orientation\":\"h\",\"showlegend\":false,\"textposition\":\"auto\",\"x\":[717.5633456989246,687.5348598726115,668.2255338582677,651.97524375,592.075591025641,584.8238018404908,546.9118808988765,524.6737607375271,515.4118898734176,490.1935925373134],\"xaxis\":\"x\",\"y\":[\"Logistics & Transportation\",\"Consumer Products & Services\",\"Food & Beverage\",\"Computer Hardware\",\"Energy\",\"Retail\",\"Health\",\"Software\",\"Telecommunications\",\"Security\"],\"yaxis\":\"y\",\"type\":\"bar\"}],                        {\"template\":{\"data\":{\"histogram2dcontour\":[{\"type\":\"histogram2dcontour\",\"colorbar\":{\"outlinewidth\":0,\"ticks\":\"\"},\"colorscale\":[[0.0,\"#0d0887\"],[0.1111111111111111,\"#46039f\"],[0.2222222222222222,\"#7201a8\"],[0.3333333333333333,\"#9c179e\"],[0.4444444444444444,\"#bd3786\"],[0.5555555555555556,\"#d8576b\"],[0.6666666666666666,\"#ed7953\"],[0.7777777777777778,\"#fb9f3a\"],[0.8888888888888888,\"#fdca26\"],[1.0,\"#f0f921\"]]}],\"choropleth\":[{\"type\":\"choropleth\",\"colorbar\":{\"outlinewidth\":0,\"ticks\":\"\"}}],\"histogram2d\":[{\"type\":\"histogram2d\",\"colorbar\":{\"outlinewidth\":0,\"ticks\":\"\"},\"colorscale\":[[0.0,\"#0d0887\"],[0.1111111111111111,\"#46039f\"],[0.2222222222222222,\"#7201a8\"],[0.3333333333333333,\"#9c179e\"],[0.4444444444444444,\"#bd3786\"],[0.5555555555555556,\"#d8576b\"],[0.6666666666666666,\"#ed7953\"],[0.7777777777777778,\"#fb9f3a\"],[0.8888888888888888,\"#fdca26\"],[1.0,\"#f0f921\"]]}],\"heatmap\":[{\"type\":\"heatmap\",\"colorbar\":{\"outlinewidth\":0,\"ticks\":\"\"},\"colorscale\":[[0.0,\"#0d0887\"],[0.1111111111111111,\"#46039f\"],[0.2222222222222222,\"#7201a8\"],[0.3333333333333333,\"#9c179e\"],[0.4444444444444444,\"#bd3786\"],[0.5555555555555556,\"#d8576b\"],[0.6666666666666666,\"#ed7953\"],[0.7777777777777778,\"#fb9f3a\"],[0.8888888888888888,\"#fdca26\"],[1.0,\"#f0f921\"]]}],\"heatmapgl\":[{\"type\":\"heatmapgl\",\"colorbar\":{\"outlinewidth\":0,\"ticks\":\"\"},\"colorscale\":[[0.0,\"#0d0887\"],[0.1111111111111111,\"#46039f\"],[0.2222222222222222,\"#7201a8\"],[0.3333333333333333,\"#9c179e\"],[0.4444444444444444,\"#bd3786\"],[0.5555555555555556,\"#d8576b\"],[0.6666666666666666,\"#ed7953\"],[0.7777777777777778,\"#fb9f3a\"],[0.8888888888888888,\"#fdca26\"],[1.0,\"#f0f921\"]]}],\"contourcarpet\":[{\"type\":\"contourcarpet\",\"colorbar\":{\"outlinewidth\":0,\"ticks\":\"\"}}],\"contour\":[{\"type\":\"contour\",\"colorbar\":{\"outlinewidth\":0,\"ticks\":\"\"},\"colorscale\":[[0.0,\"#0d0887\"],[0.1111111111111111,\"#46039f\"],[0.2222222222222222,\"#7201a8\"],[0.3333333333333333,\"#9c179e\"],[0.4444444444444444,\"#bd3786\"],[0.5555555555555556,\"#d8576b\"],[0.6666666666666666,\"#ed7953\"],[0.7777777777777778,\"#fb9f3a\"],[0.8888888888888888,\"#fdca26\"],[1.0,\"#f0f921\"]]}],\"surface\":[{\"type\":\"surface\",\"colorbar\":{\"outlinewidth\":0,\"ticks\":\"\"},\"colorscale\":[[0.0,\"#0d0887\"],[0.1111111111111111,\"#46039f\"],[0.2222222222222222,\"#7201a8\"],[0.3333333333333333,\"#9c179e\"],[0.4444444444444444,\"#bd3786\"],[0.5555555555555556,\"#d8576b\"],[0.6666666666666666,\"#ed7953\"],[0.7777777777777778,\"#fb9f3a\"],[0.8888888888888888,\"#fdca26\"],[1.0,\"#f0f921\"]]}],\"mesh3d\":[{\"type\":\"mesh3d\",\"colorbar\":{\"outlinewidth\":0,\"ticks\":\"\"}}],\"scatter\":[{\"fillpattern\":{\"fillmode\":\"overlay\",\"size\":10,\"solidity\":0.2},\"type\":\"scatter\"}],\"parcoords\":[{\"type\":\"parcoords\",\"line\":{\"colorbar\":{\"outlinewidth\":0,\"ticks\":\"\"}}}],\"scatterpolargl\":[{\"type\":\"scatterpolargl\",\"marker\":{\"colorbar\":{\"outlinewidth\":0,\"ticks\":\"\"}}}],\"bar\":[{\"error_x\":{\"color\":\"#2a3f5f\"},\"error_y\":{\"color\":\"#2a3f5f\"},\"marker\":{\"line\":{\"color\":\"#E5ECF6\",\"width\":0.5},\"pattern\":{\"fillmode\":\"overlay\",\"size\":10,\"solidity\":0.2}},\"type\":\"bar\"}],\"scattergeo\":[{\"type\":\"scattergeo\",\"marker\":{\"colorbar\":{\"outlinewidth\":0,\"ticks\":\"\"}}}],\"scatterpolar\":[{\"type\":\"scatterpolar\",\"marker\":{\"colorbar\":{\"outlinewidth\":0,\"ticks\":\"\"}}}],\"histogram\":[{\"marker\":{\"pattern\":{\"fillmode\":\"overlay\",\"size\":10,\"solidity\":0.2}},\"type\":\"histogram\"}],\"scattergl\":[{\"type\":\"scattergl\",\"marker\":{\"colorbar\":{\"outlinewidth\":0,\"ticks\":\"\"}}}],\"scatter3d\":[{\"type\":\"scatter3d\",\"line\":{\"colorbar\":{\"outlinewidth\":0,\"ticks\":\"\"}},\"marker\":{\"colorbar\":{\"outlinewidth\":0,\"ticks\":\"\"}}}],\"scattermapbox\":[{\"type\":\"scattermapbox\",\"marker\":{\"colorbar\":{\"outlinewidth\":0,\"ticks\":\"\"}}}],\"scatterternary\":[{\"type\":\"scatterternary\",\"marker\":{\"colorbar\":{\"outlinewidth\":0,\"ticks\":\"\"}}}],\"scattercarpet\":[{\"type\":\"scattercarpet\",\"marker\":{\"colorbar\":{\"outlinewidth\":0,\"ticks\":\"\"}}}],\"carpet\":[{\"aaxis\":{\"endlinecolor\":\"#2a3f5f\",\"gridcolor\":\"white\",\"linecolor\":\"white\",\"minorgridcolor\":\"white\",\"startlinecolor\":\"#2a3f5f\"},\"baxis\":{\"endlinecolor\":\"#2a3f5f\",\"gridcolor\":\"white\",\"linecolor\":\"white\",\"minorgridcolor\":\"white\",\"startlinecolor\":\"#2a3f5f\"},\"type\":\"carpet\"}],\"table\":[{\"cells\":{\"fill\":{\"color\":\"#EBF0F8\"},\"line\":{\"color\":\"white\"}},\"header\":{\"fill\":{\"color\":\"#C8D4E3\"},\"line\":{\"color\":\"white\"}},\"type\":\"table\"}],\"barpolar\":[{\"marker\":{\"line\":{\"color\":\"#E5ECF6\",\"width\":0.5},\"pattern\":{\"fillmode\":\"overlay\",\"size\":10,\"solidity\":0.2}},\"type\":\"barpolar\"}],\"pie\":[{\"automargin\":true,\"type\":\"pie\"}]},\"layout\":{\"autotypenumbers\":\"strict\",\"colorway\":[\"#636efa\",\"#EF553B\",\"#00cc96\",\"#ab63fa\",\"#FFA15A\",\"#19d3f3\",\"#FF6692\",\"#B6E880\",\"#FF97FF\",\"#FECB52\"],\"font\":{\"color\":\"#2a3f5f\"},\"hovermode\":\"closest\",\"hoverlabel\":{\"align\":\"left\"},\"paper_bgcolor\":\"white\",\"plot_bgcolor\":\"#E5ECF6\",\"polar\":{\"bgcolor\":\"#E5ECF6\",\"angularaxis\":{\"gridcolor\":\"white\",\"linecolor\":\"white\",\"ticks\":\"\"},\"radialaxis\":{\"gridcolor\":\"white\",\"linecolor\":\"white\",\"ticks\":\"\"}},\"ternary\":{\"bgcolor\":\"#E5ECF6\",\"aaxis\":{\"gridcolor\":\"white\",\"linecolor\":\"white\",\"ticks\":\"\"},\"baxis\":{\"gridcolor\":\"white\",\"linecolor\":\"white\",\"ticks\":\"\"},\"caxis\":{\"gridcolor\":\"white\",\"linecolor\":\"white\",\"ticks\":\"\"}},\"coloraxis\":{\"colorbar\":{\"outlinewidth\":0,\"ticks\":\"\"}},\"colorscale\":{\"sequential\":[[0.0,\"#0d0887\"],[0.1111111111111111,\"#46039f\"],[0.2222222222222222,\"#7201a8\"],[0.3333333333333333,\"#9c179e\"],[0.4444444444444444,\"#bd3786\"],[0.5555555555555556,\"#d8576b\"],[0.6666666666666666,\"#ed7953\"],[0.7777777777777778,\"#fb9f3a\"],[0.8888888888888888,\"#fdca26\"],[1.0,\"#f0f921\"]],\"sequentialminus\":[[0.0,\"#0d0887\"],[0.1111111111111111,\"#46039f\"],[0.2222222222222222,\"#7201a8\"],[0.3333333333333333,\"#9c179e\"],[0.4444444444444444,\"#bd3786\"],[0.5555555555555556,\"#d8576b\"],[0.6666666666666666,\"#ed7953\"],[0.7777777777777778,\"#fb9f3a\"],[0.8888888888888888,\"#fdca26\"],[1.0,\"#f0f921\"]],\"diverging\":[[0,\"#8e0152\"],[0.1,\"#c51b7d\"],[0.2,\"#de77ae\"],[0.3,\"#f1b6da\"],[0.4,\"#fde0ef\"],[0.5,\"#f7f7f7\"],[0.6,\"#e6f5d0\"],[0.7,\"#b8e186\"],[0.8,\"#7fbc41\"],[0.9,\"#4d9221\"],[1,\"#276419\"]]},\"xaxis\":{\"gridcolor\":\"white\",\"linecolor\":\"white\",\"ticks\":\"\",\"title\":{\"standoff\":15},\"zerolinecolor\":\"white\",\"automargin\":true,\"zerolinewidth\":2},\"yaxis\":{\"gridcolor\":\"white\",\"linecolor\":\"white\",\"ticks\":\"\",\"title\":{\"standoff\":15},\"zerolinecolor\":\"white\",\"automargin\":true,\"zerolinewidth\":2},\"scene\":{\"xaxis\":{\"backgroundcolor\":\"#E5ECF6\",\"gridcolor\":\"white\",\"linecolor\":\"white\",\"showbackground\":true,\"ticks\":\"\",\"zerolinecolor\":\"white\",\"gridwidth\":2},\"yaxis\":{\"backgroundcolor\":\"#E5ECF6\",\"gridcolor\":\"white\",\"linecolor\":\"white\",\"showbackground\":true,\"ticks\":\"\",\"zerolinecolor\":\"white\",\"gridwidth\":2},\"zaxis\":{\"backgroundcolor\":\"#E5ECF6\",\"gridcolor\":\"white\",\"linecolor\":\"white\",\"showbackground\":true,\"ticks\":\"\",\"zerolinecolor\":\"white\",\"gridwidth\":2}},\"shapedefaults\":{\"line\":{\"color\":\"#2a3f5f\"}},\"annotationdefaults\":{\"arrowcolor\":\"#2a3f5f\",\"arrowhead\":0,\"arrowwidth\":1},\"geo\":{\"bgcolor\":\"white\",\"landcolor\":\"#E5ECF6\",\"subunitcolor\":\"white\",\"showland\":true,\"showlakes\":true,\"lakecolor\":\"white\"},\"title\":{\"x\":0.05},\"mapbox\":{\"style\":\"light\"}}},\"xaxis\":{\"anchor\":\"y\",\"domain\":[0.0,1.0],\"title\":{\"text\":\"growth_%\"}},\"yaxis\":{\"anchor\":\"x\",\"domain\":[0.0,1.0],\"title\":{\"text\":\"industry\"}},\"legend\":{\"tracegroupgap\":0},\"margin\":{\"t\":60},\"barmode\":\"relative\"},                        {\"responsive\": true}                    ).then(function(){\n",
       "                            \n",
       "var gd = document.getElementById('5b7d1da3-0f5a-46f6-a1d1-a68765cbe751');\n",
       "var x = new MutationObserver(function (mutations, observer) {{\n",
       "        var display = window.getComputedStyle(gd).display;\n",
       "        if (!display || display === 'none') {{\n",
       "            console.log([gd, 'removed!']);\n",
       "            Plotly.purge(gd);\n",
       "            observer.disconnect();\n",
       "        }}\n",
       "}});\n",
       "\n",
       "// Listen for the removal of the full notebook cells\n",
       "var notebookContainer = gd.closest('#notebook-container');\n",
       "if (notebookContainer) {{\n",
       "    x.observe(notebookContainer, {childList: true});\n",
       "}}\n",
       "\n",
       "// Listen for the clearing of the current output cell\n",
       "var outputEl = gd.closest('.output');\n",
       "if (outputEl) {{\n",
       "    x.observe(outputEl, {childList: true});\n",
       "}}\n",
       "\n",
       "                        })                };                });            </script>        </div>"
      ]
     },
     "metadata": {},
     "output_type": "display_data"
    }
   ],
   "source": [
    "df6 = df.groupby(['industry'])['growth_%'].mean().sort_values(ascending = False).head(10).reset_index()\n",
    "df6\n",
    "\n",
    "px.bar(df6, x = 'growth_%',y = 'industry',color_discrete_sequence = ['darkred'])\n",
    "                 "
   ]
  },
  {
   "cell_type": "markdown",
   "id": "9fb9c924",
   "metadata": {
    "papermill": {
     "duration": 0.019104,
     "end_time": "2023-09-07T14:59:16.922322",
     "exception": false,
     "start_time": "2023-09-07T14:59:16.903218",
     "status": "completed"
    },
    "tags": []
   },
   "source": [
    "**Inference:** We find that on an average logistics & transportation make highest growth of almost 720% and then  \n",
    "              followed by Consumer product & services and food and bevarge but there is not much differnce among other industry"
   ]
  },
  {
   "cell_type": "markdown",
   "id": "1fa0482e",
   "metadata": {
    "papermill": {
     "duration": 0.019117,
     "end_time": "2023-09-07T14:59:16.960122",
     "exception": false,
     "start_time": "2023-09-07T14:59:16.941005",
     "status": "completed"
    },
    "tags": []
   },
   "source": [
    "**7) Which companies had the largest increase in staff/new hires?**"
   ]
  },
  {
   "cell_type": "code",
   "execution_count": 18,
   "id": "5a87e76b",
   "metadata": {
    "execution": {
     "iopub.execute_input": "2023-09-07T14:59:16.999711Z",
     "iopub.status.busy": "2023-09-07T14:59:16.998585Z",
     "iopub.status.idle": "2023-09-07T14:59:17.081233Z",
     "shell.execute_reply": "2023-09-07T14:59:17.080050Z"
    },
    "papermill": {
     "duration": 0.105414,
     "end_time": "2023-09-07T14:59:17.084107",
     "exception": false,
     "start_time": "2023-09-07T14:59:16.978693",
     "status": "completed"
    },
    "tags": []
   },
   "outputs": [
    {
     "data": {
      "text/html": [
       "<div>                            <div id=\"718c943c-5d60-4e1b-9a5e-5e0474358437\" class=\"plotly-graph-div\" style=\"height:525px; width:100%;\"></div>            <script type=\"text/javascript\">                require([\"plotly\"], function(Plotly) {                    window.PLOTLYENV=window.PLOTLYENV || {};                                    if (document.getElementById(\"718c943c-5d60-4e1b-9a5e-5e0474358437\")) {                    Plotly.newPlot(                        \"718c943c-5d60-4e1b-9a5e-5e0474358437\",                        [{\"alignmentgroup\":\"True\",\"hovertemplate\":\"new_workers=%{x}<br>industry=%{y}<extra></extra>\",\"legendgroup\":\"\",\"marker\":{\"color\":\"orange\",\"pattern\":{\"shape\":\"\"}},\"name\":\"\",\"offsetgroup\":\"\",\"orientation\":\"h\",\"showlegend\":false,\"textposition\":\"auto\",\"x\":[124752.0,89861.0,69226.0,62690.0,32599.0,32230.0,31915.0,21869.0,21500.0,20566.0],\"xaxis\":\"x\",\"y\":[\"Security\",\"Business Products & Services\",\"Health\",\"Human Resources\",\"Advertising & Marketing\",\"Software\",\"Food & Beverage\",\"Construction\",\"Logistics & Transportation\",\"Government Services\"],\"yaxis\":\"y\",\"type\":\"bar\"}],                        {\"template\":{\"data\":{\"histogram2dcontour\":[{\"type\":\"histogram2dcontour\",\"colorbar\":{\"outlinewidth\":0,\"ticks\":\"\"},\"colorscale\":[[0.0,\"#0d0887\"],[0.1111111111111111,\"#46039f\"],[0.2222222222222222,\"#7201a8\"],[0.3333333333333333,\"#9c179e\"],[0.4444444444444444,\"#bd3786\"],[0.5555555555555556,\"#d8576b\"],[0.6666666666666666,\"#ed7953\"],[0.7777777777777778,\"#fb9f3a\"],[0.8888888888888888,\"#fdca26\"],[1.0,\"#f0f921\"]]}],\"choropleth\":[{\"type\":\"choropleth\",\"colorbar\":{\"outlinewidth\":0,\"ticks\":\"\"}}],\"histogram2d\":[{\"type\":\"histogram2d\",\"colorbar\":{\"outlinewidth\":0,\"ticks\":\"\"},\"colorscale\":[[0.0,\"#0d0887\"],[0.1111111111111111,\"#46039f\"],[0.2222222222222222,\"#7201a8\"],[0.3333333333333333,\"#9c179e\"],[0.4444444444444444,\"#bd3786\"],[0.5555555555555556,\"#d8576b\"],[0.6666666666666666,\"#ed7953\"],[0.7777777777777778,\"#fb9f3a\"],[0.8888888888888888,\"#fdca26\"],[1.0,\"#f0f921\"]]}],\"heatmap\":[{\"type\":\"heatmap\",\"colorbar\":{\"outlinewidth\":0,\"ticks\":\"\"},\"colorscale\":[[0.0,\"#0d0887\"],[0.1111111111111111,\"#46039f\"],[0.2222222222222222,\"#7201a8\"],[0.3333333333333333,\"#9c179e\"],[0.4444444444444444,\"#bd3786\"],[0.5555555555555556,\"#d8576b\"],[0.6666666666666666,\"#ed7953\"],[0.7777777777777778,\"#fb9f3a\"],[0.8888888888888888,\"#fdca26\"],[1.0,\"#f0f921\"]]}],\"heatmapgl\":[{\"type\":\"heatmapgl\",\"colorbar\":{\"outlinewidth\":0,\"ticks\":\"\"},\"colorscale\":[[0.0,\"#0d0887\"],[0.1111111111111111,\"#46039f\"],[0.2222222222222222,\"#7201a8\"],[0.3333333333333333,\"#9c179e\"],[0.4444444444444444,\"#bd3786\"],[0.5555555555555556,\"#d8576b\"],[0.6666666666666666,\"#ed7953\"],[0.7777777777777778,\"#fb9f3a\"],[0.8888888888888888,\"#fdca26\"],[1.0,\"#f0f921\"]]}],\"contourcarpet\":[{\"type\":\"contourcarpet\",\"colorbar\":{\"outlinewidth\":0,\"ticks\":\"\"}}],\"contour\":[{\"type\":\"contour\",\"colorbar\":{\"outlinewidth\":0,\"ticks\":\"\"},\"colorscale\":[[0.0,\"#0d0887\"],[0.1111111111111111,\"#46039f\"],[0.2222222222222222,\"#7201a8\"],[0.3333333333333333,\"#9c179e\"],[0.4444444444444444,\"#bd3786\"],[0.5555555555555556,\"#d8576b\"],[0.6666666666666666,\"#ed7953\"],[0.7777777777777778,\"#fb9f3a\"],[0.8888888888888888,\"#fdca26\"],[1.0,\"#f0f921\"]]}],\"surface\":[{\"type\":\"surface\",\"colorbar\":{\"outlinewidth\":0,\"ticks\":\"\"},\"colorscale\":[[0.0,\"#0d0887\"],[0.1111111111111111,\"#46039f\"],[0.2222222222222222,\"#7201a8\"],[0.3333333333333333,\"#9c179e\"],[0.4444444444444444,\"#bd3786\"],[0.5555555555555556,\"#d8576b\"],[0.6666666666666666,\"#ed7953\"],[0.7777777777777778,\"#fb9f3a\"],[0.8888888888888888,\"#fdca26\"],[1.0,\"#f0f921\"]]}],\"mesh3d\":[{\"type\":\"mesh3d\",\"colorbar\":{\"outlinewidth\":0,\"ticks\":\"\"}}],\"scatter\":[{\"fillpattern\":{\"fillmode\":\"overlay\",\"size\":10,\"solidity\":0.2},\"type\":\"scatter\"}],\"parcoords\":[{\"type\":\"parcoords\",\"line\":{\"colorbar\":{\"outlinewidth\":0,\"ticks\":\"\"}}}],\"scatterpolargl\":[{\"type\":\"scatterpolargl\",\"marker\":{\"colorbar\":{\"outlinewidth\":0,\"ticks\":\"\"}}}],\"bar\":[{\"error_x\":{\"color\":\"#2a3f5f\"},\"error_y\":{\"color\":\"#2a3f5f\"},\"marker\":{\"line\":{\"color\":\"#E5ECF6\",\"width\":0.5},\"pattern\":{\"fillmode\":\"overlay\",\"size\":10,\"solidity\":0.2}},\"type\":\"bar\"}],\"scattergeo\":[{\"type\":\"scattergeo\",\"marker\":{\"colorbar\":{\"outlinewidth\":0,\"ticks\":\"\"}}}],\"scatterpolar\":[{\"type\":\"scatterpolar\",\"marker\":{\"colorbar\":{\"outlinewidth\":0,\"ticks\":\"\"}}}],\"histogram\":[{\"marker\":{\"pattern\":{\"fillmode\":\"overlay\",\"size\":10,\"solidity\":0.2}},\"type\":\"histogram\"}],\"scattergl\":[{\"type\":\"scattergl\",\"marker\":{\"colorbar\":{\"outlinewidth\":0,\"ticks\":\"\"}}}],\"scatter3d\":[{\"type\":\"scatter3d\",\"line\":{\"colorbar\":{\"outlinewidth\":0,\"ticks\":\"\"}},\"marker\":{\"colorbar\":{\"outlinewidth\":0,\"ticks\":\"\"}}}],\"scattermapbox\":[{\"type\":\"scattermapbox\",\"marker\":{\"colorbar\":{\"outlinewidth\":0,\"ticks\":\"\"}}}],\"scatterternary\":[{\"type\":\"scatterternary\",\"marker\":{\"colorbar\":{\"outlinewidth\":0,\"ticks\":\"\"}}}],\"scattercarpet\":[{\"type\":\"scattercarpet\",\"marker\":{\"colorbar\":{\"outlinewidth\":0,\"ticks\":\"\"}}}],\"carpet\":[{\"aaxis\":{\"endlinecolor\":\"#2a3f5f\",\"gridcolor\":\"white\",\"linecolor\":\"white\",\"minorgridcolor\":\"white\",\"startlinecolor\":\"#2a3f5f\"},\"baxis\":{\"endlinecolor\":\"#2a3f5f\",\"gridcolor\":\"white\",\"linecolor\":\"white\",\"minorgridcolor\":\"white\",\"startlinecolor\":\"#2a3f5f\"},\"type\":\"carpet\"}],\"table\":[{\"cells\":{\"fill\":{\"color\":\"#EBF0F8\"},\"line\":{\"color\":\"white\"}},\"header\":{\"fill\":{\"color\":\"#C8D4E3\"},\"line\":{\"color\":\"white\"}},\"type\":\"table\"}],\"barpolar\":[{\"marker\":{\"line\":{\"color\":\"#E5ECF6\",\"width\":0.5},\"pattern\":{\"fillmode\":\"overlay\",\"size\":10,\"solidity\":0.2}},\"type\":\"barpolar\"}],\"pie\":[{\"automargin\":true,\"type\":\"pie\"}]},\"layout\":{\"autotypenumbers\":\"strict\",\"colorway\":[\"#636efa\",\"#EF553B\",\"#00cc96\",\"#ab63fa\",\"#FFA15A\",\"#19d3f3\",\"#FF6692\",\"#B6E880\",\"#FF97FF\",\"#FECB52\"],\"font\":{\"color\":\"#2a3f5f\"},\"hovermode\":\"closest\",\"hoverlabel\":{\"align\":\"left\"},\"paper_bgcolor\":\"white\",\"plot_bgcolor\":\"#E5ECF6\",\"polar\":{\"bgcolor\":\"#E5ECF6\",\"angularaxis\":{\"gridcolor\":\"white\",\"linecolor\":\"white\",\"ticks\":\"\"},\"radialaxis\":{\"gridcolor\":\"white\",\"linecolor\":\"white\",\"ticks\":\"\"}},\"ternary\":{\"bgcolor\":\"#E5ECF6\",\"aaxis\":{\"gridcolor\":\"white\",\"linecolor\":\"white\",\"ticks\":\"\"},\"baxis\":{\"gridcolor\":\"white\",\"linecolor\":\"white\",\"ticks\":\"\"},\"caxis\":{\"gridcolor\":\"white\",\"linecolor\":\"white\",\"ticks\":\"\"}},\"coloraxis\":{\"colorbar\":{\"outlinewidth\":0,\"ticks\":\"\"}},\"colorscale\":{\"sequential\":[[0.0,\"#0d0887\"],[0.1111111111111111,\"#46039f\"],[0.2222222222222222,\"#7201a8\"],[0.3333333333333333,\"#9c179e\"],[0.4444444444444444,\"#bd3786\"],[0.5555555555555556,\"#d8576b\"],[0.6666666666666666,\"#ed7953\"],[0.7777777777777778,\"#fb9f3a\"],[0.8888888888888888,\"#fdca26\"],[1.0,\"#f0f921\"]],\"sequentialminus\":[[0.0,\"#0d0887\"],[0.1111111111111111,\"#46039f\"],[0.2222222222222222,\"#7201a8\"],[0.3333333333333333,\"#9c179e\"],[0.4444444444444444,\"#bd3786\"],[0.5555555555555556,\"#d8576b\"],[0.6666666666666666,\"#ed7953\"],[0.7777777777777778,\"#fb9f3a\"],[0.8888888888888888,\"#fdca26\"],[1.0,\"#f0f921\"]],\"diverging\":[[0,\"#8e0152\"],[0.1,\"#c51b7d\"],[0.2,\"#de77ae\"],[0.3,\"#f1b6da\"],[0.4,\"#fde0ef\"],[0.5,\"#f7f7f7\"],[0.6,\"#e6f5d0\"],[0.7,\"#b8e186\"],[0.8,\"#7fbc41\"],[0.9,\"#4d9221\"],[1,\"#276419\"]]},\"xaxis\":{\"gridcolor\":\"white\",\"linecolor\":\"white\",\"ticks\":\"\",\"title\":{\"standoff\":15},\"zerolinecolor\":\"white\",\"automargin\":true,\"zerolinewidth\":2},\"yaxis\":{\"gridcolor\":\"white\",\"linecolor\":\"white\",\"ticks\":\"\",\"title\":{\"standoff\":15},\"zerolinecolor\":\"white\",\"automargin\":true,\"zerolinewidth\":2},\"scene\":{\"xaxis\":{\"backgroundcolor\":\"#E5ECF6\",\"gridcolor\":\"white\",\"linecolor\":\"white\",\"showbackground\":true,\"ticks\":\"\",\"zerolinecolor\":\"white\",\"gridwidth\":2},\"yaxis\":{\"backgroundcolor\":\"#E5ECF6\",\"gridcolor\":\"white\",\"linecolor\":\"white\",\"showbackground\":true,\"ticks\":\"\",\"zerolinecolor\":\"white\",\"gridwidth\":2},\"zaxis\":{\"backgroundcolor\":\"#E5ECF6\",\"gridcolor\":\"white\",\"linecolor\":\"white\",\"showbackground\":true,\"ticks\":\"\",\"zerolinecolor\":\"white\",\"gridwidth\":2}},\"shapedefaults\":{\"line\":{\"color\":\"#2a3f5f\"}},\"annotationdefaults\":{\"arrowcolor\":\"#2a3f5f\",\"arrowhead\":0,\"arrowwidth\":1},\"geo\":{\"bgcolor\":\"white\",\"landcolor\":\"#E5ECF6\",\"subunitcolor\":\"white\",\"showland\":true,\"showlakes\":true,\"lakecolor\":\"white\"},\"title\":{\"x\":0.05},\"mapbox\":{\"style\":\"light\"}}},\"xaxis\":{\"anchor\":\"y\",\"domain\":[0.0,1.0],\"title\":{\"text\":\"new_workers\"}},\"yaxis\":{\"anchor\":\"x\",\"domain\":[0.0,1.0],\"title\":{\"text\":\"industry\"}},\"legend\":{\"tracegroupgap\":0},\"margin\":{\"t\":60},\"barmode\":\"relative\"},                        {\"responsive\": true}                    ).then(function(){\n",
       "                            \n",
       "var gd = document.getElementById('718c943c-5d60-4e1b-9a5e-5e0474358437');\n",
       "var x = new MutationObserver(function (mutations, observer) {{\n",
       "        var display = window.getComputedStyle(gd).display;\n",
       "        if (!display || display === 'none') {{\n",
       "            console.log([gd, 'removed!']);\n",
       "            Plotly.purge(gd);\n",
       "            observer.disconnect();\n",
       "        }}\n",
       "}});\n",
       "\n",
       "// Listen for the removal of the full notebook cells\n",
       "var notebookContainer = gd.closest('#notebook-container');\n",
       "if (notebookContainer) {{\n",
       "    x.observe(notebookContainer, {childList: true});\n",
       "}}\n",
       "\n",
       "// Listen for the clearing of the current output cell\n",
       "var outputEl = gd.closest('.output');\n",
       "if (outputEl) {{\n",
       "    x.observe(outputEl, {childList: true});\n",
       "}}\n",
       "\n",
       "                        })                };                });            </script>        </div>"
      ]
     },
     "metadata": {},
     "output_type": "display_data"
    }
   ],
   "source": [
    "df['new_workers'] = df['workers'] - df['previous_workers']\n",
    "df7 = df.groupby(['industry'])['new_workers'].sum().sort_values(ascending = False).head(10).reset_index()\n",
    "df7\n",
    "\n",
    "px.bar(df7, x = 'new_workers',y = 'industry',color_discrete_sequence = ['orange'])"
   ]
  },
  {
   "cell_type": "markdown",
   "id": "2af616db",
   "metadata": {
    "papermill": {
     "duration": 0.019048,
     "end_time": "2023-09-07T14:59:17.122351",
     "exception": false,
     "start_time": "2023-09-07T14:59:17.103303",
     "status": "completed"
    },
    "tags": []
   },
   "source": [
    "**Inference:** Maximum hiring is done in software industry which is almost 10K greater than second industry of marketing."
   ]
  },
  {
   "cell_type": "markdown",
   "id": "7a74e079",
   "metadata": {
    "papermill": {
     "duration": 0.018824,
     "end_time": "2023-09-07T14:59:17.160123",
     "exception": false,
     "start_time": "2023-09-07T14:59:17.141299",
     "status": "completed"
    },
    "tags": []
   },
   "source": [
    "### 3. Conclusion:  <a id=\"4\"></a>\n",
    "In this dataset first we look at a dataset and try to understand the data by looking the data type of variable,  \n",
    "various properties of dataset. Then we preprocess the data by filtering the missing value, remove the outlier,  \n",
    "remove the unwanted the columns and change the data type of variable which are necessary for further process and finally  \n",
    "we went to Data Visualization where we find the top companies interm of revenue. which are most suitable state to   \n",
    "established company. In which sector there highest increase in staff.Finded the distributon of revenue of all company."
   ]
  }
 ],
 "kernelspec": {
  "display_name": "Python 3",
  "language": "python",
  "name": "python3"
 },
 "language_info": {
  "codemirror_mode": {
   "name": "ipython",
   "version": 3
  },
  "file_extension": ".py",
  "mimetype": "text/x-python",
  "name": "python",
  "nbconvert_exporter": "python",
  "pygments_lexer": "ipython3",
  "version": "3.6.4"
 },
 "metadata": {
  "kernelspec": {
   "display_name": "Python 3",
   "language": "python",
   "name": "python3"
  },
  "language_info": {
   "codemirror_mode": {
    "name": "ipython",
    "version": 3
   },
   "file_extension": ".py",
   "mimetype": "text/x-python",
   "name": "python",
   "nbconvert_exporter": "python",
   "pygments_lexer": "ipython3",
   "version": "3.7.12"
  },
  "papermill": {
   "default_parameters": {},
   "duration": 21.468162,
   "end_time": "2023-09-07T14:59:18.102117",
   "environment_variables": {},
   "exception": null,
   "input_path": "__notebook__.ipynb",
   "output_path": "__notebook__.ipynb",
   "parameters": {},
   "start_time": "2023-09-07T14:58:56.633955",
   "version": "2.3.4"
  }
 },
 "nbformat": 4,
 "nbformat_minor": 5
}
